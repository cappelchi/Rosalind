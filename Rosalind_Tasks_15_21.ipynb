{
  "nbformat": 4,
  "nbformat_minor": 0,
  "metadata": {
    "colab": {
      "name": "Rosalind Tasks 15_21.ipnyb",
      "provenance": [],
      "collapsed_sections": [],
      "include_colab_link": true
    },
    "kernelspec": {
      "name": "python3",
      "display_name": "Python 3"
    }
  },
  "cells": [
    {
      "cell_type": "markdown",
      "metadata": {
        "id": "view-in-github",
        "colab_type": "text"
      },
      "source": [
        "<a href=\"https://colab.research.google.com/github/cappelchi/Rosalind/blob/master/Rosalind_Tasks_15_21.ipynb\" target=\"_parent\"><img src=\"https://colab.research.google.com/assets/colab-badge.svg\" alt=\"Open In Colab\"/></a>"
      ]
    },
    {
      "cell_type": "markdown",
      "metadata": {
        "id": "Z9kQgORaFfSu",
        "colab_type": "text"
      },
      "source": [
        "https://www.tutorialspoint.com/biopython/biopython_quick_guide.htm\n"
      ]
    },
    {
      "cell_type": "code",
      "metadata": {
        "id": "u5UOxlYuFJaZ",
        "colab_type": "code",
        "outputId": "71aa601d-fb1f-4f79-eaa4-834b7862c77d",
        "colab": {
          "base_uri": "https://localhost:8080/",
          "height": 143
        }
      },
      "source": [
        "!pip install biopython"
      ],
      "execution_count": 0,
      "outputs": [
        {
          "output_type": "stream",
          "text": [
            "Collecting biopython\n",
            "\u001b[?25l  Downloading https://files.pythonhosted.org/packages/ed/77/de3ba8f3d3015455f5df859c082729198ee6732deaeb4b87b9cfbfbaafe3/biopython-1.74-cp36-cp36m-manylinux1_x86_64.whl (2.2MB)\n",
            "\u001b[K     |████████████████████████████████| 2.2MB 10.1MB/s \n",
            "\u001b[?25hRequirement already satisfied: numpy in /usr/local/lib/python3.6/dist-packages (from biopython) (1.16.5)\n",
            "Installing collected packages: biopython\n",
            "Successfully installed biopython-1.74\n"
          ],
          "name": "stdout"
        }
      ]
    },
    {
      "cell_type": "code",
      "metadata": {
        "id": "aD4ljmnpFzPN",
        "colab_type": "code",
        "outputId": "55f9340f-526f-489d-c706-93387ba42e17",
        "colab": {
          "base_uri": "https://localhost:8080/",
          "height": 52
        }
      },
      "source": [
        "import sys\n",
        "print(sys.version)\n",
        "import numpy as np\n",
        "import pandas as pd"
      ],
      "execution_count": 0,
      "outputs": [
        {
          "output_type": "stream",
          "text": [
            "3.6.8 (default, Jan 14 2019, 11:02:34) \n",
            "[GCC 8.0.1 20180414 (experimental) [trunk revision 259383]]\n"
          ],
          "name": "stdout"
        }
      ]
    },
    {
      "cell_type": "code",
      "metadata": {
        "id": "9X5m35ZmGJVa",
        "colab_type": "code",
        "colab": {}
      },
      "source": [
        "from Bio.SeqIO import parse \n",
        "from Bio.SeqRecord import SeqRecord \n",
        "from Bio.Seq import Seq \n",
        "from Bio.Alphabet import single_letter_alphabet \n",
        "from Bio.Alphabet import generic_protein \n",
        "from Bio.Alphabet import generic_nucleotide \n",
        "from Bio.Alphabet import generic_dna \n",
        "from Bio.Alphabet import generic_rna\n",
        "from Bio.Alphabet import IUPAC \n",
        "from Bio.Data import IUPACData \n",
        "from Bio.SeqUtils import GC \n",
        "from Bio.Seq import transcribe\n",
        "from Bio.Seq import translate\n",
        "from Bio import pairwise2\n",
        "from Bio import motifs \n",
        "from Bio import SeqIO\n",
        "from Bio import ExPASy\n",
        "from Bio.Data import CodonTable"
      ],
      "execution_count": 0,
      "outputs": []
    },
    {
      "cell_type": "code",
      "metadata": {
        "id": "-mQiDfx3I1Wk",
        "colab_type": "code",
        "outputId": "bcb1e4b8-cd44-4292-a265-1f142762b578",
        "colab": {
          "base_uri": "https://localhost:8080/",
          "height": 34
        }
      },
      "source": [
        "!ls"
      ],
      "execution_count": 0,
      "outputs": [
        {
          "output_type": "stream",
          "text": [
            "sample_data\n"
          ],
          "name": "stdout"
        }
      ]
    },
    {
      "cell_type": "markdown",
      "metadata": {
        "id": "K7wp584UNOZ5",
        "colab_type": "text"
      },
      "source": [
        "#### Task 15 Independent Alleles"
      ]
    },
    {
      "cell_type": "markdown",
      "metadata": {
        "id": "2GFLeXDFiX4X",
        "colab_type": "text"
      },
      "source": [
        "![Problem](http://rosalind.info/media/problems/lia/two_dice.thumb.png)\n",
        "Two events A and B are independent if Pr(A and B) is equal to Pr(A)×Pr(B). In other words, the events do not influence each other, so that we may simply calculate each of the individual probabilities separately and then multiply.\n",
        "\n",
        "More generally, random variables X and Y are independent if whenever A and B are respective events for X and Y, A and B are independent (i.e., Pr(A and B)=Pr(A)×Pr(B)).\n",
        "\n",
        "As an example of how helpful independence can be for calculating probabilities, let X and Y represent the numbers showing on two six-sided dice. Intuitively, the number of pips showing on one die should not affect the number showing on the other die. If we want to find the probability that X+Y is odd, then we don't need to draw a tree diagram and consider all possibilities. We simply first note that for X+Y to be odd, either X is even and Y is odd or X is odd and Y is even. In terms of probability, Pr(X+Y is odd)=Pr(X is even and Y is odd)+Pr(X is odd and Y is even). Using independence, this becomes [Pr(X is even)×Pr(Y is odd)]+[Pr(X is odd)×Pr(Y is even)], or (12)2+(12)2=12. You can verify this result in Figure 2, which shows all 36 outcomes for rolling two dice.\n",
        "\n",
        "Given: Two positive integers k (k≤7) and N (N≤2k). In this problem, we begin with Tom, who in the 0th generation has genotype Aa Bb. Tom has two children in the 1st generation, each of whom has two children, and so on. Each organism always mates with an organism having genotype Aa Bb.\n",
        "\n",
        "Return: The probability that at least N Aa Bb organisms will belong to the k-th generation of Tom's family tree (don't count the Aa Bb mates at each level). Assume that Mendel's second law holds for the factors."
      ]
    },
    {
      "cell_type": "code",
      "metadata": {
        "id": "QQXmhu2UZSiN",
        "colab_type": "code",
        "colab": {}
      },
      "source": [
        "import operator as op\n",
        "from functools import reduce"
      ],
      "execution_count": 0,
      "outputs": []
    },
    {
      "cell_type": "code",
      "metadata": {
        "id": "HNghNsCxLdrU",
        "colab_type": "code",
        "colab": {}
      },
      "source": [
        "K = 5\n",
        "N = 8"
      ],
      "execution_count": 0,
      "outputs": []
    },
    {
      "cell_type": "code",
      "metadata": {
        "id": "-SSz37laLt12",
        "colab_type": "code",
        "colab": {}
      },
      "source": [
        "def ncr(n, r):\n",
        "    r = min(r, n - r)\n",
        "    print ('r = ', r)\n",
        "    if r == 0: return 1\n",
        "    numer = reduce(op.mul, range(n, n - r, -1))\n",
        "    print ('numer = ', numer)\n",
        "    denom = reduce(op.mul, range(1, r + 1))\n",
        "    print ('denom = ', denom)\n",
        "    print ('return =', numer // denom)\n",
        "    return numer // denom\n",
        "\n",
        "\n",
        "k, n = 5, 8\n",
        "\n",
        "acc = 0\n",
        "\n",
        "# changing these variable names to make it clear to read.\n",
        "# N = 2^k = total number of organisms at the kth level.\n",
        "# K equals to the number of 'successes'\n",
        "\n",
        "N = pow(2, k)\n",
        "K = n\n",
        "print (N, K)Ftrans\n",
        "\n",
        "for i in range(K, N + 1):\n",
        "    combinations = ncr(N, i)\n",
        "    print ('combinations = ', combinations)\n",
        "    success = pow(0.25, i)\n",
        "    print ('success = ', success)\n",
        "    failure = pow(0.75, N - i)\n",
        "    print ('failure =', failure)\n",
        "    acc += (combinations * success * failure)\n",
        "    print('acc =', acc)\n",
        "\n",
        "print (round(acc, 3))"
      ],
      "execution_count": 0,
      "outputs": []
    },
    {
      "cell_type": "markdown",
      "metadata": {
        "id": "Qw5_mqsYziMI",
        "colab_type": "text"
      },
      "source": [
        "####Task 16 Finding a Protein Motif"
      ]
    },
    {
      "cell_type": "markdown",
      "metadata": {
        "id": "ElOQ3lBJi6xt",
        "colab_type": "text"
      },
      "source": [
        "**Problem**\n",
        "To allow for the presence of its varying forms, a protein motif is represented by a shorthand as follows: [XY] means \"either X or Y\" and {X} means \"any amino acid except X.\" For example, the N-glycosylation motif is written as N{P}[ST]{P}.\n",
        "\n",
        "You can see the complete description and features of a particular protein by its access ID \"uniprot_id\" in the UniProt database, by inserting the ID number into\n",
        "\n",
        "http://www.uniprot.org/uniprot/uniprot_id\n",
        "Alternatively, you can obtain a protein sequence in FASTA format by following\n",
        "\n",
        "http://www.uniprot.org/uniprot/uniprot_id.fasta\n",
        "For example, the data for protein B5ZC00 can be found at http://www.uniprot.org/uniprot/B5ZC00.\n",
        "\n",
        "Given: At most 15 UniProt Protein Database access IDs.\n",
        "\n",
        "Return: For each protein possessing the N-glycosylation motif, output its given access ID followed by a list of locations in the protein string where the motif can be found."
      ]
    },
    {
      "cell_type": "code",
      "metadata": {
        "id": "ELUHgx9y3yC2",
        "colab_type": "code",
        "colab": {}
      },
      "source": [
        "with ExPASy.get_sprot_raw('B5ZC00') as handle:\n",
        "    seq_record = SeqIO.read(handle, \"swiss\")\n",
        "    sequence = seq_record.seq\n",
        "    print('Sequence = ', repr(seq_record.seq))\n",
        "    print(\"Length %i\" % len(seq_record))\n",
        "\n",
        "print (sequence[80:100])\n",
        "for count, alpha in enumerate(sequence):\n",
        "    if alpha == 'N':\n",
        "        print (count + 1, ': ', sequence[count:count+10])\n",
        "    "
      ],
      "execution_count": 0,
      "outputs": []
    },
    {
      "cell_type": "code",
      "metadata": {
        "id": "mVDotUc30Wsv",
        "colab_type": "code",
        "colab": {}
      },
      "source": [
        "#proteins = ['A2Z669', 'B5ZC00', 'P07204_TRBM_HUMAN', 'P20840_SAG1_YEAST']\n",
        "n_glyco = 'GlcNAc'\n",
        "#mtf_seq = 'AC'"
      ],
      "execution_count": 0,
      "outputs": []
    },
    {
      "cell_type": "code",
      "metadata": {
        "id": "xHqwngXtKAzU",
        "colab_type": "code",
        "colab": {}
      },
      "source": [
        "mtf = motifs.create([Seq(mtf_seq)])"
      ],
      "execution_count": 0,
      "outputs": []
    },
    {
      "cell_type": "code",
      "metadata": {
        "id": "iQn4_Ydr0kpN",
        "colab_type": "code",
        "outputId": "da43b510-9f7a-42a4-e554-5059743c82cb",
        "colab": {
          "base_uri": "https://localhost:8080/",
          "height": 408
        }
      },
      "source": [
        "from Bio import SeqIO\n",
        "from Bio import ExPASy\n",
        "proteins = []\n",
        "rosalind_file = 'rosalind_mprt.txt'\n",
        "with open(rosalind_file, 'r') as task:\n",
        "    for line in task:\n",
        "            proteins.append(line.strip())\n",
        "print(proteins)\n",
        "for protein in proteins:\n",
        "    with ExPASy.get_sprot_raw(protein) as handle:\n",
        "        seq_record = SeqIO.read(handle, \"swiss\")\n",
        "        prot_seq = str(seq_record.seq)\n",
        "        prot_len = len(prot_seq)\n",
        "        pos = []\n",
        "        for count, alpha in enumerate(prot_seq):\n",
        "            if (alpha == 'N') & (count + 3 <= prot_len - 1) :\n",
        "                if (prot_seq[count + 1] != 'P') & ((prot_seq[count + 2] == 'S')\\\n",
        "                  |(prot_seq[count + 2] == 'T')) & (prot_seq[count + 3] != 'P'):\n",
        "                    pos.append(count + 1)\n",
        "        if pos:\n",
        "            print (protein)\n",
        "            for element in pos:\n",
        "                print (element, ' ', end = '')\n",
        "            print('')                "
      ],
      "execution_count": 0,
      "outputs": [
        {
          "output_type": "stream",
          "text": [
            "Q1E9Q9\n",
            "185  255  347  640  1326  \n",
            "P98119_URT1_DESRO\n",
            "153  398  \n",
            "P02750_A2GL_HUMAN\n",
            "79  186  269  306  325  \n",
            "P22457_FA7_BOVIN\n",
            "185  243  \n",
            "Q8PV50\n",
            "188  195  \n",
            "P01044_KNH1_BOVIN\n",
            "47  87  168  169  197  204  \n",
            "P10493_NIDO_MOUSE\n",
            "187  415  \n",
            "P00304_ARA3_AMBEL\n",
            "41  \n",
            "P07204_TRBM_HUMAN\n",
            "47  115  116  382  409  \n",
            "P10761_ZP3_MOUSE\n",
            "146  273  304  327  330  \n",
            "P81447_MPP3_CAPHI\n",
            "96  \n"
          ],
          "name": "stdout"
        }
      ]
    },
    {
      "cell_type": "code",
      "metadata": {
        "id": "iWwd4xZcLNVR",
        "colab_type": "code",
        "outputId": "50a3c05d-7262-40fa-b744-a11bce0d5181",
        "colab": {
          "base_uri": "https://localhost:8080/",
          "height": 144
        }
      },
      "source": [
        "with ExPASy.get_sprot_raw(\"P81428_FA10_TROCA\") as handle:\n",
        "    seq_record = SeqIO.read(handle, \"swiss\")\n",
        "print('id: ', seq_record.id)\n",
        "print('name:', seq_record.name)\n",
        "print('description: ', seq_record.description)\n",
        "print('Sequence = ', repr(seq_record.seq))\n",
        "print(\"Length %i\" % len(seq_record))\n",
        "print(seq_record.annotations[\"keywords\"])"
      ],
      "execution_count": 0,
      "outputs": [
        {
          "output_type": "stream",
          "text": [
            "id:  P81428\n",
            "name: FAXD_TROCA\n",
            "description:  RecName: Full=Venom prothrombin activator trocarin-D; Short=vPA; EC=3.4.21.6; AltName: Full=Venom coagulation factor Xa-like protease; Contains: RecName: Full=Trocarin-D light chain; Contains: RecName: Full=Trocarin-D heavy chain; Flags: Precursor;\n",
            "Sequence =  Seq('MAPQLLLCLILTFLWSLPEAESNVFLKSKVANRFLQRTKRSNSLFEEIRPGNIE...SLK', ProteinAlphabet())\n",
            "Length 455\n",
            "['Blood coagulation cascade activating toxin', 'Calcium', 'Cleavage on pair of basic residues', 'Direct protein sequencing', 'Disulfide bond', 'EGF-like domain', 'Gamma-carboxyglutamic acid', 'Glycoprotein', 'Hemostasis impairing toxin', 'Hydrolase', 'Protease', 'Prothrombin activator', 'Repeat', 'Secreted', 'Serine protease', 'Sialic acid', 'Signal', 'Toxin']\n"
          ],
          "name": "stdout"
        }
      ]
    },
    {
      "cell_type": "markdown",
      "metadata": {
        "id": "-64Zz4CKXx9I",
        "colab_type": "text"
      },
      "source": [
        "####Task 17 Inferring mRNA from Protein\n"
      ]
    },
    {
      "cell_type": "markdown",
      "metadata": {
        "id": "1keftZPojHwC",
        "colab_type": "text"
      },
      "source": [
        "**Problem**\n",
        "For positive integers a and n, a modulo n (written amodn in shorthand) is the remainder when a is divided by n. For example, 29mod11=7 because 29=11×2+7.\n",
        "\n",
        "Modular arithmetic is the study of addition, subtraction, multiplication, and division with respect to the modulo operation. We say that a and b are congruent modulo n if amodn=bmodn; in this case, we use the notation a≡bmodn.\n",
        "\n",
        "Two useful facts in modular arithmetic are that if a≡bmodn and c≡dmodn, then a+c≡b+dmodn and a×c≡b×dmodn. To check your understanding of these rules, you may wish to verify these relationships for a=29, b=73, c=10, d=32, and n=11.\n",
        "\n",
        "As you will see in this exercise, some Rosalind problems will ask for a (very large) integer solution modulo a smaller number to avoid the computational pitfalls that arise with storing such large numbers.\n",
        "\n",
        "Given: A protein string of length at most 1000 aa.\n",
        "\n",
        "Return: The total number of different RNA strings from which the protein could have been translated, modulo 1,000,000. (Don't neglect the importance of the stop codon in protein translation.)"
      ]
    },
    {
      "cell_type": "code",
      "metadata": {
        "id": "FMY3zOERYBSf",
        "colab_type": "code",
        "outputId": "8c074d6f-095d-44fd-8982-cd2bbc2eec93",
        "colab": {
          "base_uri": "https://localhost:8080/",
          "height": 161
        }
      },
      "source": [
        "#from sys import argv\n",
        "from collections import Counter\n",
        "from operator import mul\n",
        "import re\n",
        "from functools import reduce\n",
        "\n",
        "# RNA codon to protein lookup table\n",
        "rna_codon_table = {'UUU': 'F', 'CUU': 'L', 'AUU': 'I', 'GUU': 'V', 'UUC': 'F',\n",
        "                   'CUC': 'L', 'AUC': 'I', 'GUC': 'V', 'UUA': 'L', 'CUA': 'L',\n",
        "                   'AUA': 'I', 'GUA': 'V', 'UUG': 'L', 'CUG': 'L', 'AUG': 'M',\n",
        "                   'GUG': 'V', 'UCU': 'S', 'CCU': 'P', 'ACU': 'T', 'GCU': 'A',\n",
        "                   'UCC': 'S', 'CCC': 'P', 'ACC': 'T', 'GCC': 'A', 'UCA': 'S',\n",
        "                   'CCA': 'P', 'ACA': 'T', 'GCA': 'A', 'UCG': 'S', 'CCG': 'P',\n",
        "                   'ACG': 'T', 'GCG': 'A', 'UAU': 'Y', 'CAU': 'H', 'AAU': 'N',\n",
        "                   'GAU': 'D', 'UAC': 'Y', 'CAC': 'H', 'AAC': 'N', 'GAC': 'D',\n",
        "                   'CAA': 'Q', 'AAA': 'K', 'GAA': 'E', 'CAG': 'Q', 'AAG': 'K',\n",
        "                   'GAG': 'E', 'UGU': 'C', 'CGU': 'R', 'AGU': 'S', 'GGU': 'G',\n",
        "                   'UGC': 'C', 'CGC': 'R', 'AGC': 'S', 'GGC': 'G', 'CGA': 'R',\n",
        "                   'AGA': 'R', 'GGA': 'G', 'UGG': 'W', 'CGG': 'R', 'AGG': 'R',\n",
        "                   'GGG': 'G', 'UGA': 'Stop', 'UAG': 'Stop', 'UAA': 'Stop'}\n",
        "\n",
        "\n",
        "def main():\n",
        "    rosalind_file = 'rosalind_mrna.txt'\n",
        "    with open(rosalind_file, 'r') as inf:\n",
        "        data = inf.read()\n",
        "    #data = 'MA'\n",
        "    print (data)\n",
        "    r = []\n",
        "    for l in data.strip():\n",
        "        r.append(l)\n",
        "    r.append('Stop')\n",
        "    print (r)\n",
        "    print(len(r))\n",
        "\n",
        "    item_counts = Counter(val for val in rna_codon_table.values())\n",
        "    print (item_counts)\n",
        "\n",
        "    counts = []\n",
        "    for i in r:\n",
        "        counts.append(item_counts[i])\n",
        "    print(counts)\n",
        "    print (reduce(mul, counts, 1) % 1000000)\n",
        "\n",
        "if __name__ == \"__main__\":\n",
        "    main()\n",
        "    \n",
        "    "
      ],
      "execution_count": 0,
      "outputs": [
        {
          "output_type": "stream",
          "text": [
            "MREWCFDCDEKAHSDRWRAQPYNEPTFNWMNAKQGSAVELKLHYEHPWFMLVDIKFCHAIIAFTRNFSGMGMPIPFVTWMDYMLANGPAEYHTQYSGYLLTCQTRCNICLLFIEFRFHKYTVMVWHRCVTQFDQVDAEIMISARGVEWWWGMWLCDIGIVIYGTKPYPGQWPIFNGIVGQMDTCYCAKYDAWTPSEWPIQMELNEPEGTYMEADGYAYIQVVYWPCFIYVFLLQDCVFCISHHIFVFRHGSGQDRQEIFGWQQDFWPKIVYNLSYQHAHFQEQFPWHVVAWMACWVIFHMWFQFAIRECYEGAFQFMVDRRMTYLTIKIEGQKPLKNWVYMLYYGQCFINWETWEMTYPTWACNSDDSSEGLSMANKRNWRTPMFVGIAQWLPDFGEFLCTTKTLLLYKGHTIMHEQDDQFTTWYFFGDQVQFWTLTDPLHWPILMQVMDNTMRKKTHAFCHCWALYNDVWPMMAGCMHNFFWTETNEEEGMVRRAQPAHTESWNSIAYPQISIILRCVNRDVKPWMGLIMQMMYSMADMWFNLPEDQQYGPWNHIDEYHYWNISSDAWSIWYSRCSSWPPILVDHIIMHGNMEIRSAWKMLANIGWCIGNIVLHKRSKVNHPHTHLHILFDHLPKRCAPGCSFSKSKCRHCFHTQRQKYYESEPNMGRGRPCINELCVNFPVIILDHWVDDWDKDMMPMDYEQWDGIMFFEITGHMDTCWVKMPGSGCMTVQDNNSQKDLTEMIVYATWKRYVIESLAFTCNVQPLFFSAQKWLLIGWMQWTVTPEPEFCANVWPNIEGFFLQSTLTPNMTEHMKIFDLSLFGYCDHMHKGGRTGTVNTPKGRCSRERHQYGASITWMWHICNWRKFILAYEWMRAMLKEPLRVWMRSEVMLIPQLIRSYNNCQWRFTFQHIFNPFHKFVGKVPDTSKTPEYTTSQQIVLFIKRNMIGPEWGPHDRMCVGCGQFDSLLQSDQYQSQVAWWCQYWWNFAMDYVKYFTVP\n",
            "\n",
            "['M', 'R', 'E', 'W', 'C', 'F', 'D', 'C', 'D', 'E', 'K', 'A', 'H', 'S', 'D', 'R', 'W', 'R', 'A', 'Q', 'P', 'Y', 'N', 'E', 'P', 'T', 'F', 'N', 'W', 'M', 'N', 'A', 'K', 'Q', 'G', 'S', 'A', 'V', 'E', 'L', 'K', 'L', 'H', 'Y', 'E', 'H', 'P', 'W', 'F', 'M', 'L', 'V', 'D', 'I', 'K', 'F', 'C', 'H', 'A', 'I', 'I', 'A', 'F', 'T', 'R', 'N', 'F', 'S', 'G', 'M', 'G', 'M', 'P', 'I', 'P', 'F', 'V', 'T', 'W', 'M', 'D', 'Y', 'M', 'L', 'A', 'N', 'G', 'P', 'A', 'E', 'Y', 'H', 'T', 'Q', 'Y', 'S', 'G', 'Y', 'L', 'L', 'T', 'C', 'Q', 'T', 'R', 'C', 'N', 'I', 'C', 'L', 'L', 'F', 'I', 'E', 'F', 'R', 'F', 'H', 'K', 'Y', 'T', 'V', 'M', 'V', 'W', 'H', 'R', 'C', 'V', 'T', 'Q', 'F', 'D', 'Q', 'V', 'D', 'A', 'E', 'I', 'M', 'I', 'S', 'A', 'R', 'G', 'V', 'E', 'W', 'W', 'W', 'G', 'M', 'W', 'L', 'C', 'D', 'I', 'G', 'I', 'V', 'I', 'Y', 'G', 'T', 'K', 'P', 'Y', 'P', 'G', 'Q', 'W', 'P', 'I', 'F', 'N', 'G', 'I', 'V', 'G', 'Q', 'M', 'D', 'T', 'C', 'Y', 'C', 'A', 'K', 'Y', 'D', 'A', 'W', 'T', 'P', 'S', 'E', 'W', 'P', 'I', 'Q', 'M', 'E', 'L', 'N', 'E', 'P', 'E', 'G', 'T', 'Y', 'M', 'E', 'A', 'D', 'G', 'Y', 'A', 'Y', 'I', 'Q', 'V', 'V', 'Y', 'W', 'P', 'C', 'F', 'I', 'Y', 'V', 'F', 'L', 'L', 'Q', 'D', 'C', 'V', 'F', 'C', 'I', 'S', 'H', 'H', 'I', 'F', 'V', 'F', 'R', 'H', 'G', 'S', 'G', 'Q', 'D', 'R', 'Q', 'E', 'I', 'F', 'G', 'W', 'Q', 'Q', 'D', 'F', 'W', 'P', 'K', 'I', 'V', 'Y', 'N', 'L', 'S', 'Y', 'Q', 'H', 'A', 'H', 'F', 'Q', 'E', 'Q', 'F', 'P', 'W', 'H', 'V', 'V', 'A', 'W', 'M', 'A', 'C', 'W', 'V', 'I', 'F', 'H', 'M', 'W', 'F', 'Q', 'F', 'A', 'I', 'R', 'E', 'C', 'Y', 'E', 'G', 'A', 'F', 'Q', 'F', 'M', 'V', 'D', 'R', 'R', 'M', 'T', 'Y', 'L', 'T', 'I', 'K', 'I', 'E', 'G', 'Q', 'K', 'P', 'L', 'K', 'N', 'W', 'V', 'Y', 'M', 'L', 'Y', 'Y', 'G', 'Q', 'C', 'F', 'I', 'N', 'W', 'E', 'T', 'W', 'E', 'M', 'T', 'Y', 'P', 'T', 'W', 'A', 'C', 'N', 'S', 'D', 'D', 'S', 'S', 'E', 'G', 'L', 'S', 'M', 'A', 'N', 'K', 'R', 'N', 'W', 'R', 'T', 'P', 'M', 'F', 'V', 'G', 'I', 'A', 'Q', 'W', 'L', 'P', 'D', 'F', 'G', 'E', 'F', 'L', 'C', 'T', 'T', 'K', 'T', 'L', 'L', 'L', 'Y', 'K', 'G', 'H', 'T', 'I', 'M', 'H', 'E', 'Q', 'D', 'D', 'Q', 'F', 'T', 'T', 'W', 'Y', 'F', 'F', 'G', 'D', 'Q', 'V', 'Q', 'F', 'W', 'T', 'L', 'T', 'D', 'P', 'L', 'H', 'W', 'P', 'I', 'L', 'M', 'Q', 'V', 'M', 'D', 'N', 'T', 'M', 'R', 'K', 'K', 'T', 'H', 'A', 'F', 'C', 'H', 'C', 'W', 'A', 'L', 'Y', 'N', 'D', 'V', 'W', 'P', 'M', 'M', 'A', 'G', 'C', 'M', 'H', 'N', 'F', 'F', 'W', 'T', 'E', 'T', 'N', 'E', 'E', 'E', 'G', 'M', 'V', 'R', 'R', 'A', 'Q', 'P', 'A', 'H', 'T', 'E', 'S', 'W', 'N', 'S', 'I', 'A', 'Y', 'P', 'Q', 'I', 'S', 'I', 'I', 'L', 'R', 'C', 'V', 'N', 'R', 'D', 'V', 'K', 'P', 'W', 'M', 'G', 'L', 'I', 'M', 'Q', 'M', 'M', 'Y', 'S', 'M', 'A', 'D', 'M', 'W', 'F', 'N', 'L', 'P', 'E', 'D', 'Q', 'Q', 'Y', 'G', 'P', 'W', 'N', 'H', 'I', 'D', 'E', 'Y', 'H', 'Y', 'W', 'N', 'I', 'S', 'S', 'D', 'A', 'W', 'S', 'I', 'W', 'Y', 'S', 'R', 'C', 'S', 'S', 'W', 'P', 'P', 'I', 'L', 'V', 'D', 'H', 'I', 'I', 'M', 'H', 'G', 'N', 'M', 'E', 'I', 'R', 'S', 'A', 'W', 'K', 'M', 'L', 'A', 'N', 'I', 'G', 'W', 'C', 'I', 'G', 'N', 'I', 'V', 'L', 'H', 'K', 'R', 'S', 'K', 'V', 'N', 'H', 'P', 'H', 'T', 'H', 'L', 'H', 'I', 'L', 'F', 'D', 'H', 'L', 'P', 'K', 'R', 'C', 'A', 'P', 'G', 'C', 'S', 'F', 'S', 'K', 'S', 'K', 'C', 'R', 'H', 'C', 'F', 'H', 'T', 'Q', 'R', 'Q', 'K', 'Y', 'Y', 'E', 'S', 'E', 'P', 'N', 'M', 'G', 'R', 'G', 'R', 'P', 'C', 'I', 'N', 'E', 'L', 'C', 'V', 'N', 'F', 'P', 'V', 'I', 'I', 'L', 'D', 'H', 'W', 'V', 'D', 'D', 'W', 'D', 'K', 'D', 'M', 'M', 'P', 'M', 'D', 'Y', 'E', 'Q', 'W', 'D', 'G', 'I', 'M', 'F', 'F', 'E', 'I', 'T', 'G', 'H', 'M', 'D', 'T', 'C', 'W', 'V', 'K', 'M', 'P', 'G', 'S', 'G', 'C', 'M', 'T', 'V', 'Q', 'D', 'N', 'N', 'S', 'Q', 'K', 'D', 'L', 'T', 'E', 'M', 'I', 'V', 'Y', 'A', 'T', 'W', 'K', 'R', 'Y', 'V', 'I', 'E', 'S', 'L', 'A', 'F', 'T', 'C', 'N', 'V', 'Q', 'P', 'L', 'F', 'F', 'S', 'A', 'Q', 'K', 'W', 'L', 'L', 'I', 'G', 'W', 'M', 'Q', 'W', 'T', 'V', 'T', 'P', 'E', 'P', 'E', 'F', 'C', 'A', 'N', 'V', 'W', 'P', 'N', 'I', 'E', 'G', 'F', 'F', 'L', 'Q', 'S', 'T', 'L', 'T', 'P', 'N', 'M', 'T', 'E', 'H', 'M', 'K', 'I', 'F', 'D', 'L', 'S', 'L', 'F', 'G', 'Y', 'C', 'D', 'H', 'M', 'H', 'K', 'G', 'G', 'R', 'T', 'G', 'T', 'V', 'N', 'T', 'P', 'K', 'G', 'R', 'C', 'S', 'R', 'E', 'R', 'H', 'Q', 'Y', 'G', 'A', 'S', 'I', 'T', 'W', 'M', 'W', 'H', 'I', 'C', 'N', 'W', 'R', 'K', 'F', 'I', 'L', 'A', 'Y', 'E', 'W', 'M', 'R', 'A', 'M', 'L', 'K', 'E', 'P', 'L', 'R', 'V', 'W', 'M', 'R', 'S', 'E', 'V', 'M', 'L', 'I', 'P', 'Q', 'L', 'I', 'R', 'S', 'Y', 'N', 'N', 'C', 'Q', 'W', 'R', 'F', 'T', 'F', 'Q', 'H', 'I', 'F', 'N', 'P', 'F', 'H', 'K', 'F', 'V', 'G', 'K', 'V', 'P', 'D', 'T', 'S', 'K', 'T', 'P', 'E', 'Y', 'T', 'T', 'S', 'Q', 'Q', 'I', 'V', 'L', 'F', 'I', 'K', 'R', 'N', 'M', 'I', 'G', 'P', 'E', 'W', 'G', 'P', 'H', 'D', 'R', 'M', 'C', 'V', 'G', 'C', 'G', 'Q', 'F', 'D', 'S', 'L', 'L', 'Q', 'S', 'D', 'Q', 'Y', 'Q', 'S', 'Q', 'V', 'A', 'W', 'W', 'C', 'Q', 'Y', 'W', 'W', 'N', 'F', 'A', 'M', 'D', 'Y', 'V', 'K', 'Y', 'F', 'T', 'V', 'P', 'Stop']\n",
            "1000\n",
            "Counter({'L': 6, 'S': 6, 'R': 6, 'V': 4, 'P': 4, 'T': 4, 'A': 4, 'G': 4, 'I': 3, 'Stop': 3, 'F': 2, 'Y': 2, 'H': 2, 'N': 2, 'D': 2, 'Q': 2, 'K': 2, 'E': 2, 'C': 2, 'M': 1, 'W': 1})\n",
            "[1, 6, 2, 1, 2, 2, 2, 2, 2, 2, 2, 4, 2, 6, 2, 6, 1, 6, 4, 2, 4, 2, 2, 2, 4, 4, 2, 2, 1, 1, 2, 4, 2, 2, 4, 6, 4, 4, 2, 6, 2, 6, 2, 2, 2, 2, 4, 1, 2, 1, 6, 4, 2, 3, 2, 2, 2, 2, 4, 3, 3, 4, 2, 4, 6, 2, 2, 6, 4, 1, 4, 1, 4, 3, 4, 2, 4, 4, 1, 1, 2, 2, 1, 6, 4, 2, 4, 4, 4, 2, 2, 2, 4, 2, 2, 6, 4, 2, 6, 6, 4, 2, 2, 4, 6, 2, 2, 3, 2, 6, 6, 2, 3, 2, 2, 6, 2, 2, 2, 2, 4, 4, 1, 4, 1, 2, 6, 2, 4, 4, 2, 2, 2, 2, 4, 2, 4, 2, 3, 1, 3, 6, 4, 6, 4, 4, 2, 1, 1, 1, 4, 1, 1, 6, 2, 2, 3, 4, 3, 4, 3, 2, 4, 4, 2, 4, 2, 4, 4, 2, 1, 4, 3, 2, 2, 4, 3, 4, 4, 2, 1, 2, 4, 2, 2, 2, 4, 2, 2, 2, 4, 1, 4, 4, 6, 2, 1, 4, 3, 2, 1, 2, 6, 2, 2, 4, 2, 4, 4, 2, 1, 2, 4, 2, 4, 2, 4, 2, 3, 2, 4, 4, 2, 1, 4, 2, 2, 3, 2, 4, 2, 6, 6, 2, 2, 2, 4, 2, 2, 3, 6, 2, 2, 3, 2, 4, 2, 6, 2, 4, 6, 4, 2, 2, 6, 2, 2, 3, 2, 4, 1, 2, 2, 2, 2, 1, 4, 2, 3, 4, 2, 2, 6, 6, 2, 2, 2, 4, 2, 2, 2, 2, 2, 2, 4, 1, 2, 4, 4, 4, 1, 1, 4, 2, 1, 4, 3, 2, 2, 1, 1, 2, 2, 2, 4, 3, 6, 2, 2, 2, 2, 4, 4, 2, 2, 2, 1, 4, 2, 6, 6, 1, 4, 2, 6, 4, 3, 2, 3, 2, 4, 2, 2, 4, 6, 2, 2, 1, 4, 2, 1, 6, 2, 2, 4, 2, 2, 2, 3, 2, 1, 2, 4, 1, 2, 1, 4, 2, 4, 4, 1, 4, 2, 2, 6, 2, 2, 6, 6, 2, 4, 6, 6, 1, 4, 2, 2, 6, 2, 1, 6, 4, 4, 1, 2, 4, 4, 3, 4, 2, 1, 6, 4, 2, 2, 4, 2, 2, 6, 2, 4, 4, 2, 4, 6, 6, 6, 2, 2, 4, 2, 4, 3, 1, 2, 2, 2, 2, 2, 2, 2, 4, 4, 1, 2, 2, 2, 4, 2, 2, 4, 2, 2, 1, 4, 6, 4, 2, 4, 6, 2, 1, 4, 3, 6, 1, 2, 4, 1, 2, 2, 4, 1, 6, 2, 2, 4, 2, 4, 2, 2, 2, 2, 1, 4, 6, 2, 2, 2, 4, 1, 4, 1, 1, 4, 4, 2, 1, 2, 2, 2, 2, 1, 4, 2, 4, 2, 2, 2, 2, 4, 1, 4, 6, 6, 4, 2, 4, 4, 2, 4, 2, 6, 1, 2, 6, 3, 4, 2, 4, 2, 3, 6, 3, 3, 6, 6, 2, 4, 2, 6, 2, 4, 2, 4, 1, 1, 4, 6, 3, 1, 2, 1, 1, 2, 6, 1, 4, 2, 1, 1, 2, 2, 6, 4, 2, 2, 2, 2, 2, 4, 4, 1, 2, 2, 3, 2, 2, 2, 2, 2, 1, 2, 3, 6, 6, 2, 4, 1, 6, 3, 1, 2, 6, 6, 2, 6, 6, 1, 4, 4, 3, 6, 4, 2, 2, 3, 3, 1, 2, 4, 2, 1, 2, 3, 6, 6, 4, 1, 2, 1, 6, 4, 2, 3, 4, 1, 2, 3, 4, 2, 3, 4, 6, 2, 2, 6, 6, 2, 4, 2, 2, 4, 2, 4, 2, 6, 2, 3, 6, 2, 2, 2, 6, 4, 2, 6, 2, 4, 4, 4, 2, 6, 2, 6, 2, 6, 2, 2, 6, 2, 2, 2, 2, 4, 2, 6, 2, 2, 2, 2, 2, 6, 2, 4, 2, 1, 4, 6, 4, 6, 4, 2, 3, 2, 2, 6, 2, 4, 2, 2, 4, 4, 3, 3, 6, 2, 2, 1, 4, 2, 2, 1, 2, 2, 2, 1, 1, 4, 1, 2, 2, 2, 2, 1, 2, 4, 3, 1, 2, 2, 2, 3, 4, 4, 2, 1, 2, 4, 2, 1, 4, 2, 1, 4, 4, 6, 4, 2, 1, 4, 4, 2, 2, 2, 2, 6, 2, 2, 2, 6, 4, 2, 1, 3, 4, 2, 4, 4, 1, 2, 6, 2, 4, 3, 2, 6, 6, 4, 2, 4, 2, 2, 4, 2, 4, 6, 2, 2, 6, 4, 2, 2, 1, 6, 6, 3, 4, 1, 1, 2, 1, 4, 4, 4, 4, 2, 4, 2, 2, 2, 4, 2, 4, 1, 4, 2, 3, 2, 4, 2, 2, 6, 2, 6, 4, 6, 4, 4, 2, 1, 4, 2, 2, 1, 2, 3, 2, 2, 6, 6, 6, 2, 4, 2, 2, 2, 2, 1, 2, 2, 4, 4, 6, 4, 4, 4, 4, 2, 4, 4, 2, 4, 6, 2, 6, 6, 2, 6, 2, 2, 2, 4, 4, 6, 3, 4, 1, 1, 1, 2, 3, 2, 2, 1, 6, 2, 2, 3, 6, 4, 2, 2, 1, 1, 6, 4, 1, 6, 2, 2, 4, 6, 6, 4, 1, 1, 6, 6, 2, 4, 1, 6, 3, 4, 2, 6, 3, 6, 6, 2, 2, 2, 2, 2, 1, 6, 2, 4, 2, 2, 2, 3, 2, 2, 4, 2, 2, 2, 2, 4, 4, 2, 4, 4, 2, 4, 6, 2, 4, 4, 2, 2, 4, 4, 6, 2, 2, 3, 4, 6, 2, 3, 2, 6, 2, 1, 3, 4, 4, 2, 1, 4, 4, 2, 2, 6, 1, 2, 4, 4, 2, 4, 2, 2, 2, 6, 6, 6, 2, 6, 2, 2, 2, 2, 6, 2, 4, 4, 1, 1, 2, 2, 2, 1, 1, 2, 2, 4, 1, 2, 2, 4, 2, 2, 2, 4, 4, 4, 3]\n",
            "843264\n"
          ],
          "name": "stdout"
        }
      ]
    },
    {
      "cell_type": "markdown",
      "metadata": {
        "id": "t0egAomvm5I2",
        "colab_type": "text"
      },
      "source": [
        "**Task** 18 Open Reading Frames"
      ]
    },
    {
      "cell_type": "markdown",
      "metadata": {
        "id": "aqdFFQ2ujqPT",
        "colab_type": "text"
      },
      "source": [
        "**Problem**\n",
        "A permutation of length n is an ordering of the positive integers {1,2,…,n}. For example, π=(5,3,2,1,4) is a permutation of length 5.\n",
        "\n",
        "Given: A positive integer n≤7.\n",
        "\n",
        "Return: The total number of permutations of length n, followed by a list of all such permutations (in any order)."
      ]
    },
    {
      "cell_type": "code",
      "metadata": {
        "id": "RlNtmcXffajy",
        "colab_type": "code",
        "colab": {}
      },
      "source": [
        "rosalind_file = 'rosalind_orf.txt'\n",
        "with open(rosalind_file, 'r') as inf:\n",
        "    coding_dna = SeqIO.read(inf, 'fasta')\n",
        "reverse_dna =coding_dna.reverse_complement()"
      ],
      "execution_count": 0,
      "outputs": []
    },
    {
      "cell_type": "code",
      "metadata": {
        "id": "F_JxQVkFsgn6",
        "colab_type": "code",
        "outputId": "7ba7642e-fa80-4cea-fabf-4c3fb3083893",
        "colab": {
          "base_uri": "https://localhost:8080/",
          "height": 35
        }
      },
      "source": [
        "coding_dna.seq"
      ],
      "execution_count": 0,
      "outputs": [
        {
          "output_type": "execute_result",
          "data": {
            "text/plain": [
              "Seq('GCTAACTTACAGTAGCCAAGACGAGATCACTTGTTTGATAGGTGGGTTCTCTGT...TGG', SingleLetterAlphabet())"
            ]
          },
          "metadata": {
            "tags": []
          },
          "execution_count": 91
        }
      ]
    },
    {
      "cell_type": "code",
      "metadata": {
        "id": "2kj6up0RnPvv",
        "colab_type": "code",
        "colab": {}
      },
      "source": [
        "#coding_dna = Seq(\"AGCCATGTAGCTAACTCAGGTTACATGGGGATGACCCCGCGACTTGGATTAGAGTCTCTTTTGGAATAAGCCTGAATGATCCGAGTAGCATCTCAG\", IUPAC.unambiguous_dna)\n",
        "#reverse_dna =coding_dna.reverse_complement()"
      ],
      "execution_count": 0,
      "outputs": []
    },
    {
      "cell_type": "code",
      "metadata": {
        "id": "fAnDuqSqx-pE",
        "colab_type": "code",
        "colab": {}
      },
      "source": [
        "standard_table = CodonTable.unambiguous_dna_by_name[\"Standard\"]\n",
        "stop_codons = standard_table.stop_codons"
      ],
      "execution_count": 0,
      "outputs": []
    },
    {
      "cell_type": "code",
      "metadata": {
        "id": "CK6qfYxRyJKy",
        "colab_type": "code",
        "colab": {}
      },
      "source": [
        "# function to split string into fragments for searching\n",
        "def chunker(seq, size):\n",
        "    return (seq[pos:pos + size] for pos in range(0, len(seq), size))"
      ],
      "execution_count": 0,
      "outputs": []
    },
    {
      "cell_type": "markdown",
      "metadata": {
        "id": "7fFlvPyXpXTd",
        "colab_type": "text"
      },
      "source": [
        "MLLGSFRLIPKETLIQVAGSSPCNLS\n",
        "\n",
        "M\n",
        "\n",
        "MGMTPRLGLESLLE\n",
        "\n",
        "MTPRLGLESLLE"
      ]
    },
    {
      "cell_type": "code",
      "metadata": {
        "id": "Snhwx958yZhl",
        "colab_type": "code",
        "colab": {}
      },
      "source": [
        "proteins = set()\n",
        "# loop over sequence and reverse complement\n",
        "for strand in [coding_dna.seq, reverse_dna.seq]:\n",
        "    # loop until only 3 nucleotides remain\n",
        "    #print(strand)\n",
        "    #print('len strand = ', len(strand))\n",
        "    for start in range(len(strand)-2):\n",
        "        #print('start = ', start)\n",
        "        start_codon = str(strand[start:start+3])\n",
        "        # check start codon presence\n",
        "        if start_codon == \"ATG\":\n",
        "            frame = str(strand[start:])\n",
        "            #frame = frame[:len(frame) - len(frame) % 3]\n",
        "            #print('frame = ', frame)\n",
        "            #print('len frame = ', len(frame))\n",
        "            #print('3 length', len(strand[start:]) % 3)\n",
        "            # check stop codon presence\n",
        "            #for st in stop_codons:\n",
        "            #    print(st in chunker(frame[3:], 3))\n",
        "            if any(st in chunker(frame[3:], 3) for st in stop_codons):                \n",
        "                #if len(strand[start:]) % 3 == 0:\n",
        "                # translate protein and add to set                \n",
        "                prot = str(strand[start:].translate(to_stop=True))\n",
        "                print (prot)\n",
        "                proteins.add(prot)\n",
        "#print(proteins)"
      ],
      "execution_count": 0,
      "outputs": []
    },
    {
      "cell_type": "code",
      "metadata": {
        "id": "EnUA-x7lsvwb",
        "colab_type": "code",
        "outputId": "4bae25c6-5e88-44e0-c5e3-bcd096d444cc",
        "colab": {
          "base_uri": "https://localhost:8080/",
          "height": 746
        }
      },
      "source": [
        "for prt in proteins:\n",
        "    print(prt)"
      ],
      "execution_count": 0,
      "outputs": [
        {
          "output_type": "stream",
          "text": [
            "MLIPSL\n",
            "MFIWHSGDPRIILRLKNGLARRRIRDVRSPRY\n",
            "MDGR\n",
            "MCDLQEPRQTPVGSSPYTF\n",
            "MHARGQPLNKSSGPYPNLLNIDPSVEKSAACRSLLVTWRADITNPPAR\n",
            "MDEDSRAGLTIRIAILIVRPARESS\n",
            "ME\n",
            "MSHYG\n",
            "MLVGLTGPAPRMLIPSL\n",
            "MRH\n",
            "MPRCIANIHGKRR\n",
            "MQVLNLDTIGSVDTSGGAAVCAATPYREPTYQTSDLVLATVS\n",
            "MFAIHRGITICHP\n",
            "MSALHVTNRERHAADFSTLGSIFRRFG\n",
            "MLSLCRRCQCRIMDEDSRAGLTIRIAILIVRPARESS\n",
            "MDVCYTPRHNYLPSITPSIGTARRCAIFRNHGRLQ\n",
            "MLGVMDGR\n",
            "MS\n",
            "MSKMSMSHYG\n",
            "MRSTRPSTSVIRVDFNEPVFQMGQLAPFPMDVCYTPRHNYLPSITPSIGTARRCAIFRNHGRLQ\n",
            "MPNKH\n",
            "MSLCFRWGS\n",
            "MSIRGAGPVKPTSMRSTRPSTSVIRVDFNEPVFQMGQLAPFPMDVCYTPRHNYLPSITPSIGTARRCAIFRNHGRLQ\n",
            "MHPPH\n",
            "MIRGSPECQINIDRGRTASTCA\n",
            "MVMKTRALA\n",
            "MADSYAAVYSKHPWEKALAAPSETQAH\n",
            "MTLVDGRVDLMLVGLTGPAPRMLIPSL\n",
            "MGKGASCPI\n",
            "MDAWISC\n",
            "MEVPQCILTGFWQGELAAKRL\n",
            "MSMSHYG\n",
            "MT\n",
            "MPVASPSTKAPDPIQIF\n",
            "MKTRALA\n",
            "MGQLAPFPMDVCYTPRHNYLPSITPSIGTARRCAIFRNHGRLQ\n",
            "MD\n",
            "MTIFPHSD\n",
            "MEYR\n",
            "MRGMHARGQPLNKSSGPYPNLLNIDPSVEKSAACRSLLVTWRADITNPPAR\n",
            "MSNLFCRQLAVYSSRCEGRWS\n"
          ],
          "name": "stdout"
        }
      ]
    },
    {
      "cell_type": "markdown",
      "metadata": {
        "id": "1kjeIaeBuGxh",
        "colab_type": "text"
      },
      "source": [
        "####Task 19 Enumerating Gene Orders"
      ]
    },
    {
      "cell_type": "markdown",
      "metadata": {
        "id": "hSd4pdKVkRAq",
        "colab_type": "text"
      },
      "source": [
        "**Problem**\n",
        "A permutation of length n is an ordering of the positive integers {1,2,…,n}. For example, π=(5,3,2,1,4) is a permutation of length 5.\n",
        "\n",
        "Given: A positive integer n≤7.\n",
        "\n",
        "Return: The total number of permutations of length n, followed by a list of all such permutations (in any order)."
      ]
    },
    {
      "cell_type": "code",
      "metadata": {
        "id": "Fd9xy6eNtflF",
        "colab_type": "code",
        "colab": {}
      },
      "source": [
        "from itertools import permutations\n",
        "from math import factorial\n",
        "\n",
        "n = 5\n",
        "seq = range(1, n+1)\n",
        "with open(\"answer.txt\", 'w') as ans:\n",
        "    ans.write(str(factorial(n)))\n",
        "    ans.write('\\n')\n",
        "\n",
        "# how many possible combinations\n",
        "#print (factorial(n))\n",
        "\n",
        "# evaluate all permutations\n",
        "    for perm in permutations(seq):\n",
        "        ans.write(' '.join(map(str, perm)))\n",
        "        ans.write('\\n')\n",
        "\n"
      ],
      "execution_count": 0,
      "outputs": []
    },
    {
      "cell_type": "code",
      "metadata": {
        "id": "YN391MEYxtOr",
        "colab_type": "code",
        "outputId": "00c92243-f6fe-4cbf-ad20-607f948075f2",
        "colab": {
          "base_uri": "https://localhost:8080/",
          "height": 55
        }
      },
      "source": [
        "print(*permutations(seq))"
      ],
      "execution_count": 0,
      "outputs": [
        {
          "output_type": "stream",
          "text": [
            "(1, 2, 3, 4, 5, 6) (1, 2, 3, 4, 6, 5) (1, 2, 3, 5, 4, 6) (1, 2, 3, 5, 6, 4) (1, 2, 3, 6, 4, 5) (1, 2, 3, 6, 5, 4) (1, 2, 4, 3, 5, 6) (1, 2, 4, 3, 6, 5) (1, 2, 4, 5, 3, 6) (1, 2, 4, 5, 6, 3) (1, 2, 4, 6, 3, 5) (1, 2, 4, 6, 5, 3) (1, 2, 5, 3, 4, 6) (1, 2, 5, 3, 6, 4) (1, 2, 5, 4, 3, 6) (1, 2, 5, 4, 6, 3) (1, 2, 5, 6, 3, 4) (1, 2, 5, 6, 4, 3) (1, 2, 6, 3, 4, 5) (1, 2, 6, 3, 5, 4) (1, 2, 6, 4, 3, 5) (1, 2, 6, 4, 5, 3) (1, 2, 6, 5, 3, 4) (1, 2, 6, 5, 4, 3) (1, 3, 2, 4, 5, 6) (1, 3, 2, 4, 6, 5) (1, 3, 2, 5, 4, 6) (1, 3, 2, 5, 6, 4) (1, 3, 2, 6, 4, 5) (1, 3, 2, 6, 5, 4) (1, 3, 4, 2, 5, 6) (1, 3, 4, 2, 6, 5) (1, 3, 4, 5, 2, 6) (1, 3, 4, 5, 6, 2) (1, 3, 4, 6, 2, 5) (1, 3, 4, 6, 5, 2) (1, 3, 5, 2, 4, 6) (1, 3, 5, 2, 6, 4) (1, 3, 5, 4, 2, 6) (1, 3, 5, 4, 6, 2) (1, 3, 5, 6, 2, 4) (1, 3, 5, 6, 4, 2) (1, 3, 6, 2, 4, 5) (1, 3, 6, 2, 5, 4) (1, 3, 6, 4, 2, 5) (1, 3, 6, 4, 5, 2) (1, 3, 6, 5, 2, 4) (1, 3, 6, 5, 4, 2) (1, 4, 2, 3, 5, 6) (1, 4, 2, 3, 6, 5) (1, 4, 2, 5, 3, 6) (1, 4, 2, 5, 6, 3) (1, 4, 2, 6, 3, 5) (1, 4, 2, 6, 5, 3) (1, 4, 3, 2, 5, 6) (1, 4, 3, 2, 6, 5) (1, 4, 3, 5, 2, 6) (1, 4, 3, 5, 6, 2) (1, 4, 3, 6, 2, 5) (1, 4, 3, 6, 5, 2) (1, 4, 5, 2, 3, 6) (1, 4, 5, 2, 6, 3) (1, 4, 5, 3, 2, 6) (1, 4, 5, 3, 6, 2) (1, 4, 5, 6, 2, 3) (1, 4, 5, 6, 3, 2) (1, 4, 6, 2, 3, 5) (1, 4, 6, 2, 5, 3) (1, 4, 6, 3, 2, 5) (1, 4, 6, 3, 5, 2) (1, 4, 6, 5, 2, 3) (1, 4, 6, 5, 3, 2) (1, 5, 2, 3, 4, 6) (1, 5, 2, 3, 6, 4) (1, 5, 2, 4, 3, 6) (1, 5, 2, 4, 6, 3) (1, 5, 2, 6, 3, 4) (1, 5, 2, 6, 4, 3) (1, 5, 3, 2, 4, 6) (1, 5, 3, 2, 6, 4) (1, 5, 3, 4, 2, 6) (1, 5, 3, 4, 6, 2) (1, 5, 3, 6, 2, 4) (1, 5, 3, 6, 4, 2) (1, 5, 4, 2, 3, 6) (1, 5, 4, 2, 6, 3) (1, 5, 4, 3, 2, 6) (1, 5, 4, 3, 6, 2) (1, 5, 4, 6, 2, 3) (1, 5, 4, 6, 3, 2) (1, 5, 6, 2, 3, 4) (1, 5, 6, 2, 4, 3) (1, 5, 6, 3, 2, 4) (1, 5, 6, 3, 4, 2) (1, 5, 6, 4, 2, 3) (1, 5, 6, 4, 3, 2) (1, 6, 2, 3, 4, 5) (1, 6, 2, 3, 5, 4) (1, 6, 2, 4, 3, 5) (1, 6, 2, 4, 5, 3) (1, 6, 2, 5, 3, 4) (1, 6, 2, 5, 4, 3) (1, 6, 3, 2, 4, 5) (1, 6, 3, 2, 5, 4) (1, 6, 3, 4, 2, 5) (1, 6, 3, 4, 5, 2) (1, 6, 3, 5, 2, 4) (1, 6, 3, 5, 4, 2) (1, 6, 4, 2, 3, 5) (1, 6, 4, 2, 5, 3) (1, 6, 4, 3, 2, 5) (1, 6, 4, 3, 5, 2) (1, 6, 4, 5, 2, 3) (1, 6, 4, 5, 3, 2) (1, 6, 5, 2, 3, 4) (1, 6, 5, 2, 4, 3) (1, 6, 5, 3, 2, 4) (1, 6, 5, 3, 4, 2) (1, 6, 5, 4, 2, 3) (1, 6, 5, 4, 3, 2) (2, 1, 3, 4, 5, 6) (2, 1, 3, 4, 6, 5) (2, 1, 3, 5, 4, 6) (2, 1, 3, 5, 6, 4) (2, 1, 3, 6, 4, 5) (2, 1, 3, 6, 5, 4) (2, 1, 4, 3, 5, 6) (2, 1, 4, 3, 6, 5) (2, 1, 4, 5, 3, 6) (2, 1, 4, 5, 6, 3) (2, 1, 4, 6, 3, 5) (2, 1, 4, 6, 5, 3) (2, 1, 5, 3, 4, 6) (2, 1, 5, 3, 6, 4) (2, 1, 5, 4, 3, 6) (2, 1, 5, 4, 6, 3) (2, 1, 5, 6, 3, 4) (2, 1, 5, 6, 4, 3) (2, 1, 6, 3, 4, 5) (2, 1, 6, 3, 5, 4) (2, 1, 6, 4, 3, 5) (2, 1, 6, 4, 5, 3) (2, 1, 6, 5, 3, 4) (2, 1, 6, 5, 4, 3) (2, 3, 1, 4, 5, 6) (2, 3, 1, 4, 6, 5) (2, 3, 1, 5, 4, 6) (2, 3, 1, 5, 6, 4) (2, 3, 1, 6, 4, 5) (2, 3, 1, 6, 5, 4) (2, 3, 4, 1, 5, 6) (2, 3, 4, 1, 6, 5) (2, 3, 4, 5, 1, 6) (2, 3, 4, 5, 6, 1) (2, 3, 4, 6, 1, 5) (2, 3, 4, 6, 5, 1) (2, 3, 5, 1, 4, 6) (2, 3, 5, 1, 6, 4) (2, 3, 5, 4, 1, 6) (2, 3, 5, 4, 6, 1) (2, 3, 5, 6, 1, 4) (2, 3, 5, 6, 4, 1) (2, 3, 6, 1, 4, 5) (2, 3, 6, 1, 5, 4) (2, 3, 6, 4, 1, 5) (2, 3, 6, 4, 5, 1) (2, 3, 6, 5, 1, 4) (2, 3, 6, 5, 4, 1) (2, 4, 1, 3, 5, 6) (2, 4, 1, 3, 6, 5) (2, 4, 1, 5, 3, 6) (2, 4, 1, 5, 6, 3) (2, 4, 1, 6, 3, 5) (2, 4, 1, 6, 5, 3) (2, 4, 3, 1, 5, 6) (2, 4, 3, 1, 6, 5) (2, 4, 3, 5, 1, 6) (2, 4, 3, 5, 6, 1) (2, 4, 3, 6, 1, 5) (2, 4, 3, 6, 5, 1) (2, 4, 5, 1, 3, 6) (2, 4, 5, 1, 6, 3) (2, 4, 5, 3, 1, 6) (2, 4, 5, 3, 6, 1) (2, 4, 5, 6, 1, 3) (2, 4, 5, 6, 3, 1) (2, 4, 6, 1, 3, 5) (2, 4, 6, 1, 5, 3) (2, 4, 6, 3, 1, 5) (2, 4, 6, 3, 5, 1) (2, 4, 6, 5, 1, 3) (2, 4, 6, 5, 3, 1) (2, 5, 1, 3, 4, 6) (2, 5, 1, 3, 6, 4) (2, 5, 1, 4, 3, 6) (2, 5, 1, 4, 6, 3) (2, 5, 1, 6, 3, 4) (2, 5, 1, 6, 4, 3) (2, 5, 3, 1, 4, 6) (2, 5, 3, 1, 6, 4) (2, 5, 3, 4, 1, 6) (2, 5, 3, 4, 6, 1) (2, 5, 3, 6, 1, 4) (2, 5, 3, 6, 4, 1) (2, 5, 4, 1, 3, 6) (2, 5, 4, 1, 6, 3) (2, 5, 4, 3, 1, 6) (2, 5, 4, 3, 6, 1) (2, 5, 4, 6, 1, 3) (2, 5, 4, 6, 3, 1) (2, 5, 6, 1, 3, 4) (2, 5, 6, 1, 4, 3) (2, 5, 6, 3, 1, 4) (2, 5, 6, 3, 4, 1) (2, 5, 6, 4, 1, 3) (2, 5, 6, 4, 3, 1) (2, 6, 1, 3, 4, 5) (2, 6, 1, 3, 5, 4) (2, 6, 1, 4, 3, 5) (2, 6, 1, 4, 5, 3) (2, 6, 1, 5, 3, 4) (2, 6, 1, 5, 4, 3) (2, 6, 3, 1, 4, 5) (2, 6, 3, 1, 5, 4) (2, 6, 3, 4, 1, 5) (2, 6, 3, 4, 5, 1) (2, 6, 3, 5, 1, 4) (2, 6, 3, 5, 4, 1) (2, 6, 4, 1, 3, 5) (2, 6, 4, 1, 5, 3) (2, 6, 4, 3, 1, 5) (2, 6, 4, 3, 5, 1) (2, 6, 4, 5, 1, 3) (2, 6, 4, 5, 3, 1) (2, 6, 5, 1, 3, 4) (2, 6, 5, 1, 4, 3) (2, 6, 5, 3, 1, 4) (2, 6, 5, 3, 4, 1) (2, 6, 5, 4, 1, 3) (2, 6, 5, 4, 3, 1) (3, 1, 2, 4, 5, 6) (3, 1, 2, 4, 6, 5) (3, 1, 2, 5, 4, 6) (3, 1, 2, 5, 6, 4) (3, 1, 2, 6, 4, 5) (3, 1, 2, 6, 5, 4) (3, 1, 4, 2, 5, 6) (3, 1, 4, 2, 6, 5) (3, 1, 4, 5, 2, 6) (3, 1, 4, 5, 6, 2) (3, 1, 4, 6, 2, 5) (3, 1, 4, 6, 5, 2) (3, 1, 5, 2, 4, 6) (3, 1, 5, 2, 6, 4) (3, 1, 5, 4, 2, 6) (3, 1, 5, 4, 6, 2) (3, 1, 5, 6, 2, 4) (3, 1, 5, 6, 4, 2) (3, 1, 6, 2, 4, 5) (3, 1, 6, 2, 5, 4) (3, 1, 6, 4, 2, 5) (3, 1, 6, 4, 5, 2) (3, 1, 6, 5, 2, 4) (3, 1, 6, 5, 4, 2) (3, 2, 1, 4, 5, 6) (3, 2, 1, 4, 6, 5) (3, 2, 1, 5, 4, 6) (3, 2, 1, 5, 6, 4) (3, 2, 1, 6, 4, 5) (3, 2, 1, 6, 5, 4) (3, 2, 4, 1, 5, 6) (3, 2, 4, 1, 6, 5) (3, 2, 4, 5, 1, 6) (3, 2, 4, 5, 6, 1) (3, 2, 4, 6, 1, 5) (3, 2, 4, 6, 5, 1) (3, 2, 5, 1, 4, 6) (3, 2, 5, 1, 6, 4) (3, 2, 5, 4, 1, 6) (3, 2, 5, 4, 6, 1) (3, 2, 5, 6, 1, 4) (3, 2, 5, 6, 4, 1) (3, 2, 6, 1, 4, 5) (3, 2, 6, 1, 5, 4) (3, 2, 6, 4, 1, 5) (3, 2, 6, 4, 5, 1) (3, 2, 6, 5, 1, 4) (3, 2, 6, 5, 4, 1) (3, 4, 1, 2, 5, 6) (3, 4, 1, 2, 6, 5) (3, 4, 1, 5, 2, 6) (3, 4, 1, 5, 6, 2) (3, 4, 1, 6, 2, 5) (3, 4, 1, 6, 5, 2) (3, 4, 2, 1, 5, 6) (3, 4, 2, 1, 6, 5) (3, 4, 2, 5, 1, 6) (3, 4, 2, 5, 6, 1) (3, 4, 2, 6, 1, 5) (3, 4, 2, 6, 5, 1) (3, 4, 5, 1, 2, 6) (3, 4, 5, 1, 6, 2) (3, 4, 5, 2, 1, 6) (3, 4, 5, 2, 6, 1) (3, 4, 5, 6, 1, 2) (3, 4, 5, 6, 2, 1) (3, 4, 6, 1, 2, 5) (3, 4, 6, 1, 5, 2) (3, 4, 6, 2, 1, 5) (3, 4, 6, 2, 5, 1) (3, 4, 6, 5, 1, 2) (3, 4, 6, 5, 2, 1) (3, 5, 1, 2, 4, 6) (3, 5, 1, 2, 6, 4) (3, 5, 1, 4, 2, 6) (3, 5, 1, 4, 6, 2) (3, 5, 1, 6, 2, 4) (3, 5, 1, 6, 4, 2) (3, 5, 2, 1, 4, 6) (3, 5, 2, 1, 6, 4) (3, 5, 2, 4, 1, 6) (3, 5, 2, 4, 6, 1) (3, 5, 2, 6, 1, 4) (3, 5, 2, 6, 4, 1) (3, 5, 4, 1, 2, 6) (3, 5, 4, 1, 6, 2) (3, 5, 4, 2, 1, 6) (3, 5, 4, 2, 6, 1) (3, 5, 4, 6, 1, 2) (3, 5, 4, 6, 2, 1) (3, 5, 6, 1, 2, 4) (3, 5, 6, 1, 4, 2) (3, 5, 6, 2, 1, 4) (3, 5, 6, 2, 4, 1) (3, 5, 6, 4, 1, 2) (3, 5, 6, 4, 2, 1) (3, 6, 1, 2, 4, 5) (3, 6, 1, 2, 5, 4) (3, 6, 1, 4, 2, 5) (3, 6, 1, 4, 5, 2) (3, 6, 1, 5, 2, 4) (3, 6, 1, 5, 4, 2) (3, 6, 2, 1, 4, 5) (3, 6, 2, 1, 5, 4) (3, 6, 2, 4, 1, 5) (3, 6, 2, 4, 5, 1) (3, 6, 2, 5, 1, 4) (3, 6, 2, 5, 4, 1) (3, 6, 4, 1, 2, 5) (3, 6, 4, 1, 5, 2) (3, 6, 4, 2, 1, 5) (3, 6, 4, 2, 5, 1) (3, 6, 4, 5, 1, 2) (3, 6, 4, 5, 2, 1) (3, 6, 5, 1, 2, 4) (3, 6, 5, 1, 4, 2) (3, 6, 5, 2, 1, 4) (3, 6, 5, 2, 4, 1) (3, 6, 5, 4, 1, 2) (3, 6, 5, 4, 2, 1) (4, 1, 2, 3, 5, 6) (4, 1, 2, 3, 6, 5) (4, 1, 2, 5, 3, 6) (4, 1, 2, 5, 6, 3) (4, 1, 2, 6, 3, 5) (4, 1, 2, 6, 5, 3) (4, 1, 3, 2, 5, 6) (4, 1, 3, 2, 6, 5) (4, 1, 3, 5, 2, 6) (4, 1, 3, 5, 6, 2) (4, 1, 3, 6, 2, 5) (4, 1, 3, 6, 5, 2) (4, 1, 5, 2, 3, 6) (4, 1, 5, 2, 6, 3) (4, 1, 5, 3, 2, 6) (4, 1, 5, 3, 6, 2) (4, 1, 5, 6, 2, 3) (4, 1, 5, 6, 3, 2) (4, 1, 6, 2, 3, 5) (4, 1, 6, 2, 5, 3) (4, 1, 6, 3, 2, 5) (4, 1, 6, 3, 5, 2) (4, 1, 6, 5, 2, 3) (4, 1, 6, 5, 3, 2) (4, 2, 1, 3, 5, 6) (4, 2, 1, 3, 6, 5) (4, 2, 1, 5, 3, 6) (4, 2, 1, 5, 6, 3) (4, 2, 1, 6, 3, 5) (4, 2, 1, 6, 5, 3) (4, 2, 3, 1, 5, 6) (4, 2, 3, 1, 6, 5) (4, 2, 3, 5, 1, 6) (4, 2, 3, 5, 6, 1) (4, 2, 3, 6, 1, 5) (4, 2, 3, 6, 5, 1) (4, 2, 5, 1, 3, 6) (4, 2, 5, 1, 6, 3) (4, 2, 5, 3, 1, 6) (4, 2, 5, 3, 6, 1) (4, 2, 5, 6, 1, 3) (4, 2, 5, 6, 3, 1) (4, 2, 6, 1, 3, 5) (4, 2, 6, 1, 5, 3) (4, 2, 6, 3, 1, 5) (4, 2, 6, 3, 5, 1) (4, 2, 6, 5, 1, 3) (4, 2, 6, 5, 3, 1) (4, 3, 1, 2, 5, 6) (4, 3, 1, 2, 6, 5) (4, 3, 1, 5, 2, 6) (4, 3, 1, 5, 6, 2) (4, 3, 1, 6, 2, 5) (4, 3, 1, 6, 5, 2) (4, 3, 2, 1, 5, 6) (4, 3, 2, 1, 6, 5) (4, 3, 2, 5, 1, 6) (4, 3, 2, 5, 6, 1) (4, 3, 2, 6, 1, 5) (4, 3, 2, 6, 5, 1) (4, 3, 5, 1, 2, 6) (4, 3, 5, 1, 6, 2) (4, 3, 5, 2, 1, 6) (4, 3, 5, 2, 6, 1) (4, 3, 5, 6, 1, 2) (4, 3, 5, 6, 2, 1) (4, 3, 6, 1, 2, 5) (4, 3, 6, 1, 5, 2) (4, 3, 6, 2, 1, 5) (4, 3, 6, 2, 5, 1) (4, 3, 6, 5, 1, 2) (4, 3, 6, 5, 2, 1) (4, 5, 1, 2, 3, 6) (4, 5, 1, 2, 6, 3) (4, 5, 1, 3, 2, 6) (4, 5, 1, 3, 6, 2) (4, 5, 1, 6, 2, 3) (4, 5, 1, 6, 3, 2) (4, 5, 2, 1, 3, 6) (4, 5, 2, 1, 6, 3) (4, 5, 2, 3, 1, 6) (4, 5, 2, 3, 6, 1) (4, 5, 2, 6, 1, 3) (4, 5, 2, 6, 3, 1) (4, 5, 3, 1, 2, 6) (4, 5, 3, 1, 6, 2) (4, 5, 3, 2, 1, 6) (4, 5, 3, 2, 6, 1) (4, 5, 3, 6, 1, 2) (4, 5, 3, 6, 2, 1) (4, 5, 6, 1, 2, 3) (4, 5, 6, 1, 3, 2) (4, 5, 6, 2, 1, 3) (4, 5, 6, 2, 3, 1) (4, 5, 6, 3, 1, 2) (4, 5, 6, 3, 2, 1) (4, 6, 1, 2, 3, 5) (4, 6, 1, 2, 5, 3) (4, 6, 1, 3, 2, 5) (4, 6, 1, 3, 5, 2) (4, 6, 1, 5, 2, 3) (4, 6, 1, 5, 3, 2) (4, 6, 2, 1, 3, 5) (4, 6, 2, 1, 5, 3) (4, 6, 2, 3, 1, 5) (4, 6, 2, 3, 5, 1) (4, 6, 2, 5, 1, 3) (4, 6, 2, 5, 3, 1) (4, 6, 3, 1, 2, 5) (4, 6, 3, 1, 5, 2) (4, 6, 3, 2, 1, 5) (4, 6, 3, 2, 5, 1) (4, 6, 3, 5, 1, 2) (4, 6, 3, 5, 2, 1) (4, 6, 5, 1, 2, 3) (4, 6, 5, 1, 3, 2) (4, 6, 5, 2, 1, 3) (4, 6, 5, 2, 3, 1) (4, 6, 5, 3, 1, 2) (4, 6, 5, 3, 2, 1) (5, 1, 2, 3, 4, 6) (5, 1, 2, 3, 6, 4) (5, 1, 2, 4, 3, 6) (5, 1, 2, 4, 6, 3) (5, 1, 2, 6, 3, 4) (5, 1, 2, 6, 4, 3) (5, 1, 3, 2, 4, 6) (5, 1, 3, 2, 6, 4) (5, 1, 3, 4, 2, 6) (5, 1, 3, 4, 6, 2) (5, 1, 3, 6, 2, 4) (5, 1, 3, 6, 4, 2) (5, 1, 4, 2, 3, 6) (5, 1, 4, 2, 6, 3) (5, 1, 4, 3, 2, 6) (5, 1, 4, 3, 6, 2) (5, 1, 4, 6, 2, 3) (5, 1, 4, 6, 3, 2) (5, 1, 6, 2, 3, 4) (5, 1, 6, 2, 4, 3) (5, 1, 6, 3, 2, 4) (5, 1, 6, 3, 4, 2) (5, 1, 6, 4, 2, 3) (5, 1, 6, 4, 3, 2) (5, 2, 1, 3, 4, 6) (5, 2, 1, 3, 6, 4) (5, 2, 1, 4, 3, 6) (5, 2, 1, 4, 6, 3) (5, 2, 1, 6, 3, 4) (5, 2, 1, 6, 4, 3) (5, 2, 3, 1, 4, 6) (5, 2, 3, 1, 6, 4) (5, 2, 3, 4, 1, 6) (5, 2, 3, 4, 6, 1) (5, 2, 3, 6, 1, 4) (5, 2, 3, 6, 4, 1) (5, 2, 4, 1, 3, 6) (5, 2, 4, 1, 6, 3) (5, 2, 4, 3, 1, 6) (5, 2, 4, 3, 6, 1) (5, 2, 4, 6, 1, 3) (5, 2, 4, 6, 3, 1) (5, 2, 6, 1, 3, 4) (5, 2, 6, 1, 4, 3) (5, 2, 6, 3, 1, 4) (5, 2, 6, 3, 4, 1) (5, 2, 6, 4, 1, 3) (5, 2, 6, 4, 3, 1) (5, 3, 1, 2, 4, 6) (5, 3, 1, 2, 6, 4) (5, 3, 1, 4, 2, 6) (5, 3, 1, 4, 6, 2) (5, 3, 1, 6, 2, 4) (5, 3, 1, 6, 4, 2) (5, 3, 2, 1, 4, 6) (5, 3, 2, 1, 6, 4) (5, 3, 2, 4, 1, 6) (5, 3, 2, 4, 6, 1) (5, 3, 2, 6, 1, 4) (5, 3, 2, 6, 4, 1) (5, 3, 4, 1, 2, 6) (5, 3, 4, 1, 6, 2) (5, 3, 4, 2, 1, 6) (5, 3, 4, 2, 6, 1) (5, 3, 4, 6, 1, 2) (5, 3, 4, 6, 2, 1) (5, 3, 6, 1, 2, 4) (5, 3, 6, 1, 4, 2) (5, 3, 6, 2, 1, 4) (5, 3, 6, 2, 4, 1) (5, 3, 6, 4, 1, 2) (5, 3, 6, 4, 2, 1) (5, 4, 1, 2, 3, 6) (5, 4, 1, 2, 6, 3) (5, 4, 1, 3, 2, 6) (5, 4, 1, 3, 6, 2) (5, 4, 1, 6, 2, 3) (5, 4, 1, 6, 3, 2) (5, 4, 2, 1, 3, 6) (5, 4, 2, 1, 6, 3) (5, 4, 2, 3, 1, 6) (5, 4, 2, 3, 6, 1) (5, 4, 2, 6, 1, 3) (5, 4, 2, 6, 3, 1) (5, 4, 3, 1, 2, 6) (5, 4, 3, 1, 6, 2) (5, 4, 3, 2, 1, 6) (5, 4, 3, 2, 6, 1) (5, 4, 3, 6, 1, 2) (5, 4, 3, 6, 2, 1) (5, 4, 6, 1, 2, 3) (5, 4, 6, 1, 3, 2) (5, 4, 6, 2, 1, 3) (5, 4, 6, 2, 3, 1) (5, 4, 6, 3, 1, 2) (5, 4, 6, 3, 2, 1) (5, 6, 1, 2, 3, 4) (5, 6, 1, 2, 4, 3) (5, 6, 1, 3, 2, 4) (5, 6, 1, 3, 4, 2) (5, 6, 1, 4, 2, 3) (5, 6, 1, 4, 3, 2) (5, 6, 2, 1, 3, 4) (5, 6, 2, 1, 4, 3) (5, 6, 2, 3, 1, 4) (5, 6, 2, 3, 4, 1) (5, 6, 2, 4, 1, 3) (5, 6, 2, 4, 3, 1) (5, 6, 3, 1, 2, 4) (5, 6, 3, 1, 4, 2) (5, 6, 3, 2, 1, 4) (5, 6, 3, 2, 4, 1) (5, 6, 3, 4, 1, 2) (5, 6, 3, 4, 2, 1) (5, 6, 4, 1, 2, 3) (5, 6, 4, 1, 3, 2) (5, 6, 4, 2, 1, 3) (5, 6, 4, 2, 3, 1) (5, 6, 4, 3, 1, 2) (5, 6, 4, 3, 2, 1) (6, 1, 2, 3, 4, 5) (6, 1, 2, 3, 5, 4) (6, 1, 2, 4, 3, 5) (6, 1, 2, 4, 5, 3) (6, 1, 2, 5, 3, 4) (6, 1, 2, 5, 4, 3) (6, 1, 3, 2, 4, 5) (6, 1, 3, 2, 5, 4) (6, 1, 3, 4, 2, 5) (6, 1, 3, 4, 5, 2) (6, 1, 3, 5, 2, 4) (6, 1, 3, 5, 4, 2) (6, 1, 4, 2, 3, 5) (6, 1, 4, 2, 5, 3) (6, 1, 4, 3, 2, 5) (6, 1, 4, 3, 5, 2) (6, 1, 4, 5, 2, 3) (6, 1, 4, 5, 3, 2) (6, 1, 5, 2, 3, 4) (6, 1, 5, 2, 4, 3) (6, 1, 5, 3, 2, 4) (6, 1, 5, 3, 4, 2) (6, 1, 5, 4, 2, 3) (6, 1, 5, 4, 3, 2) (6, 2, 1, 3, 4, 5) (6, 2, 1, 3, 5, 4) (6, 2, 1, 4, 3, 5) (6, 2, 1, 4, 5, 3) (6, 2, 1, 5, 3, 4) (6, 2, 1, 5, 4, 3) (6, 2, 3, 1, 4, 5) (6, 2, 3, 1, 5, 4) (6, 2, 3, 4, 1, 5) (6, 2, 3, 4, 5, 1) (6, 2, 3, 5, 1, 4) (6, 2, 3, 5, 4, 1) (6, 2, 4, 1, 3, 5) (6, 2, 4, 1, 5, 3) (6, 2, 4, 3, 1, 5) (6, 2, 4, 3, 5, 1) (6, 2, 4, 5, 1, 3) (6, 2, 4, 5, 3, 1) (6, 2, 5, 1, 3, 4) (6, 2, 5, 1, 4, 3) (6, 2, 5, 3, 1, 4) (6, 2, 5, 3, 4, 1) (6, 2, 5, 4, 1, 3) (6, 2, 5, 4, 3, 1) (6, 3, 1, 2, 4, 5) (6, 3, 1, 2, 5, 4) (6, 3, 1, 4, 2, 5) (6, 3, 1, 4, 5, 2) (6, 3, 1, 5, 2, 4) (6, 3, 1, 5, 4, 2) (6, 3, 2, 1, 4, 5) (6, 3, 2, 1, 5, 4) (6, 3, 2, 4, 1, 5) (6, 3, 2, 4, 5, 1) (6, 3, 2, 5, 1, 4) (6, 3, 2, 5, 4, 1) (6, 3, 4, 1, 2, 5) (6, 3, 4, 1, 5, 2) (6, 3, 4, 2, 1, 5) (6, 3, 4, 2, 5, 1) (6, 3, 4, 5, 1, 2) (6, 3, 4, 5, 2, 1) (6, 3, 5, 1, 2, 4) (6, 3, 5, 1, 4, 2) (6, 3, 5, 2, 1, 4) (6, 3, 5, 2, 4, 1) (6, 3, 5, 4, 1, 2) (6, 3, 5, 4, 2, 1) (6, 4, 1, 2, 3, 5) (6, 4, 1, 2, 5, 3) (6, 4, 1, 3, 2, 5) (6, 4, 1, 3, 5, 2) (6, 4, 1, 5, 2, 3) (6, 4, 1, 5, 3, 2) (6, 4, 2, 1, 3, 5) (6, 4, 2, 1, 5, 3) (6, 4, 2, 3, 1, 5) (6, 4, 2, 3, 5, 1) (6, 4, 2, 5, 1, 3) (6, 4, 2, 5, 3, 1) (6, 4, 3, 1, 2, 5) (6, 4, 3, 1, 5, 2) (6, 4, 3, 2, 1, 5) (6, 4, 3, 2, 5, 1) (6, 4, 3, 5, 1, 2) (6, 4, 3, 5, 2, 1) (6, 4, 5, 1, 2, 3) (6, 4, 5, 1, 3, 2) (6, 4, 5, 2, 1, 3) (6, 4, 5, 2, 3, 1) (6, 4, 5, 3, 1, 2) (6, 4, 5, 3, 2, 1) (6, 5, 1, 2, 3, 4) (6, 5, 1, 2, 4, 3) (6, 5, 1, 3, 2, 4) (6, 5, 1, 3, 4, 2) (6, 5, 1, 4, 2, 3) (6, 5, 1, 4, 3, 2) (6, 5, 2, 1, 3, 4) (6, 5, 2, 1, 4, 3) (6, 5, 2, 3, 1, 4) (6, 5, 2, 3, 4, 1) (6, 5, 2, 4, 1, 3) (6, 5, 2, 4, 3, 1) (6, 5, 3, 1, 2, 4) (6, 5, 3, 1, 4, 2) (6, 5, 3, 2, 1, 4) (6, 5, 3, 2, 4, 1) (6, 5, 3, 4, 1, 2) (6, 5, 3, 4, 2, 1) (6, 5, 4, 1, 2, 3) (6, 5, 4, 1, 3, 2) (6, 5, 4, 2, 1, 3) (6, 5, 4, 2, 3, 1) (6, 5, 4, 3, 1, 2) (6, 5, 4, 3, 2, 1)\n"
          ],
          "name": "stdout"
        }
      ]
    },
    {
      "cell_type": "code",
      "metadata": {
        "id": "voJW2OoKxbjK",
        "colab_type": "code",
        "colab": {}
      },
      "source": [
        "# evaluate all permutations\n",
        "for perm in permutations(seq):\n",
        "    print(' '.join(map(str, perm)))"
      ],
      "execution_count": 0,
      "outputs": []
    },
    {
      "cell_type": "markdown",
      "metadata": {
        "colab_type": "text",
        "id": "xUIjNQXR_CKb"
      },
      "source": [
        "####Task 20 Calculating Protein Mass"
      ]
    },
    {
      "cell_type": "markdown",
      "metadata": {
        "id": "gdr308eLkncH",
        "colab_type": "text"
      },
      "source": [
        "**Problem**\n",
        "In a weighted alphabet, every symbol is assigned a positive real number called a weight. A string formed from a weighted alphabet is called a weighted string, and its weight is equal to the sum of the weights of its symbols.\n",
        "\n",
        "The standard weight assigned to each member of the 20-symbol amino acid alphabet is the monoisotopic mass of the corresponding amino acid.\n",
        "\n",
        "Given: A protein string P of length at most 1000 aa.\n",
        "\n",
        "Return: The total weight of P. Consult the monoisotopic mass table."
      ]
    },
    {
      "cell_type": "code",
      "metadata": {
        "id": "C3ssie6FygQP",
        "colab_type": "code",
        "colab": {}
      },
      "source": [
        "p_mass = {\n",
        "            'A':   71.03711,\n",
        "            'C':   103.00919,\n",
        "            'D':   115.02694,\n",
        "            'E':   129.04259,\n",
        "            'F':   147.06841,\n",
        "            'G':   57.02146,\n",
        "            'H':   137.05891,\n",
        "            'I':   113.08406,\n",
        "            'K':   128.09496,\n",
        "            'L':   113.08406,\n",
        "            'M':   131.04049,\n",
        "            'N':   114.04293,\n",
        "            'P':   97.05276,\n",
        "            'Q':   128.05858,\n",
        "            'R':   156.10111,\n",
        "            'S':   87.03203,\n",
        "            'T':   101.04768,\n",
        "            'V':   99.06841,\n",
        "            'W':   186.07931,\n",
        "            'Y':   163.06333,\n",
        "           }"
      ],
      "execution_count": 0,
      "outputs": []
    },
    {
      "cell_type": "code",
      "metadata": {
        "id": "sSn7Ly_GAG1l",
        "colab_type": "code",
        "colab": {}
      },
      "source": [
        "example = 'SKADYEK'"
      ],
      "execution_count": 0,
      "outputs": []
    },
    {
      "cell_type": "code",
      "metadata": {
        "id": "OuX6_RIzBKtL",
        "colab_type": "code",
        "colab": {}
      },
      "source": [
        "rosalind_file = 'rosalind_prtm.txt'\n",
        "with open(rosalind_file, 'r') as inf:\n",
        "    example = inf.read()\n",
        "#example = example[:-2]"
      ],
      "execution_count": 0,
      "outputs": []
    },
    {
      "cell_type": "code",
      "metadata": {
        "id": "hjh6hMg3CtmH",
        "colab_type": "code",
        "outputId": "73b9c899-21ca-4d17-96cd-b2d284182177",
        "colab": {
          "base_uri": "https://localhost:8080/",
          "height": 55
        }
      },
      "source": [
        "example"
      ],
      "execution_count": 0,
      "outputs": [
        {
          "output_type": "execute_result",
          "data": {
            "text/plain": [
              "'VTKVLQDAHAGDYCICCAYQMSGYEGDAWLQWYGCHRCKQTFTIICKTVLQFSKKYSEIYPGKTEKPTFEWRNFACQRSMMMFYNCEPGANWAPSNYNDHVYMLESWAMEYVNGFFWQHEWCKQMCTCDLRTVGRRWWMSVWSLAGGYQIGHCVKCSITHAVFEGYVQIYSRKYYYLTWHPIAIYVRNDVDLQYEDSNQTNLNYCRLVFQRCETPWRFWLGMTTCIINVVTTNMWLHSVNRDQQPHGVGIFVPSMCHFMPQVRFTDDFERADLINHLHKVCWNWTWFQLRCDSKMLPIEKCSLSVSSQFSHMSVAHPRERQFWSMCRGHIEECNEVWINNMATKWWCPTHFEHVYCLAQTEGVHKGPWNCLDDDYWFQDYNWKQQHAEDYNELGGQALKCRGMVMRQNFLYRFDKLQFWHLHGVFVKYLEGPYTFWRSYNMAFSPDFRRKQGWNNRNAMWAFAAWSGVLRFEHYCHIRTWWWRHNKCWPSEVYQCAVDAMRCSILEDFQWWDYRSSMEGRKRYHGWNLFEPCEFNMWCAHDMCESFRQGNGITPACLCRWDNRNMMIRQNTVICTKEMPSYMAFGLVMAHCHWLFTEQLYQENTYKHCLPQFARCCQHRKQLHNMSACVIDKFISLGAFGEYCAHWYNRHMWNTMFIGCNIILMINNAGCKCTRVMDCARGAMQICTDQHLVSVHLNMMDWKIRYQFPWHLGESWNWLNELACVQCSHCQCPCTYYKDTEQQKNQIAPWKLFRKIDREEKSSECAFWMIEKIQTDTVFQEYQCAPEWTMVTKAIRPYSSTQQHWDEDTHLSNHPSSPWPIPTTRYTLKVCQKCYLHCWVVNKHIENWNCGKMDLWYCHWTGAYFTWMGSFNACEWHGHGLENT'"
            ]
          },
          "metadata": {
            "tags": []
          },
          "execution_count": 37
        }
      ]
    },
    {
      "cell_type": "code",
      "metadata": {
        "id": "M_D5pvpdAK9N",
        "colab_type": "code",
        "outputId": "8926b3fb-82e0-432c-997e-83d1500e6951",
        "colab": {
          "base_uri": "https://localhost:8080/",
          "height": 35
        }
      },
      "source": [
        "f_mass = 0\n",
        "for alpha in example:\n",
        "    if alpha in p_mass:\n",
        "        f_mass += p_mass[alpha] \n",
        "print (round(f_mass,3))"
      ],
      "execution_count": 0,
      "outputs": [
        {
          "output_type": "stream",
          "text": [
            "98811.041\n"
          ],
          "name": "stdout"
        }
      ]
    },
    {
      "cell_type": "markdown",
      "metadata": {
        "id": "5gbaysiEGMln",
        "colab_type": "text"
      },
      "source": [
        "####Task 21 Locating Restriction Sites"
      ]
    },
    {
      "cell_type": "markdown",
      "metadata": {
        "id": "FJ3_-ZOel6jv",
        "colab_type": "text"
      },
      "source": [
        "![Problem](http://rosalind.info/media/problems/revp/palindrome.png)\n",
        "Palindromic recognition site\n",
        "A DNA string is a reverse palindrome if it is equal to its reverse complement. For instance, GCATGC is a reverse palindrome because its reverse complement is GCATGC. See Figure 2.\n",
        "\n",
        "Given: A DNA string of length at most 1 kbp in FASTA format.\n",
        "\n",
        "Return: The position and length of every reverse palindrome in the string having length between 4 and 12. You may return these pairs in any order."
      ]
    },
    {
      "cell_type": "code",
      "metadata": {
        "id": "ggBSGlBBGjEt",
        "colab_type": "code",
        "colab": {}
      },
      "source": [
        "seq = Seq('TCAATGCATGCGGGTCTATATGCAT')"
      ],
      "execution_count": 0,
      "outputs": []
    },
    {
      "cell_type": "code",
      "metadata": {
        "id": "0VaYXphhODtt",
        "colab_type": "code",
        "outputId": "00818c13-639a-4f0f-b2e3-193cd59f9f8e",
        "colab": {
          "base_uri": "https://localhost:8080/",
          "height": 35
        }
      },
      "source": [
        "!ls"
      ],
      "execution_count": 0,
      "outputs": [
        {
          "output_type": "stream",
          "text": [
            "rosalind_revp.txt  sample_data\n"
          ],
          "name": "stdout"
        }
      ]
    },
    {
      "cell_type": "code",
      "metadata": {
        "id": "ClVdKYt-NyAD",
        "colab_type": "code",
        "colab": {}
      },
      "source": [
        "rosalind_file = 'rosalind_revp.txt'\n",
        "with open(rosalind_file, 'r') as inf:\n",
        "    seq = SeqIO.read(inf, 'fasta')"
      ],
      "execution_count": 0,
      "outputs": []
    },
    {
      "cell_type": "code",
      "metadata": {
        "id": "g__aAjL5JIHN",
        "colab_type": "code",
        "colab": {}
      },
      "source": [
        "for polin in range (4, 13, 2):\n",
        "    for cnt in range(len(seq.seq) - polin + 1):\n",
        "        #print (cnt)\n",
        "        word = seq.seq[cnt:cnt + polin]\n",
        "        #print(word, ' - ', word.reverse_complement())\n",
        "        if word == word.reverse_complement():\n",
        "            print(cnt + 1, polin)"
      ],
      "execution_count": 0,
      "outputs": []
    }
  ]
}