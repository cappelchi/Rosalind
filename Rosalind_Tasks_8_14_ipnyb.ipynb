{
  "nbformat": 4,
  "nbformat_minor": 0,
  "metadata": {
    "colab": {
      "name": "Rosalind Tasks 8_14.ipnyb",
      "provenance": [],
      "collapsed_sections": [],
      "include_colab_link": true
    },
    "kernelspec": {
      "name": "python3",
      "display_name": "Python 3"
    }
  },
  "cells": [
    {
      "cell_type": "markdown",
      "metadata": {
        "id": "view-in-github",
        "colab_type": "text"
      },
      "source": [
        "<a href=\"https://colab.research.google.com/github/cappelchi/Rosalind/blob/master/Rosalind_Tasks_8_14_ipnyb.ipynb\" target=\"_parent\"><img src=\"https://colab.research.google.com/assets/colab-badge.svg\" alt=\"Open In Colab\"/></a>"
      ]
    },
    {
      "cell_type": "markdown",
      "metadata": {
        "id": "Z9kQgORaFfSu",
        "colab_type": "text"
      },
      "source": [
        "https://www.tutorialspoint.com/biopython/biopython_quick_guide.htm\n"
      ]
    },
    {
      "cell_type": "code",
      "metadata": {
        "id": "u5UOxlYuFJaZ",
        "colab_type": "code",
        "outputId": "5671ecf5-fd39-4de1-ff77-2d8d4c80c2f5",
        "colab": {
          "base_uri": "https://localhost:8080/",
          "height": 144
        }
      },
      "source": [
        "!pip install biopython"
      ],
      "execution_count": 0,
      "outputs": [
        {
          "output_type": "stream",
          "text": [
            "Collecting biopython\n",
            "\u001b[?25l  Downloading https://files.pythonhosted.org/packages/ed/77/de3ba8f3d3015455f5df859c082729198ee6732deaeb4b87b9cfbfbaafe3/biopython-1.74-cp36-cp36m-manylinux1_x86_64.whl (2.2MB)\n",
            "\u001b[K     |████████████████████████████████| 2.2MB 2.8MB/s \n",
            "\u001b[?25hRequirement already satisfied: numpy in /usr/local/lib/python3.6/dist-packages (from biopython) (1.16.4)\n",
            "Installing collected packages: biopython\n",
            "Successfully installed biopython-1.74\n"
          ],
          "name": "stdout"
        }
      ]
    },
    {
      "cell_type": "code",
      "metadata": {
        "id": "aD4ljmnpFzPN",
        "colab_type": "code",
        "outputId": "d662f367-b77b-47c5-9cc8-e80fc2741dab",
        "colab": {
          "base_uri": "https://localhost:8080/",
          "height": 53
        }
      },
      "source": [
        "import sys\n",
        "print(sys.version)\n",
        "import numpy as np\n",
        "import pandas as pd"
      ],
      "execution_count": 0,
      "outputs": [
        {
          "output_type": "stream",
          "text": [
            "3.6.8 (default, Jan 14 2019, 11:02:34) \n",
            "[GCC 8.0.1 20180414 (experimental) [trunk revision 259383]]\n"
          ],
          "name": "stdout"
        }
      ]
    },
    {
      "cell_type": "code",
      "metadata": {
        "id": "9X5m35ZmGJVa",
        "colab_type": "code",
        "colab": {}
      },
      "source": [
        "from Bio.SeqIO import parse \n",
        "from Bio.SeqRecord import SeqRecord \n",
        "from Bio.Seq import Seq \n",
        "from Bio.Alphabet import single_letter_alphabet \n",
        "from Bio.Alphabet import generic_protein \n",
        "from Bio.Alphabet import generic_nucleotide \n",
        "from Bio.Alphabet import generic_dna \n",
        "from Bio.Alphabet import generic_rna\n",
        "from Bio.Alphabet import IUPAC \n",
        "from Bio.Data import IUPACData \n",
        "from Bio.SeqUtils import GC \n",
        "from Bio.Seq import transcribe\n",
        "from Bio.Seq import translate\n",
        "from Bio import pairwise2\n",
        "from Bio import motifs \n",
        "from Bio import SeqIO"
      ],
      "execution_count": 0,
      "outputs": []
    },
    {
      "cell_type": "code",
      "metadata": {
        "id": "-mQiDfx3I1Wk",
        "colab_type": "code",
        "outputId": "f19ef347-a4fa-4a92-9b2e-f236471f8ed3",
        "colab": {
          "base_uri": "https://localhost:8080/",
          "height": 35
        }
      },
      "source": [
        "!ls"
      ],
      "execution_count": 0,
      "outputs": [
        {
          "output_type": "stream",
          "text": [
            "rosalind_lcsm.txt  sample_data\n"
          ],
          "name": "stdout"
        }
      ]
    },
    {
      "cell_type": "markdown",
      "metadata": {
        "id": "K7wp584UNOZ5",
        "colab_type": "text"
      },
      "source": [
        "####Task 8 Translating RNA into Protein"
      ]
    },
    {
      "cell_type": "markdown",
      "metadata": {
        "id": "NenjFAnwfbIr",
        "colab_type": "text"
      },
      "source": [
        "**Problem**\n",
        "The 20 commonly occurring amino acids are abbreviated by using 20 letters from the English alphabet (all letters except for B, J, O, U, X, and Z). Protein strings are constructed from these 20 symbols. Henceforth, the term genetic string will incorporate protein strings along with DNA strings and RNA strings.\n",
        "\n",
        "The RNA codon table dictates the details regarding the encoding of specific codons into the amino acid alphabet.\n",
        "\n",
        "Given: An RNA string s corresponding to a strand of mRNA (of length at most 10 kbp).\n",
        "\n",
        "Return: The protein string encoded by s."
      ]
    },
    {
      "cell_type": "code",
      "metadata": {
        "id": "mS95GHQQHDp5",
        "colab_type": "code",
        "colab": {}
      },
      "source": [
        "rosalind_file = 'rosalind_prot.txt'\n",
        "rna_seq = ''\n",
        "with open(rosalind_file, 'r') as task:\n",
        "    for line in task:\n",
        "        rna_seq = rna_seq + line \n",
        "\n",
        "print (rna_seq)\n",
        "rna_seq = Seq(rna_seq, IUPAC.unambiguous_rna)\n",
        "\n",
        "protein_seq = rna_seq.translate(to_stop = True)\n",
        "print (protein_seq)\n",
        "#print(rna_seq.translate(to_stop = True))\n",
        "with open('answer_8.txt', 'w') as answ:\n",
        "    answ.write(str(protein_seq))"
      ],
      "execution_count": 0,
      "outputs": []
    },
    {
      "cell_type": "markdown",
      "metadata": {
        "id": "Xq_FQRScO_pn",
        "colab_type": "text"
      },
      "source": [
        "####Task 9 Finding a Motif in DNA "
      ]
    },
    {
      "cell_type": "markdown",
      "metadata": {
        "id": "Duf7v8WofmDK",
        "colab_type": "text"
      },
      "source": [
        "**Problem**\n",
        "Given two strings s and t, t is a substring of s if t is contained as a contiguous collection of symbols in s (as a result, t must be no longer than s).\n",
        "\n",
        "The position of a symbol in a string is the total number of symbols found to its left, including itself (e.g., the positions of all occurrences of 'U' in \"AUGCUUCAGAAAGGUCUUACG\" are 2, 5, 6, 15, 17, and 18). The symbol at position i of s is denoted by s[i].\n",
        "\n",
        "A substring of s can be represented as s[j:k], where j and k represent the starting and ending positions of the substring in s; for example, if s = \"AUGCUUCAGAAAGGUCUUACG\", then s[2:5] = \"UGCU\".\n",
        "\n",
        "The location of a substring s[j:k] is its beginning position j; note that t will have multiple locations in s if it occurs more than once as a substring of s (see the Sample below).\n",
        "\n",
        "Given: Two DNA strings s and t (each of length at most 1 kbp).\n",
        "\n",
        "Return: All locations of t as a substring of s."
      ]
    },
    {
      "cell_type": "code",
      "metadata": {
        "id": "yCNQ-lS4NcBS",
        "colab_type": "code",
        "colab": {}
      },
      "source": [
        "rosalind_file = 'rosalind_subs.txt'\n",
        "seq = []\n",
        "with open(rosalind_file, 'r') as task:\n",
        "    for num, line in enumerate(task):\n",
        "        seq.append(line) \n",
        "        \n",
        "print (seq[0])\n",
        "print (seq[1])\n",
        "\n",
        "seq1 = Seq(seq[0])\n",
        "seq2 = Seq(seq[1])\n",
        "\n",
        "#seq1 = Seq('GATATATGCATATACTT')\n",
        "#seq2 = Seq('ATAT')\n",
        "alignments = pairwise2.align.localxs(seq1, seq2, -100, -100)\n",
        "motifs = []\n",
        "for alignment in alignments:\n",
        "    motifs.append(alignment[-2] + 1)\n",
        "    #print (alignment[-2] + 1)\n",
        "motifs.sort()\n",
        "answer = ''\n",
        "for motif in motifs:\n",
        "    answer = answer + str(motif) + ' '\n",
        "with open('answer_9.txt', 'w') as answ:\n",
        "    answ.write(str(answer))\n",
        "print (motifs)\n",
        "print (answer)\n",
        "'''\n",
        "f = 'GATATATGCATATACTT'\n",
        "p = 'ATAT'\n",
        "target_seq = Seq(f)\n",
        "motif = motifs.create([Seq(p)])\n",
        "for pos,seq in motif.instances.search(target_seq):\n",
        "    print(str(pos+1),end = ' ')\n",
        "'''"
      ],
      "execution_count": 0,
      "outputs": []
    },
    {
      "cell_type": "markdown",
      "metadata": {
        "id": "4o1Olu3sZfsT",
        "colab_type": "text"
      },
      "source": [
        "####Task 10 Consensus and Profile"
      ]
    },
    {
      "cell_type": "markdown",
      "metadata": {
        "id": "Jlqu-4a0fzFk",
        "colab_type": "text"
      },
      "source": [
        "**Problem**\n",
        "A matrix is a rectangular table of values divided into rows and columns. An m×n matrix has m rows and n columns. Given a matrix A, we write Ai,j to indicate the value found at the intersection of row i and column j.\n",
        "\n",
        "Say that we have a collection of DNA strings, all having the same length n. Their profile matrix is a 4×n matrix P in which P1,j represents the number of times that 'A' occurs in the jth position of one of the strings, P2,j represents the number of times that C occurs in the jth position, and so on (see below).\n",
        "\n",
        "A consensus string c is a string of length n formed from our collection by taking the most common symbol at each position; the jth symbol of c therefore corresponds to the symbol having the maximum value in the j-th column of the profile matrix. Of course, there may be more than one most common symbol, leading to multiple possible consensus strings.\n",
        "\n",
        "A T C C A G C T\n",
        "G G G C A A C T\n",
        "A T G G A T C T\n",
        "DNA Strings\tA A G C A A C C\n",
        "T T G G A A C T\n",
        "A T G C C A T T\n",
        "A T G G C A C T\n",
        "A   5 1 0 0 5 5 0 0\n",
        "Profile\tC   0 0 1 4 2 0 6 1\n",
        "G   1 1 6 3 0 1 0 0\n",
        "T   1 5 0 0 0 1 1 6\n",
        "Consensus\tA T G C A A C T\n",
        "Given: A collection of at most 10 DNA strings of equal length (at most 1 kbp) in FASTA format.\n",
        "\n",
        "Return: A consensus string and profile matrix for the collection. (If several possible consensus strings exist, then you may return any one of them.)"
      ]
    },
    {
      "cell_type": "code",
      "metadata": {
        "id": "OM86peMtmVtS",
        "colab_type": "code",
        "colab": {}
      },
      "source": [
        "#file = open(\"rosalind_GC.txt\", \"r\")\n",
        "rosalind_file = 'rosalind_cons.txt'\n",
        "DNA_motif = []\n",
        "with open(rosalind_file, 'r') as task:\n",
        "    for record in SeqIO.parse(task, \"fasta\"):\n",
        "            DNA_motif.append(record.seq)\n"
      ],
      "execution_count": 0,
      "outputs": []
    },
    {
      "cell_type": "code",
      "metadata": {
        "id": "Qsf-evWQnWe8",
        "colab_type": "code",
        "colab": {}
      },
      "source": [
        "DNA_motif"
      ],
      "execution_count": 0,
      "outputs": []
    },
    {
      "cell_type": "code",
      "metadata": {
        "id": "TWfSNA7kd-ce",
        "colab_type": "code",
        "colab": {}
      },
      "source": [
        "seq = motifs.create(DNA_motif) \n",
        "print(seq)\n",
        "print(seq.counts) \n",
        "matrix = seq.counts\n",
        "seq_cons = str(seq.consensus)\n",
        "#str(seq.consensus)\n",
        "a_mat = 'A: '\n",
        "c_mat = 'C: '\n",
        "g_mat = 'G: '\n",
        "t_mat = 'T: '\n",
        "for i in seq.counts['A', :]:\n",
        "    a_mat = a_mat + str(i) + ' '\n",
        "for i in seq.counts['C', :]:\n",
        "    c_mat = c_mat + str(i) + ' '\n",
        "for i in seq.counts['G', :]:\n",
        "    g_mat = g_mat + str(i) + ' '\n",
        "for i in seq.counts['T', :]:\n",
        "    t_mat = t_mat + str(i) + ' '\n",
        "    \n",
        "print(a_mat)\n",
        "print(c_mat)\n",
        "print(g_mat)\n",
        "print(t_mat)\n",
        "with open('answer_10.txt', 'w') as answ:\n",
        "    answ.write(seq_cons)\n",
        "    answ.write('\\n')\n",
        "    answ.write(a_mat)\n",
        "    answ.write('\\n')\n",
        "    answ.write(c_mat)\n",
        "    answ.write('\\n')\n",
        "    answ.write(g_mat)\n",
        "    answ.write('\\n')\n",
        "    answ.write(t_mat)\n",
        "\n",
        "print(seq.consensus)"
      ],
      "execution_count": 0,
      "outputs": []
    },
    {
      "cell_type": "markdown",
      "metadata": {
        "id": "dDpxCeyWc5vj",
        "colab_type": "text"
      },
      "source": [
        "####Task 11 Mortal Fibonacci Rabbits"
      ]
    },
    {
      "cell_type": "markdown",
      "metadata": {
        "id": "rfK-DpjlgXUe",
        "colab_type": "text"
      },
      "source": [
        "![Problem](http://rosalind.info/media/problems/fibd/mortal_rabbit_tree.thumb.png)\n",
        "Figure 4. A figure illustrating the propagation of Fibonacci's rabbits if they die after three months.\n",
        "Recall the definition of the Fibonacci numbers from “Rabbits and Recurrence Relations”, which followed the recurrence relation Fn=Fn−1+Fn−2 and assumed that each pair of rabbits reaches maturity in one month and produces a single pair of offspring (one male, one female) each subsequent month.\n",
        "\n",
        "Our aim is to somehow modify this recurrence relation to achieve a dynamic programming solution in the case that all rabbits die out after a fixed number of months. See Figure 4 for a depiction of a rabbit tree in which rabbits live for three months (meaning that they reproduce only twice before dying).\n",
        "\n",
        "Given: Positive integers n≤100 and m≤20.\n",
        "\n",
        "Return: The total number of pairs of rabbits that will remain after the n-th month if all rabbits live for m months."
      ]
    },
    {
      "cell_type": "code",
      "metadata": {
        "id": "sBJVOilSc60m",
        "colab_type": "code",
        "colab": {}
      },
      "source": [
        "n = 83 #duration\n",
        "k = 1\n",
        "m = 18 #live month\n",
        "gen_m =[0 for i in range (m)]\n",
        "popul = 1 #start\n",
        "pop_gen_1 = 1 #young\n",
        "pop_gen_2 = 0 #can give children\n",
        "pop_m = 0 #to_die\n",
        "gen_m[m-1] = pop_gen_1\n",
        "for i in range (2, n + 1):\n",
        "    popul = popul + pop_gen_2 * k - gen_m[0]\n",
        "    pop_gen_2 = pop_gen_1\n",
        "    pop_gen_1 = popul\n",
        "    gen_m = [gen_m[i] for i in range (1, m)]\n",
        "    gen_m.append(pop_gen_2 * k)\n",
        "    #print (i, ' - ', pop_gen_2, popul, gen_m[0], gen_m)\n",
        "print (popul)"
      ],
      "execution_count": 0,
      "outputs": []
    },
    {
      "cell_type": "markdown",
      "metadata": {
        "id": "-6Tt_AtASySu",
        "colab_type": "text"
      },
      "source": [
        "####Task 12 Overlap Graphs"
      ]
    },
    {
      "cell_type": "markdown",
      "metadata": {
        "id": "ruxkX32XgvyH",
        "colab_type": "text"
      },
      "source": [
        "**Problem**\n",
        "A graph whose nodes have all been labeled can be represented by an adjacency list, in which each row of the list contains the two node labels corresponding to a unique edge.\n",
        "\n",
        "A directed graph (or digraph) is a graph containing directed edges, each of which has an orientation. That is, a directed edge is represented by an arrow instead of a line segment; the starting and ending nodes of an edge form its tail and head, respectively. The directed edge with tail v and head w is represented by (v,w) (but not by (w,v)). A directed loop is a directed edge of the form (v,v).\n",
        "\n",
        "For a collection of strings and a positive integer k, the overlap graph for the strings is a directed graph Ok in which each string is represented by a node, and string s is connected to string t with a directed edge when there is a length k suffix of s that matches a length k prefix of t, as long as s≠t; we demand s≠t to prevent directed loops in the overlap graph (although directed cycles may be present).\n",
        "\n",
        "Given: A collection of DNA strings in FASTA format having total length at most 10 kbp.\n",
        "\n",
        "Return: The adjacency list corresponding to O3. You may return edges in any order."
      ]
    },
    {
      "cell_type": "code",
      "metadata": {
        "id": "A74Cthh-S0QA",
        "colab_type": "code",
        "colab": {}
      },
      "source": [
        "DNA_strings = {'Rosalind_0442': 'AAATCCC',\n",
        " 'Rosalind_0498': 'AAATAAA',\n",
        " 'Rosalind_2323': 'TTTTCCC',\n",
        " 'Rosalind_2391': 'AAATTTT',\n",
        " 'Rosalind_5013': 'GGGTGGG'}"
      ],
      "execution_count": 0,
      "outputs": []
    },
    {
      "cell_type": "code",
      "metadata": {
        "id": "Td9wVN1CS7W1",
        "colab_type": "code",
        "colab": {}
      },
      "source": [
        "import itertools\n",
        "def is_k_overlap(s1, s2, k):\n",
        "    return s1[-k:] == s2[:k]\n",
        "\n",
        "def k_edges(data, k):\n",
        "    edges = []\n",
        "    for u,v in itertools.combinations(data, 2):\n",
        "        u_dna, v_dna = data[u], data[v]\n",
        "\n",
        "        if is_k_overlap(u_dna, v_dna, k):\n",
        "            edges.append((u,v))\n",
        "\n",
        "        if is_k_overlap(v_dna, u_dna, k):\n",
        "            edges.append((v,u))\n",
        "\n",
        "    return edges"
      ],
      "execution_count": 0,
      "outputs": []
    },
    {
      "cell_type": "code",
      "metadata": {
        "colab_type": "code",
        "id": "7JfZQCE6Z9hW",
        "colab": {}
      },
      "source": [
        "rosalind_file = 'rosalind_grph.txt'\n",
        "DNA_strings = {}\n",
        "with open(rosalind_file, 'r') as task:\n",
        "    for record in SeqIO.parse(task, \"fasta\"):\n",
        "            DNA_strings.update({record.id: str(record.seq)})\n",
        "            \n",
        "edges_list = k_edges(DNA_strings, 3)\n",
        "\n",
        "with open('answer_12.txt', 'w') as answ:\n",
        "    for edge in edges_list:\n",
        "        answ.write(f'{edge[0]} {edge[1]}\\n')\n",
        "        print (f'{edge[0]} {edge[1]}\\n')"
      ],
      "execution_count": 0,
      "outputs": []
    },
    {
      "cell_type": "markdown",
      "metadata": {
        "id": "w8pL991RaaWm",
        "colab_type": "text"
      },
      "source": [
        "####Task 13 Calculating Expected Offspring"
      ]
    },
    {
      "cell_type": "markdown",
      "metadata": {
        "id": "joeLS8b4g-zU",
        "colab_type": "text"
      },
      "source": [
        "**Problem**\n",
        "For a random variable X taking integer values between 1 and n, the expected value of X is E(X)=∑nk=1k×Pr(X=k). The expected value offers us a way of taking the long-term average of a random variable over a large number of trials.\n",
        "\n",
        "As a motivating example, let X be the number on a six-sided die. Over a large number of rolls, we should expect to obtain an average of 3.5 on the die (even though it's not possible to roll a 3.5). The formula for expected value confirms that E(X)=∑6k=1k×Pr(X=k)=3.5.\n",
        "\n",
        "More generally, a random variable for which every one of a number of equally spaced outcomes has the same probability is called a uniform random variable (in the die example, this \"equal spacing\" is equal to 1). We can generalize our die example to find that if X is a uniform random variable with minimum possible value a and maximum possible value b, then E(X)=a+b2. You may also wish to verify that for the dice example, if Y is the random variable associated with the outcome of a second die roll, then E(X+Y)=7.\n",
        "\n",
        "Given: Six nonnegative integers, each of which does not exceed 20,000. The integers correspond to the number of couples in a population possessing each genotype pairing for a given factor. In order, the six given integers represent the number of couples having the following genotypes:\n",
        "\n",
        "AA-AA\n",
        "AA-Aa\n",
        "AA-aa\n",
        "Aa-Aa\n",
        "Aa-aa\n",
        "aa-aa\n",
        "Return: The expected number of offspring displaying the dominant phenotype in the next generation, under the assumption that every couple has exactly two offspring."
      ]
    },
    {
      "cell_type": "code",
      "metadata": {
        "id": "bO1gtHBQac3M",
        "colab_type": "code",
        "colab": {}
      },
      "source": [
        "probs = [1, 1, 1, 0.75, 0.5, 0]\n",
        "pairs = [16756, 17931, 16049, 18874, 16281, 18037]\n",
        "prob_sum = 0\n",
        "for prob, pair in zip(probs, pairs):\n",
        "    prob_sum = prob_sum + prob * pair\n",
        "print(prob_sum * 2)"
      ],
      "execution_count": 0,
      "outputs": []
    },
    {
      "cell_type": "markdown",
      "metadata": {
        "id": "UELDgllOl_Em",
        "colab_type": "text"
      },
      "source": [
        "####Task 14 Finding a Shared Motif"
      ]
    },
    {
      "cell_type": "markdown",
      "metadata": {
        "id": "IUwx7Sh1hL3c",
        "colab_type": "text"
      },
      "source": [
        "**Problem**\n",
        "A common substring of a collection of strings is a substring of every member of the collection. We say that a common substring is a longest common substring if there does not exist a longer common substring. For example, \"CG\" is a common substring of \"ACGTACGT\" and \"AACCGTATA\", but it is not as long as possible; in this case, \"CGTA\" is a longest common substring of \"ACGTACGT\" and \"AACCGTATA\".\n",
        "\n",
        "Note that the longest common substring is not necessarily unique; for a simple example, \"AA\" and \"CC\" are both longest common substrings of \"AACC\" and \"CCAA\".\n",
        "\n",
        "Given: A collection of k (k≤100) DNA strings of length at most 1 kbp each in FASTA format.\n",
        "\n",
        "Return: A longest common substring of the collection. (If multiple solutions exist, you may return any single solution.)"
      ]
    },
    {
      "cell_type": "code",
      "metadata": {
        "id": "SF7ks2YCe7sa",
        "colab_type": "code",
        "outputId": "24926679-b0df-4374-c1c5-d025b40fa76a",
        "colab": {
          "base_uri": "https://localhost:8080/",
          "height": 35
        }
      },
      "source": [
        "target_list = [Seq('GATTACA'), Seq('TAGACCA'), Seq('ATACA')]\n",
        "seq_count = len(target_list)\n",
        "nucleos = ['A', 'C', 'G', 'T']\n",
        "print (target_list, nucleos, seq_count)"
      ],
      "execution_count": 0,
      "outputs": [
        {
          "output_type": "stream",
          "text": [
            "[Seq('GATTACA'), Seq('TAGACCA'), Seq('ATACA')] ['A', 'C', 'G', 'T'] 3\n"
          ],
          "name": "stdout"
        }
      ]
    },
    {
      "cell_type": "code",
      "metadata": {
        "id": "ZMLWOHffCQdE",
        "colab_type": "code",
        "outputId": "179cd8e9-468e-4c72-d285-7f6f9e692e19",
        "colab": {
          "base_uri": "https://localhost:8080/",
          "height": 35
        }
      },
      "source": [
        "!ls"
      ],
      "execution_count": 0,
      "outputs": [
        {
          "output_type": "stream",
          "text": [
            "rosalind_lcsm.txt  sample_data\n"
          ],
          "name": "stdout"
        }
      ]
    },
    {
      "cell_type": "code",
      "metadata": {
        "id": "CYH1LtohgLWW",
        "colab_type": "code",
        "outputId": "e7df5bfe-4a18-4f21-c902-feb66a94c54f",
        "colab": {
          "base_uri": "https://localhost:8080/",
          "height": 35
        }
      },
      "source": [
        "target_list = []\n",
        "rosalind_file = 'rosalind_lcsm.txt'\n",
        "with open(rosalind_file, 'r') as task:\n",
        "    for record in SeqIO.parse(task, \"fasta\"):\n",
        "            target_list.append(record.seq)\n",
        "seq_count = len(target_list)\n",
        "nucleos = ['A', 'C', 'G', 'T']\n",
        "print (nucleos, seq_count)"
      ],
      "execution_count": 0,
      "outputs": [
        {
          "output_type": "stream",
          "text": [
            "['A', 'C', 'G', 'T'] 100\n"
          ],
          "name": "stdout"
        }
      ]
    },
    {
      "cell_type": "code",
      "metadata": {
        "id": "sdsDInU6xxs9",
        "colab_type": "code",
        "colab": {}
      },
      "source": [
        "dna_string = target_list[0]"
      ],
      "execution_count": 0,
      "outputs": []
    },
    {
      "cell_type": "code",
      "metadata": {
        "id": "YdlD-LvexHEn",
        "colab_type": "code",
        "outputId": "c5c017d7-e9dd-49a6-dcb3-0b7745407d17",
        "colab": {
          "base_uri": "https://localhost:8080/",
          "height": 35
        }
      },
      "source": [
        "dna_string[0]"
      ],
      "execution_count": 0,
      "outputs": [
        {
          "output_type": "execute_result",
          "data": {
            "text/plain": [
              "'G'"
            ]
          },
          "metadata": {
            "tags": []
          },
          "execution_count": 7
        }
      ]
    },
    {
      "cell_type": "code",
      "metadata": {
        "id": "HgUPg_J2CYTO",
        "colab_type": "code",
        "outputId": "5e2af09d-d25d-440d-b58e-5a8207517868",
        "colab": {
          "base_uri": "https://localhost:8080/",
          "height": 35
        }
      },
      "source": [
        "target_list[0]"
      ],
      "execution_count": 0,
      "outputs": [
        {
          "output_type": "execute_result",
          "data": {
            "text/plain": [
              "Seq('GATCGTGTGGGCCTAGTATGTTCGATACTTGGTTACCAGGAAAAGAGCAGTTAC...ACG', SingleLetterAlphabet())"
            ]
          },
          "metadata": {
            "tags": []
          },
          "execution_count": 7
        }
      ]
    },
    {
      "cell_type": "code",
      "metadata": {
        "id": "WpZUuTqluHfA",
        "colab_type": "code",
        "colab": {}
      },
      "source": [
        "def count_intersections(string):\n",
        "    mtf = motifs.create([Seq(string)])\n",
        "    mtf_find = 0\n",
        "    for target in target_list:\n",
        "        #trg = Seq(target)\n",
        "        #print('Target = ', target)\n",
        "        #print(len(list(mtf.instances.search(target))))\n",
        "        if len(list(mtf.instances.search(target))) > 0:\n",
        "            mtf_find += 1\n",
        "        \n",
        "    return mtf_find"
      ],
      "execution_count": 0,
      "outputs": []
    },
    {
      "cell_type": "code",
      "metadata": {
        "id": "Y3PiDW94l9c_",
        "colab_type": "code",
        "colab": {}
      },
      "source": [
        "def get_next(pointer):\n",
        "        return dna_string[pointer]"
      ],
      "execution_count": 0,
      "outputs": []
    },
    {
      "cell_type": "code",
      "metadata": {
        "id": "hy5eNDTutu3h",
        "colab_type": "code",
        "outputId": "f7a86aa4-f0ff-4a84-dda1-fe886819e0a2",
        "colab": {
          "base_uri": "https://localhost:8080/",
          "height": 1000
        }
      },
      "source": [
        "pointer1, pointer2 = 0, 1\n",
        "dna_string = target_list[0]\n",
        "string = dna_string[pointer1]\n",
        "add_alpha = ''\n",
        "max_string = ''\n",
        "while pointer1 < len(target_list[0]) - 1:\n",
        "    #print(string)\n",
        "    if seq_count == count_intersections(string):\n",
        "        if len(string) > len(max_string):\n",
        "            max_string = string\n",
        "            print(len(max_string), ' - ', max_string)\n",
        "        #add_alpha = get_next(pointer2)\n",
        "        string = string + get_next(pointer2)\n",
        "        pointer2 = pointer2 + 1\n",
        "    else:\n",
        "        if pointer2 - pointer1 > 50:\n",
        "            pointer1 = pointer2\n",
        "            string = dna_string[pointer1]\n",
        "            pointer2 = pointer1 + 1\n",
        "        else:\n",
        "            pointer1 = pointer1 + 1\n",
        "            string = dna_string[pointer1]\n",
        "            pointer2 = pointer1 + 1\n",
        "        \n",
        "        print ('p1 = ', pointer1)\n",
        "            \n",
        "print ('final max string = ', max_string)"
      ],
      "execution_count": 0,
      "outputs": [
        {
          "output_type": "stream",
          "text": [
            "1  -  T\n",
            "2  -  TG\n",
            "3  -  TGT\n",
            "p1 =  1\n",
            "4  -  GTCC\n",
            "p1 =  2\n",
            "p1 =  3\n",
            "p1 =  4\n",
            "p1 =  5\n",
            "p1 =  6\n",
            "p1 =  7\n",
            "p1 =  8\n",
            "p1 =  9\n",
            "5  -  TGTGG\n",
            "6  -  TGTGGC\n",
            "p1 =  10\n",
            "p1 =  11\n",
            "p1 =  12\n",
            "p1 =  13\n",
            "p1 =  14\n",
            "p1 =  15\n",
            "p1 =  16\n",
            "p1 =  17\n",
            "p1 =  18\n",
            "p1 =  19\n",
            "p1 =  20\n",
            "p1 =  21\n",
            "p1 =  22\n",
            "p1 =  23\n",
            "p1 =  24\n",
            "p1 =  25\n",
            "p1 =  26\n",
            "p1 =  27\n",
            "p1 =  28\n",
            "p1 =  29\n",
            "p1 =  30\n",
            "p1 =  31\n",
            "p1 =  32\n",
            "p1 =  33\n",
            "p1 =  34\n",
            "p1 =  35\n",
            "p1 =  36\n",
            "p1 =  37\n",
            "p1 =  38\n",
            "p1 =  39\n",
            "p1 =  40\n",
            "p1 =  41\n",
            "p1 =  42\n",
            "p1 =  43\n",
            "p1 =  44\n",
            "p1 =  45\n",
            "p1 =  46\n",
            "p1 =  47\n",
            "p1 =  48\n",
            "p1 =  49\n",
            "p1 =  50\n",
            "p1 =  51\n",
            "p1 =  52\n",
            "p1 =  53\n",
            "p1 =  54\n",
            "p1 =  55\n",
            "p1 =  56\n",
            "p1 =  57\n",
            "p1 =  58\n",
            "p1 =  59\n",
            "p1 =  60\n",
            "p1 =  61\n",
            "p1 =  62\n",
            "p1 =  63\n",
            "p1 =  64\n",
            "p1 =  65\n",
            "p1 =  66\n",
            "p1 =  67\n",
            "p1 =  68\n",
            "p1 =  69\n",
            "p1 =  70\n",
            "p1 =  71\n",
            "p1 =  72\n",
            "p1 =  73\n",
            "p1 =  74\n",
            "p1 =  75\n",
            "p1 =  76\n",
            "p1 =  77\n",
            "p1 =  78\n",
            "p1 =  79\n",
            "p1 =  80\n",
            "p1 =  81\n",
            "p1 =  82\n",
            "p1 =  83\n",
            "p1 =  84\n",
            "p1 =  85\n",
            "p1 =  86\n",
            "p1 =  87\n",
            "p1 =  88\n",
            "p1 =  89\n",
            "p1 =  90\n",
            "p1 =  91\n",
            "p1 =  92\n",
            "p1 =  93\n",
            "p1 =  94\n",
            "p1 =  95\n",
            "p1 =  96\n",
            "p1 =  97\n",
            "p1 =  98\n",
            "p1 =  99\n",
            "p1 =  100\n",
            "7  -  ATCCGTA\n",
            "8  -  ATCCGTAG\n",
            "p1 =  101\n",
            "p1 =  102\n",
            "p1 =  103\n",
            "p1 =  104\n",
            "p1 =  105\n",
            "p1 =  106\n",
            "p1 =  107\n",
            "p1 =  108\n",
            "p1 =  109\n",
            "p1 =  110\n",
            "p1 =  111\n",
            "p1 =  112\n",
            "p1 =  113\n",
            "p1 =  114\n",
            "p1 =  115\n",
            "p1 =  116\n",
            "p1 =  117\n",
            "p1 =  118\n",
            "p1 =  119\n",
            "p1 =  120\n",
            "p1 =  121\n",
            "p1 =  122\n",
            "p1 =  123\n",
            "p1 =  124\n",
            "p1 =  125\n",
            "p1 =  126\n",
            "p1 =  127\n",
            "p1 =  128\n",
            "p1 =  129\n",
            "p1 =  130\n",
            "p1 =  131\n",
            "p1 =  132\n",
            "p1 =  133\n",
            "p1 =  134\n",
            "p1 =  135\n",
            "p1 =  136\n",
            "p1 =  137\n",
            "p1 =  138\n",
            "p1 =  139\n",
            "p1 =  140\n",
            "p1 =  141\n",
            "p1 =  142\n",
            "p1 =  143\n",
            "p1 =  144\n",
            "p1 =  145\n",
            "p1 =  146\n",
            "p1 =  147\n",
            "p1 =  148\n",
            "p1 =  149\n",
            "p1 =  150\n",
            "p1 =  151\n",
            "p1 =  152\n",
            "p1 =  153\n",
            "p1 =  154\n",
            "p1 =  155\n",
            "p1 =  156\n",
            "p1 =  157\n",
            "p1 =  158\n",
            "p1 =  159\n",
            "p1 =  160\n",
            "p1 =  161\n",
            "p1 =  162\n",
            "p1 =  163\n",
            "p1 =  164\n",
            "p1 =  165\n",
            "p1 =  166\n",
            "p1 =  167\n",
            "p1 =  168\n",
            "p1 =  169\n",
            "p1 =  170\n",
            "p1 =  171\n",
            "p1 =  172\n",
            "p1 =  173\n",
            "p1 =  174\n",
            "p1 =  175\n",
            "p1 =  176\n",
            "p1 =  177\n",
            "p1 =  178\n",
            "p1 =  179\n",
            "p1 =  180\n",
            "p1 =  181\n",
            "p1 =  182\n",
            "p1 =  183\n",
            "p1 =  184\n",
            "p1 =  185\n",
            "p1 =  186\n",
            "p1 =  187\n",
            "p1 =  188\n",
            "p1 =  189\n",
            "p1 =  190\n",
            "p1 =  191\n",
            "p1 =  192\n",
            "p1 =  193\n",
            "p1 =  194\n",
            "p1 =  195\n",
            "p1 =  196\n",
            "p1 =  197\n",
            "p1 =  198\n",
            "p1 =  199\n",
            "p1 =  200\n",
            "p1 =  201\n",
            "p1 =  202\n",
            "p1 =  203\n",
            "p1 =  204\n",
            "p1 =  205\n",
            "p1 =  206\n",
            "p1 =  207\n",
            "p1 =  208\n",
            "p1 =  209\n",
            "p1 =  210\n",
            "p1 =  211\n",
            "p1 =  212\n",
            "p1 =  213\n",
            "p1 =  214\n",
            "p1 =  215\n",
            "p1 =  216\n",
            "p1 =  217\n",
            "p1 =  218\n",
            "p1 =  219\n",
            "p1 =  220\n",
            "p1 =  221\n",
            "p1 =  222\n",
            "p1 =  223\n",
            "p1 =  224\n",
            "p1 =  225\n",
            "p1 =  226\n",
            "p1 =  227\n",
            "p1 =  228\n",
            "p1 =  229\n",
            "p1 =  230\n",
            "p1 =  231\n",
            "p1 =  232\n",
            "p1 =  233\n",
            "p1 =  234\n",
            "p1 =  235\n",
            "p1 =  236\n",
            "p1 =  237\n",
            "p1 =  238\n",
            "p1 =  239\n",
            "p1 =  240\n",
            "p1 =  241\n",
            "p1 =  242\n",
            "p1 =  243\n",
            "p1 =  244\n",
            "p1 =  245\n",
            "p1 =  246\n",
            "p1 =  247\n",
            "p1 =  248\n",
            "p1 =  249\n",
            "p1 =  250\n",
            "p1 =  251\n",
            "p1 =  252\n",
            "p1 =  253\n",
            "p1 =  254\n",
            "p1 =  255\n",
            "p1 =  256\n",
            "p1 =  257\n",
            "p1 =  258\n",
            "p1 =  259\n",
            "p1 =  260\n",
            "p1 =  261\n",
            "9  -  CAGCGCCAC\n",
            "10  -  CAGCGCCACC\n",
            "11  -  CAGCGCCACCG\n",
            "12  -  CAGCGCCACCGA\n",
            "13  -  CAGCGCCACCGAC\n",
            "14  -  CAGCGCCACCGACA\n",
            "15  -  CAGCGCCACCGACAC\n",
            "16  -  CAGCGCCACCGACACC\n",
            "17  -  CAGCGCCACCGACACCC\n",
            "18  -  CAGCGCCACCGACACCCT\n",
            "19  -  CAGCGCCACCGACACCCTT\n",
            "20  -  CAGCGCCACCGACACCCTTC\n",
            "21  -  CAGCGCCACCGACACCCTTCA\n",
            "22  -  CAGCGCCACCGACACCCTTCAA\n",
            "23  -  CAGCGCCACCGACACCCTTCAAA\n",
            "24  -  CAGCGCCACCGACACCCTTCAAAA\n",
            "25  -  CAGCGCCACCGACACCCTTCAAAAT\n",
            "26  -  CAGCGCCACCGACACCCTTCAAAATT\n",
            "27  -  CAGCGCCACCGACACCCTTCAAAATTC\n",
            "28  -  CAGCGCCACCGACACCCTTCAAAATTCA\n",
            "29  -  CAGCGCCACCGACACCCTTCAAAATTCAG\n",
            "30  -  CAGCGCCACCGACACCCTTCAAAATTCAGT\n",
            "31  -  CAGCGCCACCGACACCCTTCAAAATTCAGTA\n",
            "32  -  CAGCGCCACCGACACCCTTCAAAATTCAGTAT\n",
            "33  -  CAGCGCCACCGACACCCTTCAAAATTCAGTATG\n",
            "34  -  CAGCGCCACCGACACCCTTCAAAATTCAGTATGC\n",
            "35  -  CAGCGCCACCGACACCCTTCAAAATTCAGTATGCT\n",
            "36  -  CAGCGCCACCGACACCCTTCAAAATTCAGTATGCTG\n",
            "37  -  CAGCGCCACCGACACCCTTCAAAATTCAGTATGCTGG\n",
            "38  -  CAGCGCCACCGACACCCTTCAAAATTCAGTATGCTGGC\n",
            "39  -  CAGCGCCACCGACACCCTTCAAAATTCAGTATGCTGGCT\n",
            "40  -  CAGCGCCACCGACACCCTTCAAAATTCAGTATGCTGGCTC\n",
            "41  -  CAGCGCCACCGACACCCTTCAAAATTCAGTATGCTGGCTCT\n",
            "42  -  CAGCGCCACCGACACCCTTCAAAATTCAGTATGCTGGCTCTT\n",
            "43  -  CAGCGCCACCGACACCCTTCAAAATTCAGTATGCTGGCTCTTA\n",
            "44  -  CAGCGCCACCGACACCCTTCAAAATTCAGTATGCTGGCTCTTAT\n",
            "45  -  CAGCGCCACCGACACCCTTCAAAATTCAGTATGCTGGCTCTTATC\n",
            "46  -  CAGCGCCACCGACACCCTTCAAAATTCAGTATGCTGGCTCTTATCA\n",
            "47  -  CAGCGCCACCGACACCCTTCAAAATTCAGTATGCTGGCTCTTATCAT\n",
            "48  -  CAGCGCCACCGACACCCTTCAAAATTCAGTATGCTGGCTCTTATCATG\n",
            "49  -  CAGCGCCACCGACACCCTTCAAAATTCAGTATGCTGGCTCTTATCATGT\n",
            "50  -  CAGCGCCACCGACACCCTTCAAAATTCAGTATGCTGGCTCTTATCATGTG\n",
            "51  -  CAGCGCCACCGACACCCTTCAAAATTCAGTATGCTGGCTCTTATCATGTGG\n",
            "52  -  CAGCGCCACCGACACCCTTCAAAATTCAGTATGCTGGCTCTTATCATGTGGC\n",
            "53  -  CAGCGCCACCGACACCCTTCAAAATTCAGTATGCTGGCTCTTATCATGTGGCT\n",
            "54  -  CAGCGCCACCGACACCCTTCAAAATTCAGTATGCTGGCTCTTATCATGTGGCTG\n",
            "55  -  CAGCGCCACCGACACCCTTCAAAATTCAGTATGCTGGCTCTTATCATGTGGCTGC\n",
            "56  -  CAGCGCCACCGACACCCTTCAAAATTCAGTATGCTGGCTCTTATCATGTGGCTGCA\n",
            "57  -  CAGCGCCACCGACACCCTTCAAAATTCAGTATGCTGGCTCTTATCATGTGGCTGCAA\n",
            "58  -  CAGCGCCACCGACACCCTTCAAAATTCAGTATGCTGGCTCTTATCATGTGGCTGCAAC\n",
            "59  -  CAGCGCCACCGACACCCTTCAAAATTCAGTATGCTGGCTCTTATCATGTGGCTGCAACG\n",
            "60  -  CAGCGCCACCGACACCCTTCAAAATTCAGTATGCTGGCTCTTATCATGTGGCTGCAACGA\n",
            "61  -  CAGCGCCACCGACACCCTTCAAAATTCAGTATGCTGGCTCTTATCATGTGGCTGCAACGAA\n",
            "62  -  CAGCGCCACCGACACCCTTCAAAATTCAGTATGCTGGCTCTTATCATGTGGCTGCAACGAAT\n",
            "63  -  CAGCGCCACCGACACCCTTCAAAATTCAGTATGCTGGCTCTTATCATGTGGCTGCAACGAATC\n",
            "64  -  CAGCGCCACCGACACCCTTCAAAATTCAGTATGCTGGCTCTTATCATGTGGCTGCAACGAATCC\n",
            "65  -  CAGCGCCACCGACACCCTTCAAAATTCAGTATGCTGGCTCTTATCATGTGGCTGCAACGAATCCG\n",
            "66  -  CAGCGCCACCGACACCCTTCAAAATTCAGTATGCTGGCTCTTATCATGTGGCTGCAACGAATCCGT\n",
            "67  -  CAGCGCCACCGACACCCTTCAAAATTCAGTATGCTGGCTCTTATCATGTGGCTGCAACGAATCCGTA\n",
            "68  -  CAGCGCCACCGACACCCTTCAAAATTCAGTATGCTGGCTCTTATCATGTGGCTGCAACGAATCCGTAG\n",
            "69  -  CAGCGCCACCGACACCCTTCAAAATTCAGTATGCTGGCTCTTATCATGTGGCTGCAACGAATCCGTAGT\n",
            "70  -  CAGCGCCACCGACACCCTTCAAAATTCAGTATGCTGGCTCTTATCATGTGGCTGCAACGAATCCGTAGTT\n",
            "71  -  CAGCGCCACCGACACCCTTCAAAATTCAGTATGCTGGCTCTTATCATGTGGCTGCAACGAATCCGTAGTTA\n",
            "72  -  CAGCGCCACCGACACCCTTCAAAATTCAGTATGCTGGCTCTTATCATGTGGCTGCAACGAATCCGTAGTTAA\n",
            "73  -  CAGCGCCACCGACACCCTTCAAAATTCAGTATGCTGGCTCTTATCATGTGGCTGCAACGAATCCGTAGTTAAA\n",
            "74  -  CAGCGCCACCGACACCCTTCAAAATTCAGTATGCTGGCTCTTATCATGTGGCTGCAACGAATCCGTAGTTAAAT\n",
            "75  -  CAGCGCCACCGACACCCTTCAAAATTCAGTATGCTGGCTCTTATCATGTGGCTGCAACGAATCCGTAGTTAAATG\n",
            "76  -  CAGCGCCACCGACACCCTTCAAAATTCAGTATGCTGGCTCTTATCATGTGGCTGCAACGAATCCGTAGTTAAATGA\n",
            "77  -  CAGCGCCACCGACACCCTTCAAAATTCAGTATGCTGGCTCTTATCATGTGGCTGCAACGAATCCGTAGTTAAATGAT\n",
            "78  -  CAGCGCCACCGACACCCTTCAAAATTCAGTATGCTGGCTCTTATCATGTGGCTGCAACGAATCCGTAGTTAAATGATC\n",
            "79  -  CAGCGCCACCGACACCCTTCAAAATTCAGTATGCTGGCTCTTATCATGTGGCTGCAACGAATCCGTAGTTAAATGATCG\n",
            "80  -  CAGCGCCACCGACACCCTTCAAAATTCAGTATGCTGGCTCTTATCATGTGGCTGCAACGAATCCGTAGTTAAATGATCGA\n",
            "81  -  CAGCGCCACCGACACCCTTCAAAATTCAGTATGCTGGCTCTTATCATGTGGCTGCAACGAATCCGTAGTTAAATGATCGAG\n",
            "82  -  CAGCGCCACCGACACCCTTCAAAATTCAGTATGCTGGCTCTTATCATGTGGCTGCAACGAATCCGTAGTTAAATGATCGAGT\n",
            "83  -  CAGCGCCACCGACACCCTTCAAAATTCAGTATGCTGGCTCTTATCATGTGGCTGCAACGAATCCGTAGTTAAATGATCGAGTT\n",
            "84  -  CAGCGCCACCGACACCCTTCAAAATTCAGTATGCTGGCTCTTATCATGTGGCTGCAACGAATCCGTAGTTAAATGATCGAGTTG\n",
            "85  -  CAGCGCCACCGACACCCTTCAAAATTCAGTATGCTGGCTCTTATCATGTGGCTGCAACGAATCCGTAGTTAAATGATCGAGTTGG\n",
            "86  -  CAGCGCCACCGACACCCTTCAAAATTCAGTATGCTGGCTCTTATCATGTGGCTGCAACGAATCCGTAGTTAAATGATCGAGTTGGG\n",
            "87  -  CAGCGCCACCGACACCCTTCAAAATTCAGTATGCTGGCTCTTATCATGTGGCTGCAACGAATCCGTAGTTAAATGATCGAGTTGGGA\n",
            "88  -  CAGCGCCACCGACACCCTTCAAAATTCAGTATGCTGGCTCTTATCATGTGGCTGCAACGAATCCGTAGTTAAATGATCGAGTTGGGAA\n",
            "89  -  CAGCGCCACCGACACCCTTCAAAATTCAGTATGCTGGCTCTTATCATGTGGCTGCAACGAATCCGTAGTTAAATGATCGAGTTGGGAAA\n",
            "90  -  CAGCGCCACCGACACCCTTCAAAATTCAGTATGCTGGCTCTTATCATGTGGCTGCAACGAATCCGTAGTTAAATGATCGAGTTGGGAAAT\n",
            "91  -  CAGCGCCACCGACACCCTTCAAAATTCAGTATGCTGGCTCTTATCATGTGGCTGCAACGAATCCGTAGTTAAATGATCGAGTTGGGAAATC\n",
            "92  -  CAGCGCCACCGACACCCTTCAAAATTCAGTATGCTGGCTCTTATCATGTGGCTGCAACGAATCCGTAGTTAAATGATCGAGTTGGGAAATCT\n",
            "93  -  CAGCGCCACCGACACCCTTCAAAATTCAGTATGCTGGCTCTTATCATGTGGCTGCAACGAATCCGTAGTTAAATGATCGAGTTGGGAAATCTT\n",
            "94  -  CAGCGCCACCGACACCCTTCAAAATTCAGTATGCTGGCTCTTATCATGTGGCTGCAACGAATCCGTAGTTAAATGATCGAGTTGGGAAATCTTT\n",
            "95  -  CAGCGCCACCGACACCCTTCAAAATTCAGTATGCTGGCTCTTATCATGTGGCTGCAACGAATCCGTAGTTAAATGATCGAGTTGGGAAATCTTTG\n",
            "96  -  CAGCGCCACCGACACCCTTCAAAATTCAGTATGCTGGCTCTTATCATGTGGCTGCAACGAATCCGTAGTTAAATGATCGAGTTGGGAAATCTTTGT\n",
            "97  -  CAGCGCCACCGACACCCTTCAAAATTCAGTATGCTGGCTCTTATCATGTGGCTGCAACGAATCCGTAGTTAAATGATCGAGTTGGGAAATCTTTGTA\n",
            "98  -  CAGCGCCACCGACACCCTTCAAAATTCAGTATGCTGGCTCTTATCATGTGGCTGCAACGAATCCGTAGTTAAATGATCGAGTTGGGAAATCTTTGTAA\n",
            "99  -  CAGCGCCACCGACACCCTTCAAAATTCAGTATGCTGGCTCTTATCATGTGGCTGCAACGAATCCGTAGTTAAATGATCGAGTTGGGAAATCTTTGTAAT\n",
            "100  -  CAGCGCCACCGACACCCTTCAAAATTCAGTATGCTGGCTCTTATCATGTGGCTGCAACGAATCCGTAGTTAAATGATCGAGTTGGGAAATCTTTGTAATT\n",
            "101  -  CAGCGCCACCGACACCCTTCAAAATTCAGTATGCTGGCTCTTATCATGTGGCTGCAACGAATCCGTAGTTAAATGATCGAGTTGGGAAATCTTTGTAATTT\n",
            "102  -  CAGCGCCACCGACACCCTTCAAAATTCAGTATGCTGGCTCTTATCATGTGGCTGCAACGAATCCGTAGTTAAATGATCGAGTTGGGAAATCTTTGTAATTTG\n",
            "103  -  CAGCGCCACCGACACCCTTCAAAATTCAGTATGCTGGCTCTTATCATGTGGCTGCAACGAATCCGTAGTTAAATGATCGAGTTGGGAAATCTTTGTAATTTGA\n",
            "104  -  CAGCGCCACCGACACCCTTCAAAATTCAGTATGCTGGCTCTTATCATGTGGCTGCAACGAATCCGTAGTTAAATGATCGAGTTGGGAAATCTTTGTAATTTGAG\n",
            "105  -  CAGCGCCACCGACACCCTTCAAAATTCAGTATGCTGGCTCTTATCATGTGGCTGCAACGAATCCGTAGTTAAATGATCGAGTTGGGAAATCTTTGTAATTTGAGC\n",
            "106  -  CAGCGCCACCGACACCCTTCAAAATTCAGTATGCTGGCTCTTATCATGTGGCTGCAACGAATCCGTAGTTAAATGATCGAGTTGGGAAATCTTTGTAATTTGAGCA\n",
            "107  -  CAGCGCCACCGACACCCTTCAAAATTCAGTATGCTGGCTCTTATCATGTGGCTGCAACGAATCCGTAGTTAAATGATCGAGTTGGGAAATCTTTGTAATTTGAGCAC\n",
            "108  -  CAGCGCCACCGACACCCTTCAAAATTCAGTATGCTGGCTCTTATCATGTGGCTGCAACGAATCCGTAGTTAAATGATCGAGTTGGGAAATCTTTGTAATTTGAGCACC\n",
            "109  -  CAGCGCCACCGACACCCTTCAAAATTCAGTATGCTGGCTCTTATCATGTGGCTGCAACGAATCCGTAGTTAAATGATCGAGTTGGGAAATCTTTGTAATTTGAGCACCT\n",
            "110  -  CAGCGCCACCGACACCCTTCAAAATTCAGTATGCTGGCTCTTATCATGTGGCTGCAACGAATCCGTAGTTAAATGATCGAGTTGGGAAATCTTTGTAATTTGAGCACCTT\n",
            "111  -  CAGCGCCACCGACACCCTTCAAAATTCAGTATGCTGGCTCTTATCATGTGGCTGCAACGAATCCGTAGTTAAATGATCGAGTTGGGAAATCTTTGTAATTTGAGCACCTTC\n",
            "112  -  CAGCGCCACCGACACCCTTCAAAATTCAGTATGCTGGCTCTTATCATGTGGCTGCAACGAATCCGTAGTTAAATGATCGAGTTGGGAAATCTTTGTAATTTGAGCACCTTCA\n",
            "113  -  CAGCGCCACCGACACCCTTCAAAATTCAGTATGCTGGCTCTTATCATGTGGCTGCAACGAATCCGTAGTTAAATGATCGAGTTGGGAAATCTTTGTAATTTGAGCACCTTCAC\n",
            "114  -  CAGCGCCACCGACACCCTTCAAAATTCAGTATGCTGGCTCTTATCATGTGGCTGCAACGAATCCGTAGTTAAATGATCGAGTTGGGAAATCTTTGTAATTTGAGCACCTTCACG\n",
            "115  -  CAGCGCCACCGACACCCTTCAAAATTCAGTATGCTGGCTCTTATCATGTGGCTGCAACGAATCCGTAGTTAAATGATCGAGTTGGGAAATCTTTGTAATTTGAGCACCTTCACGA\n",
            "116  -  CAGCGCCACCGACACCCTTCAAAATTCAGTATGCTGGCTCTTATCATGTGGCTGCAACGAATCCGTAGTTAAATGATCGAGTTGGGAAATCTTTGTAATTTGAGCACCTTCACGAT\n",
            "117  -  CAGCGCCACCGACACCCTTCAAAATTCAGTATGCTGGCTCTTATCATGTGGCTGCAACGAATCCGTAGTTAAATGATCGAGTTGGGAAATCTTTGTAATTTGAGCACCTTCACGATC\n",
            "118  -  CAGCGCCACCGACACCCTTCAAAATTCAGTATGCTGGCTCTTATCATGTGGCTGCAACGAATCCGTAGTTAAATGATCGAGTTGGGAAATCTTTGTAATTTGAGCACCTTCACGATCA\n",
            "119  -  CAGCGCCACCGACACCCTTCAAAATTCAGTATGCTGGCTCTTATCATGTGGCTGCAACGAATCCGTAGTTAAATGATCGAGTTGGGAAATCTTTGTAATTTGAGCACCTTCACGATCAA\n",
            "120  -  CAGCGCCACCGACACCCTTCAAAATTCAGTATGCTGGCTCTTATCATGTGGCTGCAACGAATCCGTAGTTAAATGATCGAGTTGGGAAATCTTTGTAATTTGAGCACCTTCACGATCAAC\n",
            "121  -  CAGCGCCACCGACACCCTTCAAAATTCAGTATGCTGGCTCTTATCATGTGGCTGCAACGAATCCGTAGTTAAATGATCGAGTTGGGAAATCTTTGTAATTTGAGCACCTTCACGATCAACG\n",
            "122  -  CAGCGCCACCGACACCCTTCAAAATTCAGTATGCTGGCTCTTATCATGTGGCTGCAACGAATCCGTAGTTAAATGATCGAGTTGGGAAATCTTTGTAATTTGAGCACCTTCACGATCAACGC\n",
            "123  -  CAGCGCCACCGACACCCTTCAAAATTCAGTATGCTGGCTCTTATCATGTGGCTGCAACGAATCCGTAGTTAAATGATCGAGTTGGGAAATCTTTGTAATTTGAGCACCTTCACGATCAACGCT\n",
            "124  -  CAGCGCCACCGACACCCTTCAAAATTCAGTATGCTGGCTCTTATCATGTGGCTGCAACGAATCCGTAGTTAAATGATCGAGTTGGGAAATCTTTGTAATTTGAGCACCTTCACGATCAACGCTG\n",
            "125  -  CAGCGCCACCGACACCCTTCAAAATTCAGTATGCTGGCTCTTATCATGTGGCTGCAACGAATCCGTAGTTAAATGATCGAGTTGGGAAATCTTTGTAATTTGAGCACCTTCACGATCAACGCTGG\n",
            "126  -  CAGCGCCACCGACACCCTTCAAAATTCAGTATGCTGGCTCTTATCATGTGGCTGCAACGAATCCGTAGTTAAATGATCGAGTTGGGAAATCTTTGTAATTTGAGCACCTTCACGATCAACGCTGGA\n",
            "127  -  CAGCGCCACCGACACCCTTCAAAATTCAGTATGCTGGCTCTTATCATGTGGCTGCAACGAATCCGTAGTTAAATGATCGAGTTGGGAAATCTTTGTAATTTGAGCACCTTCACGATCAACGCTGGAT\n",
            "128  -  CAGCGCCACCGACACCCTTCAAAATTCAGTATGCTGGCTCTTATCATGTGGCTGCAACGAATCCGTAGTTAAATGATCGAGTTGGGAAATCTTTGTAATTTGAGCACCTTCACGATCAACGCTGGATG\n",
            "129  -  CAGCGCCACCGACACCCTTCAAAATTCAGTATGCTGGCTCTTATCATGTGGCTGCAACGAATCCGTAGTTAAATGATCGAGTTGGGAAATCTTTGTAATTTGAGCACCTTCACGATCAACGCTGGATGA\n",
            "130  -  CAGCGCCACCGACACCCTTCAAAATTCAGTATGCTGGCTCTTATCATGTGGCTGCAACGAATCCGTAGTTAAATGATCGAGTTGGGAAATCTTTGTAATTTGAGCACCTTCACGATCAACGCTGGATGAC\n",
            "131  -  CAGCGCCACCGACACCCTTCAAAATTCAGTATGCTGGCTCTTATCATGTGGCTGCAACGAATCCGTAGTTAAATGATCGAGTTGGGAAATCTTTGTAATTTGAGCACCTTCACGATCAACGCTGGATGACG\n",
            "132  -  CAGCGCCACCGACACCCTTCAAAATTCAGTATGCTGGCTCTTATCATGTGGCTGCAACGAATCCGTAGTTAAATGATCGAGTTGGGAAATCTTTGTAATTTGAGCACCTTCACGATCAACGCTGGATGACGT\n",
            "133  -  CAGCGCCACCGACACCCTTCAAAATTCAGTATGCTGGCTCTTATCATGTGGCTGCAACGAATCCGTAGTTAAATGATCGAGTTGGGAAATCTTTGTAATTTGAGCACCTTCACGATCAACGCTGGATGACGTT\n",
            "134  -  CAGCGCCACCGACACCCTTCAAAATTCAGTATGCTGGCTCTTATCATGTGGCTGCAACGAATCCGTAGTTAAATGATCGAGTTGGGAAATCTTTGTAATTTGAGCACCTTCACGATCAACGCTGGATGACGTTG\n",
            "135  -  CAGCGCCACCGACACCCTTCAAAATTCAGTATGCTGGCTCTTATCATGTGGCTGCAACGAATCCGTAGTTAAATGATCGAGTTGGGAAATCTTTGTAATTTGAGCACCTTCACGATCAACGCTGGATGACGTTGT\n",
            "136  -  CAGCGCCACCGACACCCTTCAAAATTCAGTATGCTGGCTCTTATCATGTGGCTGCAACGAATCCGTAGTTAAATGATCGAGTTGGGAAATCTTTGTAATTTGAGCACCTTCACGATCAACGCTGGATGACGTTGTT\n",
            "137  -  CAGCGCCACCGACACCCTTCAAAATTCAGTATGCTGGCTCTTATCATGTGGCTGCAACGAATCCGTAGTTAAATGATCGAGTTGGGAAATCTTTGTAATTTGAGCACCTTCACGATCAACGCTGGATGACGTTGTTG\n",
            "138  -  CAGCGCCACCGACACCCTTCAAAATTCAGTATGCTGGCTCTTATCATGTGGCTGCAACGAATCCGTAGTTAAATGATCGAGTTGGGAAATCTTTGTAATTTGAGCACCTTCACGATCAACGCTGGATGACGTTGTTGT\n",
            "139  -  CAGCGCCACCGACACCCTTCAAAATTCAGTATGCTGGCTCTTATCATGTGGCTGCAACGAATCCGTAGTTAAATGATCGAGTTGGGAAATCTTTGTAATTTGAGCACCTTCACGATCAACGCTGGATGACGTTGTTGTA\n",
            "140  -  CAGCGCCACCGACACCCTTCAAAATTCAGTATGCTGGCTCTTATCATGTGGCTGCAACGAATCCGTAGTTAAATGATCGAGTTGGGAAATCTTTGTAATTTGAGCACCTTCACGATCAACGCTGGATGACGTTGTTGTAC\n",
            "141  -  CAGCGCCACCGACACCCTTCAAAATTCAGTATGCTGGCTCTTATCATGTGGCTGCAACGAATCCGTAGTTAAATGATCGAGTTGGGAAATCTTTGTAATTTGAGCACCTTCACGATCAACGCTGGATGACGTTGTTGTACC\n",
            "142  -  CAGCGCCACCGACACCCTTCAAAATTCAGTATGCTGGCTCTTATCATGTGGCTGCAACGAATCCGTAGTTAAATGATCGAGTTGGGAAATCTTTGTAATTTGAGCACCTTCACGATCAACGCTGGATGACGTTGTTGTACCG\n",
            "143  -  CAGCGCCACCGACACCCTTCAAAATTCAGTATGCTGGCTCTTATCATGTGGCTGCAACGAATCCGTAGTTAAATGATCGAGTTGGGAAATCTTTGTAATTTGAGCACCTTCACGATCAACGCTGGATGACGTTGTTGTACCGC\n",
            "144  -  CAGCGCCACCGACACCCTTCAAAATTCAGTATGCTGGCTCTTATCATGTGGCTGCAACGAATCCGTAGTTAAATGATCGAGTTGGGAAATCTTTGTAATTTGAGCACCTTCACGATCAACGCTGGATGACGTTGTTGTACCGCT\n",
            "145  -  CAGCGCCACCGACACCCTTCAAAATTCAGTATGCTGGCTCTTATCATGTGGCTGCAACGAATCCGTAGTTAAATGATCGAGTTGGGAAATCTTTGTAATTTGAGCACCTTCACGATCAACGCTGGATGACGTTGTTGTACCGCTA\n",
            "146  -  CAGCGCCACCGACACCCTTCAAAATTCAGTATGCTGGCTCTTATCATGTGGCTGCAACGAATCCGTAGTTAAATGATCGAGTTGGGAAATCTTTGTAATTTGAGCACCTTCACGATCAACGCTGGATGACGTTGTTGTACCGCTAC\n",
            "147  -  CAGCGCCACCGACACCCTTCAAAATTCAGTATGCTGGCTCTTATCATGTGGCTGCAACGAATCCGTAGTTAAATGATCGAGTTGGGAAATCTTTGTAATTTGAGCACCTTCACGATCAACGCTGGATGACGTTGTTGTACCGCTACG\n",
            "148  -  CAGCGCCACCGACACCCTTCAAAATTCAGTATGCTGGCTCTTATCATGTGGCTGCAACGAATCCGTAGTTAAATGATCGAGTTGGGAAATCTTTGTAATTTGAGCACCTTCACGATCAACGCTGGATGACGTTGTTGTACCGCTACGC\n",
            "149  -  CAGCGCCACCGACACCCTTCAAAATTCAGTATGCTGGCTCTTATCATGTGGCTGCAACGAATCCGTAGTTAAATGATCGAGTTGGGAAATCTTTGTAATTTGAGCACCTTCACGATCAACGCTGGATGACGTTGTTGTACCGCTACGCC\n",
            "150  -  CAGCGCCACCGACACCCTTCAAAATTCAGTATGCTGGCTCTTATCATGTGGCTGCAACGAATCCGTAGTTAAATGATCGAGTTGGGAAATCTTTGTAATTTGAGCACCTTCACGATCAACGCTGGATGACGTTGTTGTACCGCTACGCCC\n",
            "151  -  CAGCGCCACCGACACCCTTCAAAATTCAGTATGCTGGCTCTTATCATGTGGCTGCAACGAATCCGTAGTTAAATGATCGAGTTGGGAAATCTTTGTAATTTGAGCACCTTCACGATCAACGCTGGATGACGTTGTTGTACCGCTACGCCCT\n",
            "152  -  CAGCGCCACCGACACCCTTCAAAATTCAGTATGCTGGCTCTTATCATGTGGCTGCAACGAATCCGTAGTTAAATGATCGAGTTGGGAAATCTTTGTAATTTGAGCACCTTCACGATCAACGCTGGATGACGTTGTTGTACCGCTACGCCCTG\n",
            "153  -  CAGCGCCACCGACACCCTTCAAAATTCAGTATGCTGGCTCTTATCATGTGGCTGCAACGAATCCGTAGTTAAATGATCGAGTTGGGAAATCTTTGTAATTTGAGCACCTTCACGATCAACGCTGGATGACGTTGTTGTACCGCTACGCCCTGC\n",
            "154  -  CAGCGCCACCGACACCCTTCAAAATTCAGTATGCTGGCTCTTATCATGTGGCTGCAACGAATCCGTAGTTAAATGATCGAGTTGGGAAATCTTTGTAATTTGAGCACCTTCACGATCAACGCTGGATGACGTTGTTGTACCGCTACGCCCTGCA\n",
            "155  -  CAGCGCCACCGACACCCTTCAAAATTCAGTATGCTGGCTCTTATCATGTGGCTGCAACGAATCCGTAGTTAAATGATCGAGTTGGGAAATCTTTGTAATTTGAGCACCTTCACGATCAACGCTGGATGACGTTGTTGTACCGCTACGCCCTGCAG\n",
            "156  -  CAGCGCCACCGACACCCTTCAAAATTCAGTATGCTGGCTCTTATCATGTGGCTGCAACGAATCCGTAGTTAAATGATCGAGTTGGGAAATCTTTGTAATTTGAGCACCTTCACGATCAACGCTGGATGACGTTGTTGTACCGCTACGCCCTGCAGA\n",
            "157  -  CAGCGCCACCGACACCCTTCAAAATTCAGTATGCTGGCTCTTATCATGTGGCTGCAACGAATCCGTAGTTAAATGATCGAGTTGGGAAATCTTTGTAATTTGAGCACCTTCACGATCAACGCTGGATGACGTTGTTGTACCGCTACGCCCTGCAGAA\n",
            "158  -  CAGCGCCACCGACACCCTTCAAAATTCAGTATGCTGGCTCTTATCATGTGGCTGCAACGAATCCGTAGTTAAATGATCGAGTTGGGAAATCTTTGTAATTTGAGCACCTTCACGATCAACGCTGGATGACGTTGTTGTACCGCTACGCCCTGCAGAAC\n",
            "159  -  CAGCGCCACCGACACCCTTCAAAATTCAGTATGCTGGCTCTTATCATGTGGCTGCAACGAATCCGTAGTTAAATGATCGAGTTGGGAAATCTTTGTAATTTGAGCACCTTCACGATCAACGCTGGATGACGTTGTTGTACCGCTACGCCCTGCAGAACG\n",
            "160  -  CAGCGCCACCGACACCCTTCAAAATTCAGTATGCTGGCTCTTATCATGTGGCTGCAACGAATCCGTAGTTAAATGATCGAGTTGGGAAATCTTTGTAATTTGAGCACCTTCACGATCAACGCTGGATGACGTTGTTGTACCGCTACGCCCTGCAGAACGG\n",
            "161  -  CAGCGCCACCGACACCCTTCAAAATTCAGTATGCTGGCTCTTATCATGTGGCTGCAACGAATCCGTAGTTAAATGATCGAGTTGGGAAATCTTTGTAATTTGAGCACCTTCACGATCAACGCTGGATGACGTTGTTGTACCGCTACGCCCTGCAGAACGGC\n",
            "162  -  CAGCGCCACCGACACCCTTCAAAATTCAGTATGCTGGCTCTTATCATGTGGCTGCAACGAATCCGTAGTTAAATGATCGAGTTGGGAAATCTTTGTAATTTGAGCACCTTCACGATCAACGCTGGATGACGTTGTTGTACCGCTACGCCCTGCAGAACGGCC\n",
            "163  -  CAGCGCCACCGACACCCTTCAAAATTCAGTATGCTGGCTCTTATCATGTGGCTGCAACGAATCCGTAGTTAAATGATCGAGTTGGGAAATCTTTGTAATTTGAGCACCTTCACGATCAACGCTGGATGACGTTGTTGTACCGCTACGCCCTGCAGAACGGCCA\n",
            "164  -  CAGCGCCACCGACACCCTTCAAAATTCAGTATGCTGGCTCTTATCATGTGGCTGCAACGAATCCGTAGTTAAATGATCGAGTTGGGAAATCTTTGTAATTTGAGCACCTTCACGATCAACGCTGGATGACGTTGTTGTACCGCTACGCCCTGCAGAACGGCCAA\n",
            "165  -  CAGCGCCACCGACACCCTTCAAAATTCAGTATGCTGGCTCTTATCATGTGGCTGCAACGAATCCGTAGTTAAATGATCGAGTTGGGAAATCTTTGTAATTTGAGCACCTTCACGATCAACGCTGGATGACGTTGTTGTACCGCTACGCCCTGCAGAACGGCCAAA\n",
            "166  -  CAGCGCCACCGACACCCTTCAAAATTCAGTATGCTGGCTCTTATCATGTGGCTGCAACGAATCCGTAGTTAAATGATCGAGTTGGGAAATCTTTGTAATTTGAGCACCTTCACGATCAACGCTGGATGACGTTGTTGTACCGCTACGCCCTGCAGAACGGCCAAAT\n",
            "167  -  CAGCGCCACCGACACCCTTCAAAATTCAGTATGCTGGCTCTTATCATGTGGCTGCAACGAATCCGTAGTTAAATGATCGAGTTGGGAAATCTTTGTAATTTGAGCACCTTCACGATCAACGCTGGATGACGTTGTTGTACCGCTACGCCCTGCAGAACGGCCAAATG\n",
            "168  -  CAGCGCCACCGACACCCTTCAAAATTCAGTATGCTGGCTCTTATCATGTGGCTGCAACGAATCCGTAGTTAAATGATCGAGTTGGGAAATCTTTGTAATTTGAGCACCTTCACGATCAACGCTGGATGACGTTGTTGTACCGCTACGCCCTGCAGAACGGCCAAATGC\n",
            "169  -  CAGCGCCACCGACACCCTTCAAAATTCAGTATGCTGGCTCTTATCATGTGGCTGCAACGAATCCGTAGTTAAATGATCGAGTTGGGAAATCTTTGTAATTTGAGCACCTTCACGATCAACGCTGGATGACGTTGTTGTACCGCTACGCCCTGCAGAACGGCCAAATGCA\n",
            "170  -  CAGCGCCACCGACACCCTTCAAAATTCAGTATGCTGGCTCTTATCATGTGGCTGCAACGAATCCGTAGTTAAATGATCGAGTTGGGAAATCTTTGTAATTTGAGCACCTTCACGATCAACGCTGGATGACGTTGTTGTACCGCTACGCCCTGCAGAACGGCCAAATGCAT\n",
            "171  -  CAGCGCCACCGACACCCTTCAAAATTCAGTATGCTGGCTCTTATCATGTGGCTGCAACGAATCCGTAGTTAAATGATCGAGTTGGGAAATCTTTGTAATTTGAGCACCTTCACGATCAACGCTGGATGACGTTGTTGTACCGCTACGCCCTGCAGAACGGCCAAATGCATT\n",
            "172  -  CAGCGCCACCGACACCCTTCAAAATTCAGTATGCTGGCTCTTATCATGTGGCTGCAACGAATCCGTAGTTAAATGATCGAGTTGGGAAATCTTTGTAATTTGAGCACCTTCACGATCAACGCTGGATGACGTTGTTGTACCGCTACGCCCTGCAGAACGGCCAAATGCATTC\n",
            "173  -  CAGCGCCACCGACACCCTTCAAAATTCAGTATGCTGGCTCTTATCATGTGGCTGCAACGAATCCGTAGTTAAATGATCGAGTTGGGAAATCTTTGTAATTTGAGCACCTTCACGATCAACGCTGGATGACGTTGTTGTACCGCTACGCCCTGCAGAACGGCCAAATGCATTCA\n",
            "174  -  CAGCGCCACCGACACCCTTCAAAATTCAGTATGCTGGCTCTTATCATGTGGCTGCAACGAATCCGTAGTTAAATGATCGAGTTGGGAAATCTTTGTAATTTGAGCACCTTCACGATCAACGCTGGATGACGTTGTTGTACCGCTACGCCCTGCAGAACGGCCAAATGCATTCAG\n",
            "175  -  CAGCGCCACCGACACCCTTCAAAATTCAGTATGCTGGCTCTTATCATGTGGCTGCAACGAATCCGTAGTTAAATGATCGAGTTGGGAAATCTTTGTAATTTGAGCACCTTCACGATCAACGCTGGATGACGTTGTTGTACCGCTACGCCCTGCAGAACGGCCAAATGCATTCAGA\n",
            "176  -  CAGCGCCACCGACACCCTTCAAAATTCAGTATGCTGGCTCTTATCATGTGGCTGCAACGAATCCGTAGTTAAATGATCGAGTTGGGAAATCTTTGTAATTTGAGCACCTTCACGATCAACGCTGGATGACGTTGTTGTACCGCTACGCCCTGCAGAACGGCCAAATGCATTCAGAT\n",
            "177  -  CAGCGCCACCGACACCCTTCAAAATTCAGTATGCTGGCTCTTATCATGTGGCTGCAACGAATCCGTAGTTAAATGATCGAGTTGGGAAATCTTTGTAATTTGAGCACCTTCACGATCAACGCTGGATGACGTTGTTGTACCGCTACGCCCTGCAGAACGGCCAAATGCATTCAGATA\n",
            "178  -  CAGCGCCACCGACACCCTTCAAAATTCAGTATGCTGGCTCTTATCATGTGGCTGCAACGAATCCGTAGTTAAATGATCGAGTTGGGAAATCTTTGTAATTTGAGCACCTTCACGATCAACGCTGGATGACGTTGTTGTACCGCTACGCCCTGCAGAACGGCCAAATGCATTCAGATAA\n",
            "179  -  CAGCGCCACCGACACCCTTCAAAATTCAGTATGCTGGCTCTTATCATGTGGCTGCAACGAATCCGTAGTTAAATGATCGAGTTGGGAAATCTTTGTAATTTGAGCACCTTCACGATCAACGCTGGATGACGTTGTTGTACCGCTACGCCCTGCAGAACGGCCAAATGCATTCAGATAAC\n",
            "180  -  CAGCGCCACCGACACCCTTCAAAATTCAGTATGCTGGCTCTTATCATGTGGCTGCAACGAATCCGTAGTTAAATGATCGAGTTGGGAAATCTTTGTAATTTGAGCACCTTCACGATCAACGCTGGATGACGTTGTTGTACCGCTACGCCCTGCAGAACGGCCAAATGCATTCAGATAACT\n",
            "181  -  CAGCGCCACCGACACCCTTCAAAATTCAGTATGCTGGCTCTTATCATGTGGCTGCAACGAATCCGTAGTTAAATGATCGAGTTGGGAAATCTTTGTAATTTGAGCACCTTCACGATCAACGCTGGATGACGTTGTTGTACCGCTACGCCCTGCAGAACGGCCAAATGCATTCAGATAACTA\n",
            "182  -  CAGCGCCACCGACACCCTTCAAAATTCAGTATGCTGGCTCTTATCATGTGGCTGCAACGAATCCGTAGTTAAATGATCGAGTTGGGAAATCTTTGTAATTTGAGCACCTTCACGATCAACGCTGGATGACGTTGTTGTACCGCTACGCCCTGCAGAACGGCCAAATGCATTCAGATAACTAC\n",
            "183  -  CAGCGCCACCGACACCCTTCAAAATTCAGTATGCTGGCTCTTATCATGTGGCTGCAACGAATCCGTAGTTAAATGATCGAGTTGGGAAATCTTTGTAATTTGAGCACCTTCACGATCAACGCTGGATGACGTTGTTGTACCGCTACGCCCTGCAGAACGGCCAAATGCATTCAGATAACTACT\n",
            "184  -  CAGCGCCACCGACACCCTTCAAAATTCAGTATGCTGGCTCTTATCATGTGGCTGCAACGAATCCGTAGTTAAATGATCGAGTTGGGAAATCTTTGTAATTTGAGCACCTTCACGATCAACGCTGGATGACGTTGTTGTACCGCTACGCCCTGCAGAACGGCCAAATGCATTCAGATAACTACTC\n",
            "185  -  CAGCGCCACCGACACCCTTCAAAATTCAGTATGCTGGCTCTTATCATGTGGCTGCAACGAATCCGTAGTTAAATGATCGAGTTGGGAAATCTTTGTAATTTGAGCACCTTCACGATCAACGCTGGATGACGTTGTTGTACCGCTACGCCCTGCAGAACGGCCAAATGCATTCAGATAACTACTCT\n",
            "186  -  CAGCGCCACCGACACCCTTCAAAATTCAGTATGCTGGCTCTTATCATGTGGCTGCAACGAATCCGTAGTTAAATGATCGAGTTGGGAAATCTTTGTAATTTGAGCACCTTCACGATCAACGCTGGATGACGTTGTTGTACCGCTACGCCCTGCAGAACGGCCAAATGCATTCAGATAACTACTCTG\n",
            "187  -  CAGCGCCACCGACACCCTTCAAAATTCAGTATGCTGGCTCTTATCATGTGGCTGCAACGAATCCGTAGTTAAATGATCGAGTTGGGAAATCTTTGTAATTTGAGCACCTTCACGATCAACGCTGGATGACGTTGTTGTACCGCTACGCCCTGCAGAACGGCCAAATGCATTCAGATAACTACTCTGC\n",
            "188  -  CAGCGCCACCGACACCCTTCAAAATTCAGTATGCTGGCTCTTATCATGTGGCTGCAACGAATCCGTAGTTAAATGATCGAGTTGGGAAATCTTTGTAATTTGAGCACCTTCACGATCAACGCTGGATGACGTTGTTGTACCGCTACGCCCTGCAGAACGGCCAAATGCATTCAGATAACTACTCTGCT\n",
            "189  -  CAGCGCCACCGACACCCTTCAAAATTCAGTATGCTGGCTCTTATCATGTGGCTGCAACGAATCCGTAGTTAAATGATCGAGTTGGGAAATCTTTGTAATTTGAGCACCTTCACGATCAACGCTGGATGACGTTGTTGTACCGCTACGCCCTGCAGAACGGCCAAATGCATTCAGATAACTACTCTGCTA\n",
            "190  -  CAGCGCCACCGACACCCTTCAAAATTCAGTATGCTGGCTCTTATCATGTGGCTGCAACGAATCCGTAGTTAAATGATCGAGTTGGGAAATCTTTGTAATTTGAGCACCTTCACGATCAACGCTGGATGACGTTGTTGTACCGCTACGCCCTGCAGAACGGCCAAATGCATTCAGATAACTACTCTGCTAC\n",
            "191  -  CAGCGCCACCGACACCCTTCAAAATTCAGTATGCTGGCTCTTATCATGTGGCTGCAACGAATCCGTAGTTAAATGATCGAGTTGGGAAATCTTTGTAATTTGAGCACCTTCACGATCAACGCTGGATGACGTTGTTGTACCGCTACGCCCTGCAGAACGGCCAAATGCATTCAGATAACTACTCTGCTACC\n",
            "192  -  CAGCGCCACCGACACCCTTCAAAATTCAGTATGCTGGCTCTTATCATGTGGCTGCAACGAATCCGTAGTTAAATGATCGAGTTGGGAAATCTTTGTAATTTGAGCACCTTCACGATCAACGCTGGATGACGTTGTTGTACCGCTACGCCCTGCAGAACGGCCAAATGCATTCAGATAACTACTCTGCTACCT\n",
            "193  -  CAGCGCCACCGACACCCTTCAAAATTCAGTATGCTGGCTCTTATCATGTGGCTGCAACGAATCCGTAGTTAAATGATCGAGTTGGGAAATCTTTGTAATTTGAGCACCTTCACGATCAACGCTGGATGACGTTGTTGTACCGCTACGCCCTGCAGAACGGCCAAATGCATTCAGATAACTACTCTGCTACCTA\n",
            "194  -  CAGCGCCACCGACACCCTTCAAAATTCAGTATGCTGGCTCTTATCATGTGGCTGCAACGAATCCGTAGTTAAATGATCGAGTTGGGAAATCTTTGTAATTTGAGCACCTTCACGATCAACGCTGGATGACGTTGTTGTACCGCTACGCCCTGCAGAACGGCCAAATGCATTCAGATAACTACTCTGCTACCTAA\n",
            "195  -  CAGCGCCACCGACACCCTTCAAAATTCAGTATGCTGGCTCTTATCATGTGGCTGCAACGAATCCGTAGTTAAATGATCGAGTTGGGAAATCTTTGTAATTTGAGCACCTTCACGATCAACGCTGGATGACGTTGTTGTACCGCTACGCCCTGCAGAACGGCCAAATGCATTCAGATAACTACTCTGCTACCTAAG\n",
            "196  -  CAGCGCCACCGACACCCTTCAAAATTCAGTATGCTGGCTCTTATCATGTGGCTGCAACGAATCCGTAGTTAAATGATCGAGTTGGGAAATCTTTGTAATTTGAGCACCTTCACGATCAACGCTGGATGACGTTGTTGTACCGCTACGCCCTGCAGAACGGCCAAATGCATTCAGATAACTACTCTGCTACCTAAGG\n",
            "197  -  CAGCGCCACCGACACCCTTCAAAATTCAGTATGCTGGCTCTTATCATGTGGCTGCAACGAATCCGTAGTTAAATGATCGAGTTGGGAAATCTTTGTAATTTGAGCACCTTCACGATCAACGCTGGATGACGTTGTTGTACCGCTACGCCCTGCAGAACGGCCAAATGCATTCAGATAACTACTCTGCTACCTAAGGG\n",
            "198  -  CAGCGCCACCGACACCCTTCAAAATTCAGTATGCTGGCTCTTATCATGTGGCTGCAACGAATCCGTAGTTAAATGATCGAGTTGGGAAATCTTTGTAATTTGAGCACCTTCACGATCAACGCTGGATGACGTTGTTGTACCGCTACGCCCTGCAGAACGGCCAAATGCATTCAGATAACTACTCTGCTACCTAAGGGA\n",
            "199  -  CAGCGCCACCGACACCCTTCAAAATTCAGTATGCTGGCTCTTATCATGTGGCTGCAACGAATCCGTAGTTAAATGATCGAGTTGGGAAATCTTTGTAATTTGAGCACCTTCACGATCAACGCTGGATGACGTTGTTGTACCGCTACGCCCTGCAGAACGGCCAAATGCATTCAGATAACTACTCTGCTACCTAAGGGAA\n",
            "200  -  CAGCGCCACCGACACCCTTCAAAATTCAGTATGCTGGCTCTTATCATGTGGCTGCAACGAATCCGTAGTTAAATGATCGAGTTGGGAAATCTTTGTAATTTGAGCACCTTCACGATCAACGCTGGATGACGTTGTTGTACCGCTACGCCCTGCAGAACGGCCAAATGCATTCAGATAACTACTCTGCTACCTAAGGGAAA\n",
            "201  -  CAGCGCCACCGACACCCTTCAAAATTCAGTATGCTGGCTCTTATCATGTGGCTGCAACGAATCCGTAGTTAAATGATCGAGTTGGGAAATCTTTGTAATTTGAGCACCTTCACGATCAACGCTGGATGACGTTGTTGTACCGCTACGCCCTGCAGAACGGCCAAATGCATTCAGATAACTACTCTGCTACCTAAGGGAAAG\n",
            "202  -  CAGCGCCACCGACACCCTTCAAAATTCAGTATGCTGGCTCTTATCATGTGGCTGCAACGAATCCGTAGTTAAATGATCGAGTTGGGAAATCTTTGTAATTTGAGCACCTTCACGATCAACGCTGGATGACGTTGTTGTACCGCTACGCCCTGCAGAACGGCCAAATGCATTCAGATAACTACTCTGCTACCTAAGGGAAAGC\n",
            "203  -  CAGCGCCACCGACACCCTTCAAAATTCAGTATGCTGGCTCTTATCATGTGGCTGCAACGAATCCGTAGTTAAATGATCGAGTTGGGAAATCTTTGTAATTTGAGCACCTTCACGATCAACGCTGGATGACGTTGTTGTACCGCTACGCCCTGCAGAACGGCCAAATGCATTCAGATAACTACTCTGCTACCTAAGGGAAAGCA\n",
            "204  -  CAGCGCCACCGACACCCTTCAAAATTCAGTATGCTGGCTCTTATCATGTGGCTGCAACGAATCCGTAGTTAAATGATCGAGTTGGGAAATCTTTGTAATTTGAGCACCTTCACGATCAACGCTGGATGACGTTGTTGTACCGCTACGCCCTGCAGAACGGCCAAATGCATTCAGATAACTACTCTGCTACCTAAGGGAAAGCAG\n",
            "205  -  CAGCGCCACCGACACCCTTCAAAATTCAGTATGCTGGCTCTTATCATGTGGCTGCAACGAATCCGTAGTTAAATGATCGAGTTGGGAAATCTTTGTAATTTGAGCACCTTCACGATCAACGCTGGATGACGTTGTTGTACCGCTACGCCCTGCAGAACGGCCAAATGCATTCAGATAACTACTCTGCTACCTAAGGGAAAGCAGT\n",
            "206  -  CAGCGCCACCGACACCCTTCAAAATTCAGTATGCTGGCTCTTATCATGTGGCTGCAACGAATCCGTAGTTAAATGATCGAGTTGGGAAATCTTTGTAATTTGAGCACCTTCACGATCAACGCTGGATGACGTTGTTGTACCGCTACGCCCTGCAGAACGGCCAAATGCATTCAGATAACTACTCTGCTACCTAAGGGAAAGCAGTC\n",
            "207  -  CAGCGCCACCGACACCCTTCAAAATTCAGTATGCTGGCTCTTATCATGTGGCTGCAACGAATCCGTAGTTAAATGATCGAGTTGGGAAATCTTTGTAATTTGAGCACCTTCACGATCAACGCTGGATGACGTTGTTGTACCGCTACGCCCTGCAGAACGGCCAAATGCATTCAGATAACTACTCTGCTACCTAAGGGAAAGCAGTCT\n",
            "208  -  CAGCGCCACCGACACCCTTCAAAATTCAGTATGCTGGCTCTTATCATGTGGCTGCAACGAATCCGTAGTTAAATGATCGAGTTGGGAAATCTTTGTAATTTGAGCACCTTCACGATCAACGCTGGATGACGTTGTTGTACCGCTACGCCCTGCAGAACGGCCAAATGCATTCAGATAACTACTCTGCTACCTAAGGGAAAGCAGTCTA\n",
            "209  -  CAGCGCCACCGACACCCTTCAAAATTCAGTATGCTGGCTCTTATCATGTGGCTGCAACGAATCCGTAGTTAAATGATCGAGTTGGGAAATCTTTGTAATTTGAGCACCTTCACGATCAACGCTGGATGACGTTGTTGTACCGCTACGCCCTGCAGAACGGCCAAATGCATTCAGATAACTACTCTGCTACCTAAGGGAAAGCAGTCTAC\n",
            "210  -  CAGCGCCACCGACACCCTTCAAAATTCAGTATGCTGGCTCTTATCATGTGGCTGCAACGAATCCGTAGTTAAATGATCGAGTTGGGAAATCTTTGTAATTTGAGCACCTTCACGATCAACGCTGGATGACGTTGTTGTACCGCTACGCCCTGCAGAACGGCCAAATGCATTCAGATAACTACTCTGCTACCTAAGGGAAAGCAGTCTACT\n",
            "211  -  CAGCGCCACCGACACCCTTCAAAATTCAGTATGCTGGCTCTTATCATGTGGCTGCAACGAATCCGTAGTTAAATGATCGAGTTGGGAAATCTTTGTAATTTGAGCACCTTCACGATCAACGCTGGATGACGTTGTTGTACCGCTACGCCCTGCAGAACGGCCAAATGCATTCAGATAACTACTCTGCTACCTAAGGGAAAGCAGTCTACTC\n",
            "212  -  CAGCGCCACCGACACCCTTCAAAATTCAGTATGCTGGCTCTTATCATGTGGCTGCAACGAATCCGTAGTTAAATGATCGAGTTGGGAAATCTTTGTAATTTGAGCACCTTCACGATCAACGCTGGATGACGTTGTTGTACCGCTACGCCCTGCAGAACGGCCAAATGCATTCAGATAACTACTCTGCTACCTAAGGGAAAGCAGTCTACTCG\n",
            "213  -  CAGCGCCACCGACACCCTTCAAAATTCAGTATGCTGGCTCTTATCATGTGGCTGCAACGAATCCGTAGTTAAATGATCGAGTTGGGAAATCTTTGTAATTTGAGCACCTTCACGATCAACGCTGGATGACGTTGTTGTACCGCTACGCCCTGCAGAACGGCCAAATGCATTCAGATAACTACTCTGCTACCTAAGGGAAAGCAGTCTACTCGA\n",
            "214  -  CAGCGCCACCGACACCCTTCAAAATTCAGTATGCTGGCTCTTATCATGTGGCTGCAACGAATCCGTAGTTAAATGATCGAGTTGGGAAATCTTTGTAATTTGAGCACCTTCACGATCAACGCTGGATGACGTTGTTGTACCGCTACGCCCTGCAGAACGGCCAAATGCATTCAGATAACTACTCTGCTACCTAAGGGAAAGCAGTCTACTCGAA\n",
            "215  -  CAGCGCCACCGACACCCTTCAAAATTCAGTATGCTGGCTCTTATCATGTGGCTGCAACGAATCCGTAGTTAAATGATCGAGTTGGGAAATCTTTGTAATTTGAGCACCTTCACGATCAACGCTGGATGACGTTGTTGTACCGCTACGCCCTGCAGAACGGCCAAATGCATTCAGATAACTACTCTGCTACCTAAGGGAAAGCAGTCTACTCGAAC\n",
            "216  -  CAGCGCCACCGACACCCTTCAAAATTCAGTATGCTGGCTCTTATCATGTGGCTGCAACGAATCCGTAGTTAAATGATCGAGTTGGGAAATCTTTGTAATTTGAGCACCTTCACGATCAACGCTGGATGACGTTGTTGTACCGCTACGCCCTGCAGAACGGCCAAATGCATTCAGATAACTACTCTGCTACCTAAGGGAAAGCAGTCTACTCGAACT\n",
            "217  -  CAGCGCCACCGACACCCTTCAAAATTCAGTATGCTGGCTCTTATCATGTGGCTGCAACGAATCCGTAGTTAAATGATCGAGTTGGGAAATCTTTGTAATTTGAGCACCTTCACGATCAACGCTGGATGACGTTGTTGTACCGCTACGCCCTGCAGAACGGCCAAATGCATTCAGATAACTACTCTGCTACCTAAGGGAAAGCAGTCTACTCGAACTG\n",
            "218  -  CAGCGCCACCGACACCCTTCAAAATTCAGTATGCTGGCTCTTATCATGTGGCTGCAACGAATCCGTAGTTAAATGATCGAGTTGGGAAATCTTTGTAATTTGAGCACCTTCACGATCAACGCTGGATGACGTTGTTGTACCGCTACGCCCTGCAGAACGGCCAAATGCATTCAGATAACTACTCTGCTACCTAAGGGAAAGCAGTCTACTCGAACTGC\n",
            "219  -  CAGCGCCACCGACACCCTTCAAAATTCAGTATGCTGGCTCTTATCATGTGGCTGCAACGAATCCGTAGTTAAATGATCGAGTTGGGAAATCTTTGTAATTTGAGCACCTTCACGATCAACGCTGGATGACGTTGTTGTACCGCTACGCCCTGCAGAACGGCCAAATGCATTCAGATAACTACTCTGCTACCTAAGGGAAAGCAGTCTACTCGAACTGCC\n",
            "220  -  CAGCGCCACCGACACCCTTCAAAATTCAGTATGCTGGCTCTTATCATGTGGCTGCAACGAATCCGTAGTTAAATGATCGAGTTGGGAAATCTTTGTAATTTGAGCACCTTCACGATCAACGCTGGATGACGTTGTTGTACCGCTACGCCCTGCAGAACGGCCAAATGCATTCAGATAACTACTCTGCTACCTAAGGGAAAGCAGTCTACTCGAACTGCCA\n",
            "221  -  CAGCGCCACCGACACCCTTCAAAATTCAGTATGCTGGCTCTTATCATGTGGCTGCAACGAATCCGTAGTTAAATGATCGAGTTGGGAAATCTTTGTAATTTGAGCACCTTCACGATCAACGCTGGATGACGTTGTTGTACCGCTACGCCCTGCAGAACGGCCAAATGCATTCAGATAACTACTCTGCTACCTAAGGGAAAGCAGTCTACTCGAACTGCCAC\n",
            "222  -  CAGCGCCACCGACACCCTTCAAAATTCAGTATGCTGGCTCTTATCATGTGGCTGCAACGAATCCGTAGTTAAATGATCGAGTTGGGAAATCTTTGTAATTTGAGCACCTTCACGATCAACGCTGGATGACGTTGTTGTACCGCTACGCCCTGCAGAACGGCCAAATGCATTCAGATAACTACTCTGCTACCTAAGGGAAAGCAGTCTACTCGAACTGCCACT\n",
            "223  -  CAGCGCCACCGACACCCTTCAAAATTCAGTATGCTGGCTCTTATCATGTGGCTGCAACGAATCCGTAGTTAAATGATCGAGTTGGGAAATCTTTGTAATTTGAGCACCTTCACGATCAACGCTGGATGACGTTGTTGTACCGCTACGCCCTGCAGAACGGCCAAATGCATTCAGATAACTACTCTGCTACCTAAGGGAAAGCAGTCTACTCGAACTGCCACTC\n",
            "224  -  CAGCGCCACCGACACCCTTCAAAATTCAGTATGCTGGCTCTTATCATGTGGCTGCAACGAATCCGTAGTTAAATGATCGAGTTGGGAAATCTTTGTAATTTGAGCACCTTCACGATCAACGCTGGATGACGTTGTTGTACCGCTACGCCCTGCAGAACGGCCAAATGCATTCAGATAACTACTCTGCTACCTAAGGGAAAGCAGTCTACTCGAACTGCCACTCA\n",
            "225  -  CAGCGCCACCGACACCCTTCAAAATTCAGTATGCTGGCTCTTATCATGTGGCTGCAACGAATCCGTAGTTAAATGATCGAGTTGGGAAATCTTTGTAATTTGAGCACCTTCACGATCAACGCTGGATGACGTTGTTGTACCGCTACGCCCTGCAGAACGGCCAAATGCATTCAGATAACTACTCTGCTACCTAAGGGAAAGCAGTCTACTCGAACTGCCACTCAC\n",
            "226  -  CAGCGCCACCGACACCCTTCAAAATTCAGTATGCTGGCTCTTATCATGTGGCTGCAACGAATCCGTAGTTAAATGATCGAGTTGGGAAATCTTTGTAATTTGAGCACCTTCACGATCAACGCTGGATGACGTTGTTGTACCGCTACGCCCTGCAGAACGGCCAAATGCATTCAGATAACTACTCTGCTACCTAAGGGAAAGCAGTCTACTCGAACTGCCACTCACA\n",
            "227  -  CAGCGCCACCGACACCCTTCAAAATTCAGTATGCTGGCTCTTATCATGTGGCTGCAACGAATCCGTAGTTAAATGATCGAGTTGGGAAATCTTTGTAATTTGAGCACCTTCACGATCAACGCTGGATGACGTTGTTGTACCGCTACGCCCTGCAGAACGGCCAAATGCATTCAGATAACTACTCTGCTACCTAAGGGAAAGCAGTCTACTCGAACTGCCACTCACAA\n",
            "228  -  CAGCGCCACCGACACCCTTCAAAATTCAGTATGCTGGCTCTTATCATGTGGCTGCAACGAATCCGTAGTTAAATGATCGAGTTGGGAAATCTTTGTAATTTGAGCACCTTCACGATCAACGCTGGATGACGTTGTTGTACCGCTACGCCCTGCAGAACGGCCAAATGCATTCAGATAACTACTCTGCTACCTAAGGGAAAGCAGTCTACTCGAACTGCCACTCACAAG\n",
            "229  -  CAGCGCCACCGACACCCTTCAAAATTCAGTATGCTGGCTCTTATCATGTGGCTGCAACGAATCCGTAGTTAAATGATCGAGTTGGGAAATCTTTGTAATTTGAGCACCTTCACGATCAACGCTGGATGACGTTGTTGTACCGCTACGCCCTGCAGAACGGCCAAATGCATTCAGATAACTACTCTGCTACCTAAGGGAAAGCAGTCTACTCGAACTGCCACTCACAAGT\n",
            "230  -  CAGCGCCACCGACACCCTTCAAAATTCAGTATGCTGGCTCTTATCATGTGGCTGCAACGAATCCGTAGTTAAATGATCGAGTTGGGAAATCTTTGTAATTTGAGCACCTTCACGATCAACGCTGGATGACGTTGTTGTACCGCTACGCCCTGCAGAACGGCCAAATGCATTCAGATAACTACTCTGCTACCTAAGGGAAAGCAGTCTACTCGAACTGCCACTCACAAGTC\n",
            "231  -  CAGCGCCACCGACACCCTTCAAAATTCAGTATGCTGGCTCTTATCATGTGGCTGCAACGAATCCGTAGTTAAATGATCGAGTTGGGAAATCTTTGTAATTTGAGCACCTTCACGATCAACGCTGGATGACGTTGTTGTACCGCTACGCCCTGCAGAACGGCCAAATGCATTCAGATAACTACTCTGCTACCTAAGGGAAAGCAGTCTACTCGAACTGCCACTCACAAGTCC\n",
            "232  -  CAGCGCCACCGACACCCTTCAAAATTCAGTATGCTGGCTCTTATCATGTGGCTGCAACGAATCCGTAGTTAAATGATCGAGTTGGGAAATCTTTGTAATTTGAGCACCTTCACGATCAACGCTGGATGACGTTGTTGTACCGCTACGCCCTGCAGAACGGCCAAATGCATTCAGATAACTACTCTGCTACCTAAGGGAAAGCAGTCTACTCGAACTGCCACTCACAAGTCCC\n",
            "233  -  CAGCGCCACCGACACCCTTCAAAATTCAGTATGCTGGCTCTTATCATGTGGCTGCAACGAATCCGTAGTTAAATGATCGAGTTGGGAAATCTTTGTAATTTGAGCACCTTCACGATCAACGCTGGATGACGTTGTTGTACCGCTACGCCCTGCAGAACGGCCAAATGCATTCAGATAACTACTCTGCTACCTAAGGGAAAGCAGTCTACTCGAACTGCCACTCACAAGTCCCA\n",
            "234  -  CAGCGCCACCGACACCCTTCAAAATTCAGTATGCTGGCTCTTATCATGTGGCTGCAACGAATCCGTAGTTAAATGATCGAGTTGGGAAATCTTTGTAATTTGAGCACCTTCACGATCAACGCTGGATGACGTTGTTGTACCGCTACGCCCTGCAGAACGGCCAAATGCATTCAGATAACTACTCTGCTACCTAAGGGAAAGCAGTCTACTCGAACTGCCACTCACAAGTCCCAA\n",
            "235  -  CAGCGCCACCGACACCCTTCAAAATTCAGTATGCTGGCTCTTATCATGTGGCTGCAACGAATCCGTAGTTAAATGATCGAGTTGGGAAATCTTTGTAATTTGAGCACCTTCACGATCAACGCTGGATGACGTTGTTGTACCGCTACGCCCTGCAGAACGGCCAAATGCATTCAGATAACTACTCTGCTACCTAAGGGAAAGCAGTCTACTCGAACTGCCACTCACAAGTCCCAAA\n",
            "236  -  CAGCGCCACCGACACCCTTCAAAATTCAGTATGCTGGCTCTTATCATGTGGCTGCAACGAATCCGTAGTTAAATGATCGAGTTGGGAAATCTTTGTAATTTGAGCACCTTCACGATCAACGCTGGATGACGTTGTTGTACCGCTACGCCCTGCAGAACGGCCAAATGCATTCAGATAACTACTCTGCTACCTAAGGGAAAGCAGTCTACTCGAACTGCCACTCACAAGTCCCAAAA\n",
            "237  -  CAGCGCCACCGACACCCTTCAAAATTCAGTATGCTGGCTCTTATCATGTGGCTGCAACGAATCCGTAGTTAAATGATCGAGTTGGGAAATCTTTGTAATTTGAGCACCTTCACGATCAACGCTGGATGACGTTGTTGTACCGCTACGCCCTGCAGAACGGCCAAATGCATTCAGATAACTACTCTGCTACCTAAGGGAAAGCAGTCTACTCGAACTGCCACTCACAAGTCCCAAAAC\n",
            "238  -  CAGCGCCACCGACACCCTTCAAAATTCAGTATGCTGGCTCTTATCATGTGGCTGCAACGAATCCGTAGTTAAATGATCGAGTTGGGAAATCTTTGTAATTTGAGCACCTTCACGATCAACGCTGGATGACGTTGTTGTACCGCTACGCCCTGCAGAACGGCCAAATGCATTCAGATAACTACTCTGCTACCTAAGGGAAAGCAGTCTACTCGAACTGCCACTCACAAGTCCCAAAACA\n",
            "239  -  CAGCGCCACCGACACCCTTCAAAATTCAGTATGCTGGCTCTTATCATGTGGCTGCAACGAATCCGTAGTTAAATGATCGAGTTGGGAAATCTTTGTAATTTGAGCACCTTCACGATCAACGCTGGATGACGTTGTTGTACCGCTACGCCCTGCAGAACGGCCAAATGCATTCAGATAACTACTCTGCTACCTAAGGGAAAGCAGTCTACTCGAACTGCCACTCACAAGTCCCAAAACAT\n",
            "240  -  CAGCGCCACCGACACCCTTCAAAATTCAGTATGCTGGCTCTTATCATGTGGCTGCAACGAATCCGTAGTTAAATGATCGAGTTGGGAAATCTTTGTAATTTGAGCACCTTCACGATCAACGCTGGATGACGTTGTTGTACCGCTACGCCCTGCAGAACGGCCAAATGCATTCAGATAACTACTCTGCTACCTAAGGGAAAGCAGTCTACTCGAACTGCCACTCACAAGTCCCAAAACATC\n",
            "241  -  CAGCGCCACCGACACCCTTCAAAATTCAGTATGCTGGCTCTTATCATGTGGCTGCAACGAATCCGTAGTTAAATGATCGAGTTGGGAAATCTTTGTAATTTGAGCACCTTCACGATCAACGCTGGATGACGTTGTTGTACCGCTACGCCCTGCAGAACGGCCAAATGCATTCAGATAACTACTCTGCTACCTAAGGGAAAGCAGTCTACTCGAACTGCCACTCACAAGTCCCAAAACATCC\n",
            "242  -  CAGCGCCACCGACACCCTTCAAAATTCAGTATGCTGGCTCTTATCATGTGGCTGCAACGAATCCGTAGTTAAATGATCGAGTTGGGAAATCTTTGTAATTTGAGCACCTTCACGATCAACGCTGGATGACGTTGTTGTACCGCTACGCCCTGCAGAACGGCCAAATGCATTCAGATAACTACTCTGCTACCTAAGGGAAAGCAGTCTACTCGAACTGCCACTCACAAGTCCCAAAACATCCA\n",
            "243  -  CAGCGCCACCGACACCCTTCAAAATTCAGTATGCTGGCTCTTATCATGTGGCTGCAACGAATCCGTAGTTAAATGATCGAGTTGGGAAATCTTTGTAATTTGAGCACCTTCACGATCAACGCTGGATGACGTTGTTGTACCGCTACGCCCTGCAGAACGGCCAAATGCATTCAGATAACTACTCTGCTACCTAAGGGAAAGCAGTCTACTCGAACTGCCACTCACAAGTCCCAAAACATCCAC\n",
            "244  -  CAGCGCCACCGACACCCTTCAAAATTCAGTATGCTGGCTCTTATCATGTGGCTGCAACGAATCCGTAGTTAAATGATCGAGTTGGGAAATCTTTGTAATTTGAGCACCTTCACGATCAACGCTGGATGACGTTGTTGTACCGCTACGCCCTGCAGAACGGCCAAATGCATTCAGATAACTACTCTGCTACCTAAGGGAAAGCAGTCTACTCGAACTGCCACTCACAAGTCCCAAAACATCCACG\n",
            "245  -  CAGCGCCACCGACACCCTTCAAAATTCAGTATGCTGGCTCTTATCATGTGGCTGCAACGAATCCGTAGTTAAATGATCGAGTTGGGAAATCTTTGTAATTTGAGCACCTTCACGATCAACGCTGGATGACGTTGTTGTACCGCTACGCCCTGCAGAACGGCCAAATGCATTCAGATAACTACTCTGCTACCTAAGGGAAAGCAGTCTACTCGAACTGCCACTCACAAGTCCCAAAACATCCACGA\n",
            "246  -  CAGCGCCACCGACACCCTTCAAAATTCAGTATGCTGGCTCTTATCATGTGGCTGCAACGAATCCGTAGTTAAATGATCGAGTTGGGAAATCTTTGTAATTTGAGCACCTTCACGATCAACGCTGGATGACGTTGTTGTACCGCTACGCCCTGCAGAACGGCCAAATGCATTCAGATAACTACTCTGCTACCTAAGGGAAAGCAGTCTACTCGAACTGCCACTCACAAGTCCCAAAACATCCACGAT\n",
            "247  -  CAGCGCCACCGACACCCTTCAAAATTCAGTATGCTGGCTCTTATCATGTGGCTGCAACGAATCCGTAGTTAAATGATCGAGTTGGGAAATCTTTGTAATTTGAGCACCTTCACGATCAACGCTGGATGACGTTGTTGTACCGCTACGCCCTGCAGAACGGCCAAATGCATTCAGATAACTACTCTGCTACCTAAGGGAAAGCAGTCTACTCGAACTGCCACTCACAAGTCCCAAAACATCCACGATT\n",
            "248  -  CAGCGCCACCGACACCCTTCAAAATTCAGTATGCTGGCTCTTATCATGTGGCTGCAACGAATCCGTAGTTAAATGATCGAGTTGGGAAATCTTTGTAATTTGAGCACCTTCACGATCAACGCTGGATGACGTTGTTGTACCGCTACGCCCTGCAGAACGGCCAAATGCATTCAGATAACTACTCTGCTACCTAAGGGAAAGCAGTCTACTCGAACTGCCACTCACAAGTCCCAAAACATCCACGATTG\n",
            "249  -  CAGCGCCACCGACACCCTTCAAAATTCAGTATGCTGGCTCTTATCATGTGGCTGCAACGAATCCGTAGTTAAATGATCGAGTTGGGAAATCTTTGTAATTTGAGCACCTTCACGATCAACGCTGGATGACGTTGTTGTACCGCTACGCCCTGCAGAACGGCCAAATGCATTCAGATAACTACTCTGCTACCTAAGGGAAAGCAGTCTACTCGAACTGCCACTCACAAGTCCCAAAACATCCACGATTGG\n",
            "250  -  CAGCGCCACCGACACCCTTCAAAATTCAGTATGCTGGCTCTTATCATGTGGCTGCAACGAATCCGTAGTTAAATGATCGAGTTGGGAAATCTTTGTAATTTGAGCACCTTCACGATCAACGCTGGATGACGTTGTTGTACCGCTACGCCCTGCAGAACGGCCAAATGCATTCAGATAACTACTCTGCTACCTAAGGGAAAGCAGTCTACTCGAACTGCCACTCACAAGTCCCAAAACATCCACGATTGGT\n",
            "251  -  CAGCGCCACCGACACCCTTCAAAATTCAGTATGCTGGCTCTTATCATGTGGCTGCAACGAATCCGTAGTTAAATGATCGAGTTGGGAAATCTTTGTAATTTGAGCACCTTCACGATCAACGCTGGATGACGTTGTTGTACCGCTACGCCCTGCAGAACGGCCAAATGCATTCAGATAACTACTCTGCTACCTAAGGGAAAGCAGTCTACTCGAACTGCCACTCACAAGTCCCAAAACATCCACGATTGGTC\n",
            "252  -  CAGCGCCACCGACACCCTTCAAAATTCAGTATGCTGGCTCTTATCATGTGGCTGCAACGAATCCGTAGTTAAATGATCGAGTTGGGAAATCTTTGTAATTTGAGCACCTTCACGATCAACGCTGGATGACGTTGTTGTACCGCTACGCCCTGCAGAACGGCCAAATGCATTCAGATAACTACTCTGCTACCTAAGGGAAAGCAGTCTACTCGAACTGCCACTCACAAGTCCCAAAACATCCACGATTGGTCA\n",
            "253  -  CAGCGCCACCGACACCCTTCAAAATTCAGTATGCTGGCTCTTATCATGTGGCTGCAACGAATCCGTAGTTAAATGATCGAGTTGGGAAATCTTTGTAATTTGAGCACCTTCACGATCAACGCTGGATGACGTTGTTGTACCGCTACGCCCTGCAGAACGGCCAAATGCATTCAGATAACTACTCTGCTACCTAAGGGAAAGCAGTCTACTCGAACTGCCACTCACAAGTCCCAAAACATCCACGATTGGTCAG\n",
            "254  -  CAGCGCCACCGACACCCTTCAAAATTCAGTATGCTGGCTCTTATCATGTGGCTGCAACGAATCCGTAGTTAAATGATCGAGTTGGGAAATCTTTGTAATTTGAGCACCTTCACGATCAACGCTGGATGACGTTGTTGTACCGCTACGCCCTGCAGAACGGCCAAATGCATTCAGATAACTACTCTGCTACCTAAGGGAAAGCAGTCTACTCGAACTGCCACTCACAAGTCCCAAAACATCCACGATTGGTCAGT\n",
            "255  -  CAGCGCCACCGACACCCTTCAAAATTCAGTATGCTGGCTCTTATCATGTGGCTGCAACGAATCCGTAGTTAAATGATCGAGTTGGGAAATCTTTGTAATTTGAGCACCTTCACGATCAACGCTGGATGACGTTGTTGTACCGCTACGCCCTGCAGAACGGCCAAATGCATTCAGATAACTACTCTGCTACCTAAGGGAAAGCAGTCTACTCGAACTGCCACTCACAAGTCCCAAAACATCCACGATTGGTCAGTT\n",
            "256  -  CAGCGCCACCGACACCCTTCAAAATTCAGTATGCTGGCTCTTATCATGTGGCTGCAACGAATCCGTAGTTAAATGATCGAGTTGGGAAATCTTTGTAATTTGAGCACCTTCACGATCAACGCTGGATGACGTTGTTGTACCGCTACGCCCTGCAGAACGGCCAAATGCATTCAGATAACTACTCTGCTACCTAAGGGAAAGCAGTCTACTCGAACTGCCACTCACAAGTCCCAAAACATCCACGATTGGTCAGTTA\n",
            "257  -  CAGCGCCACCGACACCCTTCAAAATTCAGTATGCTGGCTCTTATCATGTGGCTGCAACGAATCCGTAGTTAAATGATCGAGTTGGGAAATCTTTGTAATTTGAGCACCTTCACGATCAACGCTGGATGACGTTGTTGTACCGCTACGCCCTGCAGAACGGCCAAATGCATTCAGATAACTACTCTGCTACCTAAGGGAAAGCAGTCTACTCGAACTGCCACTCACAAGTCCCAAAACATCCACGATTGGTCAGTTAC\n",
            "258  -  CAGCGCCACCGACACCCTTCAAAATTCAGTATGCTGGCTCTTATCATGTGGCTGCAACGAATCCGTAGTTAAATGATCGAGTTGGGAAATCTTTGTAATTTGAGCACCTTCACGATCAACGCTGGATGACGTTGTTGTACCGCTACGCCCTGCAGAACGGCCAAATGCATTCAGATAACTACTCTGCTACCTAAGGGAAAGCAGTCTACTCGAACTGCCACTCACAAGTCCCAAAACATCCACGATTGGTCAGTTACT\n",
            "259  -  CAGCGCCACCGACACCCTTCAAAATTCAGTATGCTGGCTCTTATCATGTGGCTGCAACGAATCCGTAGTTAAATGATCGAGTTGGGAAATCTTTGTAATTTGAGCACCTTCACGATCAACGCTGGATGACGTTGTTGTACCGCTACGCCCTGCAGAACGGCCAAATGCATTCAGATAACTACTCTGCTACCTAAGGGAAAGCAGTCTACTCGAACTGCCACTCACAAGTCCCAAAACATCCACGATTGGTCAGTTACTA\n",
            "260  -  CAGCGCCACCGACACCCTTCAAAATTCAGTATGCTGGCTCTTATCATGTGGCTGCAACGAATCCGTAGTTAAATGATCGAGTTGGGAAATCTTTGTAATTTGAGCACCTTCACGATCAACGCTGGATGACGTTGTTGTACCGCTACGCCCTGCAGAACGGCCAAATGCATTCAGATAACTACTCTGCTACCTAAGGGAAAGCAGTCTACTCGAACTGCCACTCACAAGTCCCAAAACATCCACGATTGGTCAGTTACTAC\n",
            "261  -  CAGCGCCACCGACACCCTTCAAAATTCAGTATGCTGGCTCTTATCATGTGGCTGCAACGAATCCGTAGTTAAATGATCGAGTTGGGAAATCTTTGTAATTTGAGCACCTTCACGATCAACGCTGGATGACGTTGTTGTACCGCTACGCCCTGCAGAACGGCCAAATGCATTCAGATAACTACTCTGCTACCTAAGGGAAAGCAGTCTACTCGAACTGCCACTCACAAGTCCCAAAACATCCACGATTGGTCAGTTACTACC\n",
            "262  -  CAGCGCCACCGACACCCTTCAAAATTCAGTATGCTGGCTCTTATCATGTGGCTGCAACGAATCCGTAGTTAAATGATCGAGTTGGGAAATCTTTGTAATTTGAGCACCTTCACGATCAACGCTGGATGACGTTGTTGTACCGCTACGCCCTGCAGAACGGCCAAATGCATTCAGATAACTACTCTGCTACCTAAGGGAAAGCAGTCTACTCGAACTGCCACTCACAAGTCCCAAAACATCCACGATTGGTCAGTTACTACCC\n",
            "263  -  CAGCGCCACCGACACCCTTCAAAATTCAGTATGCTGGCTCTTATCATGTGGCTGCAACGAATCCGTAGTTAAATGATCGAGTTGGGAAATCTTTGTAATTTGAGCACCTTCACGATCAACGCTGGATGACGTTGTTGTACCGCTACGCCCTGCAGAACGGCCAAATGCATTCAGATAACTACTCTGCTACCTAAGGGAAAGCAGTCTACTCGAACTGCCACTCACAAGTCCCAAAACATCCACGATTGGTCAGTTACTACCCC\n",
            "264  -  CAGCGCCACCGACACCCTTCAAAATTCAGTATGCTGGCTCTTATCATGTGGCTGCAACGAATCCGTAGTTAAATGATCGAGTTGGGAAATCTTTGTAATTTGAGCACCTTCACGATCAACGCTGGATGACGTTGTTGTACCGCTACGCCCTGCAGAACGGCCAAATGCATTCAGATAACTACTCTGCTACCTAAGGGAAAGCAGTCTACTCGAACTGCCACTCACAAGTCCCAAAACATCCACGATTGGTCAGTTACTACCCCA\n",
            "265  -  CAGCGCCACCGACACCCTTCAAAATTCAGTATGCTGGCTCTTATCATGTGGCTGCAACGAATCCGTAGTTAAATGATCGAGTTGGGAAATCTTTGTAATTTGAGCACCTTCACGATCAACGCTGGATGACGTTGTTGTACCGCTACGCCCTGCAGAACGGCCAAATGCATTCAGATAACTACTCTGCTACCTAAGGGAAAGCAGTCTACTCGAACTGCCACTCACAAGTCCCAAAACATCCACGATTGGTCAGTTACTACCCCAG\n",
            "266  -  CAGCGCCACCGACACCCTTCAAAATTCAGTATGCTGGCTCTTATCATGTGGCTGCAACGAATCCGTAGTTAAATGATCGAGTTGGGAAATCTTTGTAATTTGAGCACCTTCACGATCAACGCTGGATGACGTTGTTGTACCGCTACGCCCTGCAGAACGGCCAAATGCATTCAGATAACTACTCTGCTACCTAAGGGAAAGCAGTCTACTCGAACTGCCACTCACAAGTCCCAAAACATCCACGATTGGTCAGTTACTACCCCAGC\n",
            "267  -  CAGCGCCACCGACACCCTTCAAAATTCAGTATGCTGGCTCTTATCATGTGGCTGCAACGAATCCGTAGTTAAATGATCGAGTTGGGAAATCTTTGTAATTTGAGCACCTTCACGATCAACGCTGGATGACGTTGTTGTACCGCTACGCCCTGCAGAACGGCCAAATGCATTCAGATAACTACTCTGCTACCTAAGGGAAAGCAGTCTACTCGAACTGCCACTCACAAGTCCCAAAACATCCACGATTGGTCAGTTACTACCCCAGCG\n",
            "268  -  CAGCGCCACCGACACCCTTCAAAATTCAGTATGCTGGCTCTTATCATGTGGCTGCAACGAATCCGTAGTTAAATGATCGAGTTGGGAAATCTTTGTAATTTGAGCACCTTCACGATCAACGCTGGATGACGTTGTTGTACCGCTACGCCCTGCAGAACGGCCAAATGCATTCAGATAACTACTCTGCTACCTAAGGGAAAGCAGTCTACTCGAACTGCCACTCACAAGTCCCAAAACATCCACGATTGGTCAGTTACTACCCCAGCGC\n",
            "269  -  CAGCGCCACCGACACCCTTCAAAATTCAGTATGCTGGCTCTTATCATGTGGCTGCAACGAATCCGTAGTTAAATGATCGAGTTGGGAAATCTTTGTAATTTGAGCACCTTCACGATCAACGCTGGATGACGTTGTTGTACCGCTACGCCCTGCAGAACGGCCAAATGCATTCAGATAACTACTCTGCTACCTAAGGGAAAGCAGTCTACTCGAACTGCCACTCACAAGTCCCAAAACATCCACGATTGGTCAGTTACTACCCCAGCGCG\n",
            "p1 =  531\n",
            "p1 =  532\n",
            "p1 =  533\n",
            "p1 =  534\n",
            "p1 =  535\n",
            "p1 =  536\n",
            "p1 =  537\n",
            "p1 =  538\n",
            "p1 =  539\n",
            "p1 =  540\n",
            "p1 =  541\n",
            "p1 =  542\n",
            "p1 =  543\n",
            "p1 =  544\n",
            "p1 =  545\n"
          ],
          "name": "stdout"
        },
        {
          "output_type": "error",
          "ename": "KeyboardInterrupt",
          "evalue": "ignored",
          "traceback": [
            "\u001b[0;31m---------------------------------------------------------------------------\u001b[0m",
            "\u001b[0;31mKeyboardInterrupt\u001b[0m                         Traceback (most recent call last)",
            "\u001b[0;32m<ipython-input-18-b70e1369ad89>\u001b[0m in \u001b[0;36m<module>\u001b[0;34m()\u001b[0m\n\u001b[1;32m      6\u001b[0m \u001b[0;32mwhile\u001b[0m \u001b[0mpointer1\u001b[0m \u001b[0;34m<\u001b[0m \u001b[0mlen\u001b[0m\u001b[0;34m(\u001b[0m\u001b[0mtarget_list\u001b[0m\u001b[0;34m[\u001b[0m\u001b[0;36m0\u001b[0m\u001b[0;34m]\u001b[0m\u001b[0;34m)\u001b[0m \u001b[0;34m-\u001b[0m \u001b[0;36m1\u001b[0m\u001b[0;34m:\u001b[0m\u001b[0;34m\u001b[0m\u001b[0;34m\u001b[0m\u001b[0m\n\u001b[1;32m      7\u001b[0m     \u001b[0;31m#print(string)\u001b[0m\u001b[0;34m\u001b[0m\u001b[0;34m\u001b[0m\u001b[0;34m\u001b[0m\u001b[0m\n\u001b[0;32m----> 8\u001b[0;31m     \u001b[0;32mif\u001b[0m \u001b[0mseq_count\u001b[0m \u001b[0;34m==\u001b[0m \u001b[0mcount_intersections\u001b[0m\u001b[0;34m(\u001b[0m\u001b[0mstring\u001b[0m\u001b[0;34m)\u001b[0m\u001b[0;34m:\u001b[0m\u001b[0;34m\u001b[0m\u001b[0;34m\u001b[0m\u001b[0m\n\u001b[0m\u001b[1;32m      9\u001b[0m         \u001b[0;32mif\u001b[0m \u001b[0mlen\u001b[0m\u001b[0;34m(\u001b[0m\u001b[0mstring\u001b[0m\u001b[0;34m)\u001b[0m \u001b[0;34m>\u001b[0m \u001b[0mlen\u001b[0m\u001b[0;34m(\u001b[0m\u001b[0mmax_string\u001b[0m\u001b[0;34m)\u001b[0m\u001b[0;34m:\u001b[0m\u001b[0;34m\u001b[0m\u001b[0;34m\u001b[0m\u001b[0m\n\u001b[1;32m     10\u001b[0m             \u001b[0mmax_string\u001b[0m \u001b[0;34m=\u001b[0m \u001b[0mstring\u001b[0m\u001b[0;34m\u001b[0m\u001b[0;34m\u001b[0m\u001b[0m\n",
            "\u001b[0;32m<ipython-input-8-5cd6e58dac33>\u001b[0m in \u001b[0;36mcount_intersections\u001b[0;34m(string)\u001b[0m\n\u001b[1;32m      6\u001b[0m         \u001b[0;31m#print('Target = ', target)\u001b[0m\u001b[0;34m\u001b[0m\u001b[0;34m\u001b[0m\u001b[0;34m\u001b[0m\u001b[0m\n\u001b[1;32m      7\u001b[0m         \u001b[0;31m#print(len(list(mtf.instances.search(target))))\u001b[0m\u001b[0;34m\u001b[0m\u001b[0;34m\u001b[0m\u001b[0;34m\u001b[0m\u001b[0m\n\u001b[0;32m----> 8\u001b[0;31m         \u001b[0;32mif\u001b[0m \u001b[0mlen\u001b[0m\u001b[0;34m(\u001b[0m\u001b[0mlist\u001b[0m\u001b[0;34m(\u001b[0m\u001b[0mmtf\u001b[0m\u001b[0;34m.\u001b[0m\u001b[0minstances\u001b[0m\u001b[0;34m.\u001b[0m\u001b[0msearch\u001b[0m\u001b[0;34m(\u001b[0m\u001b[0mtarget\u001b[0m\u001b[0;34m)\u001b[0m\u001b[0;34m)\u001b[0m\u001b[0;34m)\u001b[0m \u001b[0;34m>\u001b[0m \u001b[0;36m0\u001b[0m\u001b[0;34m:\u001b[0m\u001b[0;34m\u001b[0m\u001b[0;34m\u001b[0m\u001b[0m\n\u001b[0m\u001b[1;32m      9\u001b[0m             \u001b[0mmtf_find\u001b[0m \u001b[0;34m+=\u001b[0m \u001b[0;36m1\u001b[0m\u001b[0;34m\u001b[0m\u001b[0;34m\u001b[0m\u001b[0m\n\u001b[1;32m     10\u001b[0m \u001b[0;34m\u001b[0m\u001b[0m\n",
            "\u001b[0;32m/usr/local/lib/python3.6/dist-packages/Bio/motifs/__init__.py\u001b[0m in \u001b[0;36msearch\u001b[0;34m(self, sequence)\u001b[0m\n\u001b[1;32m    233\u001b[0m         \u001b[0;32mfor\u001b[0m \u001b[0mpos\u001b[0m \u001b[0;32min\u001b[0m \u001b[0mrange\u001b[0m\u001b[0;34m(\u001b[0m\u001b[0;36m0\u001b[0m\u001b[0;34m,\u001b[0m \u001b[0mlen\u001b[0m\u001b[0;34m(\u001b[0m\u001b[0msequence\u001b[0m\u001b[0;34m)\u001b[0m \u001b[0;34m-\u001b[0m \u001b[0mself\u001b[0m\u001b[0;34m.\u001b[0m\u001b[0mlength\u001b[0m \u001b[0;34m+\u001b[0m \u001b[0;36m1\u001b[0m\u001b[0;34m)\u001b[0m\u001b[0;34m:\u001b[0m\u001b[0;34m\u001b[0m\u001b[0;34m\u001b[0m\u001b[0m\n\u001b[1;32m    234\u001b[0m             \u001b[0;32mfor\u001b[0m \u001b[0minstance\u001b[0m \u001b[0;32min\u001b[0m \u001b[0mself\u001b[0m\u001b[0;34m:\u001b[0m\u001b[0;34m\u001b[0m\u001b[0;34m\u001b[0m\u001b[0m\n\u001b[0;32m--> 235\u001b[0;31m                 \u001b[0;32mif\u001b[0m \u001b[0mstr\u001b[0m\u001b[0;34m(\u001b[0m\u001b[0minstance\u001b[0m\u001b[0;34m)\u001b[0m \u001b[0;34m==\u001b[0m \u001b[0mstr\u001b[0m\u001b[0;34m(\u001b[0m\u001b[0msequence\u001b[0m\u001b[0;34m[\u001b[0m\u001b[0mpos\u001b[0m\u001b[0;34m:\u001b[0m\u001b[0mpos\u001b[0m \u001b[0;34m+\u001b[0m \u001b[0mself\u001b[0m\u001b[0;34m.\u001b[0m\u001b[0mlength\u001b[0m\u001b[0;34m]\u001b[0m\u001b[0;34m)\u001b[0m\u001b[0;34m:\u001b[0m\u001b[0;34m\u001b[0m\u001b[0;34m\u001b[0m\u001b[0m\n\u001b[0m\u001b[1;32m    236\u001b[0m                     \u001b[0;32myield\u001b[0m \u001b[0;34m(\u001b[0m\u001b[0mpos\u001b[0m\u001b[0;34m,\u001b[0m \u001b[0minstance\u001b[0m\u001b[0;34m)\u001b[0m\u001b[0;34m\u001b[0m\u001b[0;34m\u001b[0m\u001b[0m\n\u001b[1;32m    237\u001b[0m                     \u001b[0;32mbreak\u001b[0m  \u001b[0;31m# no other instance will fit (we don't want to return multiple hits)\u001b[0m\u001b[0;34m\u001b[0m\u001b[0;34m\u001b[0m\u001b[0m\n",
            "\u001b[0;31mKeyboardInterrupt\u001b[0m: "
          ]
        }
      ]
    },
    {
      "cell_type": "code",
      "metadata": {
        "id": "htVs61pMke4Z",
        "colab_type": "code",
        "outputId": "5a7fa2a7-7a07-4669-eacc-d15d75fd29f3",
        "colab": {
          "base_uri": "https://localhost:8080/",
          "height": 35
        }
      },
      "source": [
        "string"
      ],
      "execution_count": 0,
      "outputs": [
        {
          "output_type": "execute_result",
          "data": {
            "text/plain": [
              "'ACCCGCTGGG'"
            ]
          },
          "metadata": {
            "tags": []
          },
          "execution_count": 22
        }
      ]
    },
    {
      "cell_type": "code",
      "metadata": {
        "id": "y4HWMYe0quEL",
        "colab_type": "code",
        "colab": {}
      },
      "source": [
        "def create_motif(string, ncl, lev):\n",
        "    if len(string) > 100:\n",
        "        sys.exit(\"Too long string\")\n",
        "        \n",
        "    def_string = string + ncl\n",
        "    max_string = string\n",
        "    #print(f'level {lev} current max =  {max_string}')\n",
        "    #print(string, ' add ', ncl)\n",
        "    print('search string: ', def_string)\n",
        "    mtf = motifs.create([Seq(def_string)])\n",
        "    #print ('motif = ', mtf)\n",
        "    mtf_find = 0\n",
        "    mtf_m = 0\n",
        "    for target in target_list:\n",
        "        #trg = Seq(target)\n",
        "        #print('Target = ', target)\n",
        "        #print(len(list(mtf.instances.search(target))))\n",
        "        if len(list(mtf.instances.search(target))) > 0:\n",
        "            mtf_find += 1\n",
        "        else:\n",
        "            mtf_m +=1\n",
        "    if mtf_find == seq_count:\n",
        "        #print(mtf_m, mtf_find, seq_count)\n",
        "        #print('find: ', def_string)\n",
        "        max_string = def_string\n",
        "        #print (f'max string level {lev} find =  {max_string}')\n",
        "        for nucleo in nucleos:\n",
        "            #print('send string:', def_string, ' + ', nucleo)            \n",
        "            get_string = create_motif(def_string, nucleo, lev + 1)\n",
        "            #print ('return to level = ', lev)\n",
        "            #print('get string = ', get_string)\n",
        "            #print(f'compare level {lev} get = {get_string} & max = {max_string}')\n",
        "            if len(max_string) < len(get_string):\n",
        "                max_string = get_string\n",
        "                #print(f'new max level {lev} = {max_string}')\n",
        "        #print('return max = ', max_string)\n",
        "        return max_string\n",
        "            #print('get string', def_string)\n",
        "            #if def_string > max_string:\n",
        "            #    max_string = def_string\n",
        "            ##    print ('set max string = ', max_string)\n",
        "    else:\n",
        "        #print('seq not find')\n",
        "        #print ('return string = ', string )\n",
        "        return string\n",
        "        #if len(string) > len(max_string):\n",
        "        #    max_string = string\n",
        "        #    print ('max string = ', max_string)\n",
        "    #return max_string\n",
        "            "
      ],
      "execution_count": 0,
      "outputs": []
    },
    {
      "cell_type": "code",
      "metadata": {
        "id": "FgO0MfM6m9Z8",
        "colab_type": "code",
        "colab": {}
      },
      "source": [
        "string = ''\n",
        "#local max_string\n",
        "loc_max_string = ''\n",
        "for nucleo in nucleos:\n",
        "    loc_get_string = create_motif(string, nucleo, 1)\n",
        "    if len(loc_max_string) < len(loc_get_string):\n",
        "        loc_max_string = loc_get_string\n",
        "        print('LEVEL 0 max = ',loc_max_string)\n",
        "print ('final max string = ', loc_max_string)"
      ],
      "execution_count": 0,
      "outputs": []
    },
    {
      "cell_type": "code",
      "metadata": {
        "id": "B3TYYpwcKwl1",
        "colab_type": "code",
        "outputId": "9bfaedc8-6bbd-4e4c-fd58-70f1fff2a763",
        "colab": {
          "base_uri": "https://localhost:8080/",
          "height": 35
        }
      },
      "source": [
        "target_list[0]"
      ],
      "execution_count": 0,
      "outputs": [
        {
          "output_type": "execute_result",
          "data": {
            "text/plain": [
              "Seq('AAGCAGCTGACGATACTCAGATTCTAATGAAAATCTAGGCAGCGCAAGAACTAT...GAC', SingleLetterAlphabet())"
            ]
          },
          "metadata": {
            "tags": []
          },
          "execution_count": 27
        }
      ]
    },
    {
      "cell_type": "code",
      "metadata": {
        "id": "YjbN2GdCm7j-",
        "colab_type": "code",
        "colab": {}
      },
      "source": [
        "#f = 'GATATATGCATATACTT'\n",
        "p = 'AAAAGACTCCAAGAGTGTTCCCGTCAGCCAGCAGTCACGAGATCGAGTTGTCTACCATGGGGCTCAGTAGGCCAAGGCCGATAACATCGTCCCAATTGCAA'\n",
        "for i in range(len(target_list)):\n",
        "    target_seq = target_list[i]\n",
        "    print(len(target_seq))\n",
        "    m = motifs.create([Seq(p)])\n",
        "    for pos,seq in m.instances.search(target_seq):\n",
        "        print(str(pos+1),end = ' ')"
      ],
      "execution_count": 0,
      "outputs": []
    },
    {
      "cell_type": "code",
      "metadata": {
        "id": "2AHthSYzkPBw",
        "colab_type": "code",
        "colab": {}
      },
      "source": [
        "%timeit sum(1 for i in m.instances.search(target_seq))"
      ],
      "execution_count": 0,
      "outputs": []
    },
    {
      "cell_type": "code",
      "metadata": {
        "id": "hx3pgqIJnyQ6",
        "colab_type": "code",
        "colab": {}
      },
      "source": [
        "%timeit len(list(m.instances.search(target_seq)))"
      ],
      "execution_count": 0,
      "outputs": []
    },
    {
      "cell_type": "code",
      "metadata": {
        "id": "1K8INoW3pKh9",
        "colab_type": "code",
        "colab": {}
      },
      "source": [
        "%timeit len([*m.instances.search(target_seq)])"
      ],
      "execution_count": 0,
      "outputs": []
    }
  ]
}