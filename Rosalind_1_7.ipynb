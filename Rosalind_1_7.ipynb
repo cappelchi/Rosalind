{
  "nbformat": 4,
  "nbformat_minor": 0,
  "metadata": {
    "colab": {
      "name": "Rosalind 1_7.ipynb",
      "provenance": [],
      "collapsed_sections": [],
      "include_colab_link": true
    },
    "kernelspec": {
      "name": "python3",
      "display_name": "Python 3"
    }
  },
  "cells": [
    {
      "cell_type": "markdown",
      "metadata": {
        "id": "view-in-github",
        "colab_type": "text"
      },
      "source": [
        "<a href=\"https://colab.research.google.com/github/cappelchi/Rosalind/blob/master/Rosalind_1_7.ipynb\" target=\"_parent\"><img src=\"https://colab.research.google.com/assets/colab-badge.svg\" alt=\"Open In Colab\"/></a>"
      ]
    },
    {
      "cell_type": "code",
      "metadata": {
        "id": "eZhcl-vQlM-R",
        "colab_type": "code",
        "outputId": "e5e1fef8-b8b9-4eb7-b92e-a004b111b273",
        "colab": {
          "base_uri": "https://localhost:8080/",
          "height": 34
        }
      },
      "source": [
        "!ls"
      ],
      "execution_count": 0,
      "outputs": [
        {
          "output_type": "stream",
          "text": [
            "rosalind_hamm.txt  sample_data\n"
          ],
          "name": "stdout"
        }
      ]
    },
    {
      "cell_type": "code",
      "metadata": {
        "id": "KeJ2AJPPscn4",
        "colab_type": "code",
        "outputId": "2217332a-3948-4d91-a734-114ac489a66d",
        "colab": {
          "base_uri": "https://localhost:8080/",
          "height": 52
        }
      },
      "source": [
        "import sys\n",
        "print(sys.version)\n",
        "import numpy as np"
      ],
      "execution_count": 0,
      "outputs": [
        {
          "output_type": "stream",
          "text": [
            "3.6.8 (default, Jan 14 2019, 11:02:34) \n",
            "[GCC 8.0.1 20180414 (experimental) [trunk revision 259383]]\n"
          ],
          "name": "stdout"
        }
      ]
    },
    {
      "cell_type": "code",
      "metadata": {
        "id": "FoNo_Qo0ljCU",
        "colab_type": "code",
        "colab": {}
      },
      "source": [
        "task_num = 5"
      ],
      "execution_count": 0,
      "outputs": []
    },
    {
      "cell_type": "code",
      "metadata": {
        "id": "aOD-nHRnjevg",
        "colab_type": "code",
        "outputId": "e0751ff5-ae62-4237-9c61-4d2d3d7a8618",
        "colab": {
          "base_uri": "https://localhost:8080/",
          "height": 125
        }
      },
      "source": [
        "rosalind_file = 'rosalind_hamm.txt'\n",
        "with open(rosalind_file, 'r') as task:\n",
        "    for line_number, line in enumerate(task, 1):\n",
        "        string = line\n",
        "        print(line)\n",
        "string_number = line_number\n",
        "print (string_number)\n",
        "    "
      ],
      "execution_count": 0,
      "outputs": [
        {
          "output_type": "stream",
          "text": [
            "CGAAGACTTTCGTGCCCAAGGTAAATCATCTGCTTGACGGTTTTTGGTATAGTCCTGTCGGACTCTGCACCTGTCGTGATCCTAGTGTGCTGTAGCTGGCTTCCCTTTTAGACGCCGAAATGACACTCGAAACTCGCTTTTAAGACGCAGGCTTTGTTCGGGCCAAAGCGTCTTCGTTGAGTACCCGCCGGACGGATATATGAGTTCCTATTGATTCCCTTTCTGATAGTACACGGTACCTTTCCGATCTTATTTGTTACCATAGTTCGACTCTAAAGAAATGGCCCTCCTAGCACGGCCAAGGCTGGAGCTCAGTCCACGTTTTACCGGTCCTCGCATGATTTCGTACCCACCCCAATTTGAAGCTGTATCTGAGAAAGTGTTTCCTTTTTTTCGCGAGGCCATTAGGTGGCAGGGCCCACAATTGTTGTTTGCACTCGCTCTCACCCCAACCTCGAGTAGCTGTTCGACGGTTGTTTAATATCAGACTCCATCAGCTTGGTTATAGTCCACAATTCTCTAAGACAGCTTTTAAGGATGCCAAATAAGGCCAGGTCAAGGAGTCCAACACAGCTACCCCAGCTGTTGGTCCTATTCATGAAGACGGGCCCCCTTAAATCGCTCGGATGCCGGACCTATCGAGATTGTGAGGTTTGAGATATGGCGTTTTGGACCGTGTCCAGTGTACCAAGTGGCATACTCTAGGCATCAGATCTGCAGGTCACACACATTGGTGGTGAGCCGGCGCTTCGCCACTGATTCTCGGGCTTGTGTTCCCAGTAGCTCACTTTAGGGCTAAATAGGGACGACAAGAAGACTCGCTCTTTACCGATAAACGTGTTTAGCCAACCATGCCAGATTTACCATAAAGCTGGGTAACTTACGGGGAGCTAAGTGTATATTGCACTTCTCCCAAGTACTACGTGCGAGGCTCGGATTTTGGTTCAATGGACTGCGCCG\n",
            "\n",
            "CGTACGCACTCGCGTCCCCGGGTCATCATACGTATTACACGTACCGACATATTTCTTTCGGCACGTGCTTCCTTTACTATTCCATGGTGCAGCCGCTAGGTGCATCCCTCGAGCTTAAAATCGAACTCGACGTCCTTTTTGAAAGTATAGGCTGTATTATGGGTCAACAGTGTCCCTAGAATGCCGGCTGCCCGACTCAAAAGCATCATATAGAGCTCAAGTCAGAAGTTGCTCGGTACCTTCACTGTGTTACTAGTTGCCTTGGTTTGATACCGTAGTAGCGGTCCGCCTAGCACGTCAAACGTCAGACAGTTTTATTAGGCTGACCGGGGCTAGGAACGATGCGTGCCAATCTCAATCCAATACCGCATCTGGTTAGCTTTTTGCTATGTCTGGCTACGCCACTACAAGGCCGTGTTAAGAAGATTATTGTGAAGCAACCAGAAACCCTAATTAAAGTTAAACTCGGAACGTAATCCAATTACGGGTTCGATCAGCCTTTTTGCAGATCCGTAGCTTTGAGAACCGTTAGACTGGAGGATCAACCACACCAGGGCACGGGTTACCACTAAAATACTCATCCTGATCCTCCGAATCGCGAGGACTCGCACAATTGAACCGCTAGGACTTGCGGGCCACCGATCTACTCTAGTTGGAGACATCGGCATAAGAAGAGGGTACCGGGAGTTGAGTGCGACAATGCACGAAGCACAACTTACGCTCACACACATCGGTGGAGAGCTGGCGAGTCGTGTGCGCTGCTCCGGCCTGAAGTCTCGCCACCTCACTGGTTGGTTATATATGACCGTCAAGGGAACTCGATGTAATACCAGAAACGGGCTTAGAGCCAGTTAACGCATGTACGATAATGTTTGCACAACATTCGGGTACGATATGCGGATAACCTCTCGCCAAAGTAATAGCTGTTTGGGTGCTCTAGGGTTTCTGTTAACATCACCC\n",
            "\n",
            "2\n"
          ],
          "name": "stdout"
        }
      ]
    },
    {
      "cell_type": "markdown",
      "metadata": {
        "id": "2KXXcAUplWOL",
        "colab_type": "text"
      },
      "source": [
        "####Task 1"
      ]
    },
    {
      "cell_type": "markdown",
      "metadata": {
        "id": "irkmKpYsZ7Xb",
        "colab_type": "text"
      },
      "source": [
        "**Problem:**\n",
        "A string is simply an ordered collection of symbols selected from some alphabet and formed into a word; the length of a string is the number of symbols that it contains.\n",
        "\n",
        "An example of a length 21 DNA string (whose alphabet contains the symbols 'A', 'C', 'G', and 'T') is \"ATGCTTCAGAAAGGTCTTACG.\"\n",
        "\n",
        "Given: A DNA string s of length at most 1000 nt.\n",
        "\n",
        "Return: Four integers (separated by spaces) counting the respective number of times that the symbols 'A', 'C', 'G', and 'T' occur in s."
      ]
    },
    {
      "cell_type": "code",
      "metadata": {
        "id": "4rsXR_thikPJ",
        "colab_type": "code",
        "colab": {}
      },
      "source": [
        "def count_alpha(alpha, dna_string):\n",
        "    return len(dna_string), dna_string.count(alpha)\n",
        "if task_num == 1:\n",
        "    #string = 'AGCTTTTCATTCTGACTGCAACGGGCAATATGTCTCTGTGTGGATTAAAAAAAGAGTGTCTGATAGCAGC'\n",
        "    nucleobases = ['A', 'C', 'G', 'T']\n",
        "    for nucleobase in nucleobases:\n",
        "        basecount = string.count(nucleobase)\n",
        "        print(basecount)\n"
      ],
      "execution_count": 0,
      "outputs": []
    },
    {
      "cell_type": "markdown",
      "metadata": {
        "id": "T796hRgMlt1F",
        "colab_type": "text"
      },
      "source": [
        "####Task 2"
      ]
    },
    {
      "cell_type": "markdown",
      "metadata": {
        "id": "LCTU1OHIaQXi",
        "colab_type": "text"
      },
      "source": [
        "**Problem**\n",
        "An RNA string is a string formed from the alphabet containing 'A', 'C', 'G', and 'U'.\n",
        "\n",
        "Given a DNA string t corresponding to a coding strand, its transcribed RNA string u is formed by replacing all occurrences of 'T' in t with 'U' in u.\n",
        "\n",
        "Given: A DNA string t having length at most 1000 nt.\n",
        "\n",
        "Return: The transcribed RNA string of t."
      ]
    },
    {
      "cell_type": "code",
      "metadata": {
        "id": "6fckUoYHrc5D",
        "colab_type": "code",
        "outputId": "16046853-99be-4de5-b9a2-3b92ebb87890",
        "colab": {
          "base_uri": "https://localhost:8080/",
          "height": 54
        }
      },
      "source": [
        "if task_num == 2:\n",
        "    string.replace('T', 'U')"
      ],
      "execution_count": 0,
      "outputs": [
        {
          "output_type": "execute_result",
          "data": {
            "text/plain": [
              "'CAAACUAAGGAAACCUAAGUCGCGCCGAUUAAGUGUCGCAAAGCUUGCUCUUGCCCAUCCAGACAUACCCAGAGCUCGACGCGCCGCGAGGAUCCAUGGUGCCACGUACUCCAAAGAAAAAGAGAAGGGCCGUUACCAAAGGUAUACGAUGCAAAGGUCCGGACUCUGACAAAAGGUGUGGGGACUCUCAACAAUUGGAGCUCCCUUGGGUUUCCACCACCAUCUCGUGGGGACUCUCUGAUCCCAGCGGGUAAAAAACGUAUAGGCGUGUAAUUGUCGCCUGGCACGUCGGAGCCUAAACGUUGAUCCGUCUUAUGAGAUACUUAACCUUGCUGUGAGGCUGAUCUAUAACCGAAGCUCUGAGUUGAACCAUUAGUCUUUAUAAGUCUUAAAAGAUCUCAGUACUACUUUAACAAGACAAUGGUCCUGGAAGUCGGCCCAUACAGUCCUCCCGUAGCUAUAAAAGUCGAGAGUGAGAGGGGGCUCAGGUUUCGUGCCCUGACCACGUUCGUUAUAGGAGGUGAAGUCUCCCCAGGCUUUAUACUUUCAUCUUACGGGAGCUUUUCGACAGGCCAUAUGCGUGGGGGGGAACUCCGCCGCGGAUAACGAUGAAGCCAGUCGGUGCUGACUACGGGCUGUGAGGAGGACUUAGUCAGAGGGAUUAAGUUCCCGUAAGUUUCUCAGUAUCUCCCGAUGCAACGGUACACAUGUCACACGACCACACCACCCAACCGAUAGAUCUUGUCUUCUACGCCCUGGCUUUGAUCAGGCAUCGGUCCCUGGGCAACUCCUUAGGUUGAUGGGAAUAUGCACGGUCGCUAGGAUGCCUACUGUAUGUGUUGUAUUGCGCCGCGAAGCCAGUGACUGUUGAACUGAGCAAUUUAUAUCUGCAUCCUUCGUGGAUCACAACGGGCUUAGCCCGGGACUAACCUUCCUCCGUGGACUGUACAUCACAAGUACUGAACUAAUAAAUCUACUGUCCUUCGGAGCA\\n'"
            ]
          },
          "metadata": {
            "tags": []
          },
          "execution_count": 3
        }
      ]
    },
    {
      "cell_type": "markdown",
      "metadata": {
        "id": "0eqlTnHI7fJm",
        "colab_type": "text"
      },
      "source": [
        "####Task 3"
      ]
    },
    {
      "cell_type": "markdown",
      "metadata": {
        "id": "rziOaM0fagdF",
        "colab_type": "text"
      },
      "source": [
        "**Problem**\n",
        "In DNA strings, symbols 'A' and 'T' are complements of each other, as are 'C' and 'G'.\n",
        "\n",
        "The reverse complement of a DNA string s is the string sc formed by reversing the symbols of s, then taking the complement of each symbol (e.g., the reverse complement of \"GTCA\" is \"TGAC\").\n",
        "\n",
        "Given: A DNA string s of length at most 1000 bp.\n",
        "\n",
        "Return: The reverse complement sc of s."
      ]
    },
    {
      "cell_type": "code",
      "metadata": {
        "id": "zTPnUitlrmCZ",
        "colab_type": "code",
        "outputId": "188eb63f-6071-487d-d2ab-be647195e81a",
        "colab": {
          "base_uri": "https://localhost:8080/",
          "height": 54
        }
      },
      "source": [
        "if task_num == 3:\n",
        "    #string = 'AGCTTTTCATTCTGACTGCAACGGGCAATATGTCTCTGTGTGGATTAAAAAAAGAGTGTCTGATAGCAGC'\n",
        "    string = string.strip('\\n')\n",
        "    replacements = {'A': 'T', 'G': 'C', 'T':'A', 'C':'G'}\n",
        "    string = string[::-1]\n",
        "    rev_string = ''\n",
        "    for alpha in string:\n",
        "        rev_string = rev_string + replacements[alpha]\n",
        "    print (rev_string)    \n",
        "    \n",
        "    #st = st.replace('A', 't').replace('T', 'a').replace('C', 'g').replace('G', 'c').upper()[::-1]"
      ],
      "execution_count": 0,
      "outputs": [
        {
          "output_type": "stream",
          "text": [
            "GGCGAGCATGAGCGGTACGGTGACGGATTCATCTACGTGACAATTCCGCAGTTTATTGGCGACACTCATGATGGGCTTATGGCCCGGCATTAATTCAGATGTTTATAGTCCACATAAGAATTTCTTGTTCCGACAAATCCGATAAAAATATTGTCGGCTGGTTTAGTTGGGTTCCCTTATGATGCTTGGGTTGTGTTTCTGGGGCCATGCTGCTCCACCGCGGCGCCGGCCAATGACGATTTTATTGGGGCCCAGTGGTGTACTCTAAGAATTGCGGCCCCCCCCTTATGCCGCAACCGGTGGCACCCACCGTATTTTGATGAGGTCAAGCTGCGCGGCTCCGTGAGACACCACCAACTAACACTCAGCTTCTTGTTATTTGTCCCCCCGGTCCTACTACGTCTATCCCATGTAATAAGTACGGGATTTCGTTCTCCGAAGTGGCCAAACCCTAAATGGCCATGCGTCAGCTTGCGCGGTCGCACTAAGCAGGTACCGAAAGGAGCTGACCGGTTTAGCCCCTCGATACTTCAAGTCTGACTCGAGATTGGTGGTCCGTGAAAGCGAGCCATTGCTCCGTTTAGCTTGTGATAGCAGGGTGAATCTGCGCTCTGCTGTGACCTTTGGCATTAGTAGTGGTTCGAGGCTCTCTCACATCCTGAACTTTGGTGAAATCAGCGAAAAGTTCCCTCCGGATCCCGTAGCCCCTATATTATAACGGCACGCCAGCGCAAGTAATAGCCAAAGCGTCTAGCTATTTCATCTATGCTCAATTTGCGGAGACGTCTATTGGAGTAAGCTACATACGTTAAATCG\n"
          ],
          "name": "stdout"
        }
      ]
    },
    {
      "cell_type": "markdown",
      "metadata": {
        "id": "nNd6_VwN7ig7",
        "colab_type": "text"
      },
      "source": [
        "####Task 4"
      ]
    },
    {
      "cell_type": "markdown",
      "metadata": {
        "id": "ByGFU3oYasyH",
        "colab_type": "text"
      },
      "source": [
        "**Problem**\n",
        "A sequence is an ordered collection of objects (usually numbers), which are allowed to repeat. Sequences can be finite or infinite. Two examples are the finite sequence (π,−2–√,0,π) and the infinite sequence of odd numbers (1,3,5,7,9,…). We use the notation an to represent the n-th term of a sequence.\n",
        "\n",
        "A recurrence relation is a way of defining the terms of a sequence with respect to the values of previous terms. In the case of Fibonacci's rabbits from the introduction, any given month will contain the rabbits that were alive the previous month, plus any new offspring. A key observation is that the number of offspring in any month is equal to the number of rabbits that were alive two months prior. As a result, if Fn represents the number of rabbit pairs alive after the n-th month, then we obtain the Fibonacci sequence having terms Fn that are defined by the recurrence relation Fn=Fn−1+Fn−2 (with F1=F2=1 to initiate the sequence). Although the sequence bears Fibonacci's name, it was known to Indian mathematicians over two millennia ago.\n",
        "\n",
        "When finding the n-th term of a sequence defined by a recurrence relation, we can simply use the recurrence relation to generate terms for progressively larger values of n. This problem introduces us to the computational technique of dynamic programming, which successively builds up solutions by using the answers to smaller cases.\n",
        "\n",
        "Given: Positive integers n≤40 and k≤5.\n",
        "\n",
        "Return: The total number of rabbit pairs that will be present after n months, if we begin with 1 pair and in each generation, every pair of reproduction-age rabbits produces a litter of k rabbit pairs (instead of only 1 pair)."
      ]
    },
    {
      "cell_type": "code",
      "metadata": {
        "id": "8Ck5-IWR7dfO",
        "colab_type": "code",
        "colab": {}
      },
      "source": [
        "if task_num == 4:\n",
        "    n = 34\n",
        "    k = 3\n",
        "    popul, pop_gen_1, pop_gen_2 = 1, 1, 0 \n",
        "    for i in range (2, n + 1):\n",
        "        popul = popul + pop_gen_2 * k\n",
        "        pop_gen_2 = pop_gen_1\n",
        "        pop_gen_1 = popul\n",
        "        print (i, ' - ', pop_gen_2, popul)\n",
        "    print (popul)"
      ],
      "execution_count": 0,
      "outputs": []
    },
    {
      "cell_type": "markdown",
      "metadata": {
        "id": "280QWkGzy6Vc",
        "colab_type": "text"
      },
      "source": [
        "####Task 5\n"
      ]
    },
    {
      "cell_type": "markdown",
      "metadata": {
        "id": "LuzY0jfXbON8",
        "colab_type": "text"
      },
      "source": [
        "**Problem**\n",
        "The GC-content of a DNA string is given by the percentage of symbols in the string that are 'C' or 'G'. For example, the GC-content of \"AGCTATAG\" is 37.5%. Note that the reverse complement of any DNA string has the same GC-content.\n",
        "\n",
        "DNA strings must be labeled when they are consolidated into a database. A commonly used method of string labeling is called FASTA format. In this format, the string is introduced by a line that begins with '>', followed by some labeling information. Subsequent lines contain the string itself; the first line to begin with '>' indicates the label of the next string.\n",
        "\n",
        "In Rosalind's implementation, a string in FASTA format will be labeled by the ID \"Rosalind_xxxx\", where \"xxxx\" denotes a four-digit code between 0000 and 9999.\n",
        "\n",
        "Given: At most 10 DNA strings in FASTA format (of length at most 1 kbp each).\n",
        "\n",
        "Return: The ID of the string having the highest GC-content, followed by the GC-content of that string. Rosalind allows for a default error of 0.001 in all decimal answers unless otherwise stated; please see the note on absolute error below."
      ]
    },
    {
      "cell_type": "code",
      "metadata": {
        "id": "2J6cpWNjy8IH",
        "colab_type": "code",
        "colab": {}
      },
      "source": [
        "if task_num == 5:\n",
        "    dna_gene = ''\n",
        "    dna_list = []\n",
        "    cgmax = 0\n",
        "    cgname = ''\n",
        "    reading = False\n",
        "    with open(rosalind_file, 'r') as task:        \n",
        "        for line in task:\n",
        "            if (line[0] == '>') & (not reading):\n",
        "                dna_string = line[1:]\n",
        "                print(dna_string)\n",
        "                reading = True\n",
        "            elif (line[0] == '>') & reading:\n",
        "                _, cc = count_alpha('C', dna_gene)\n",
        "                _, cg = count_alpha('G', dna_gene)\n",
        "                _, ca = count_alpha('A', dna_gene)\n",
        "                _, ct = count_alpha('T', dna_gene)\n",
        "                if (cc + cg) / (cc + cg + ca + ct) > cgmax:\n",
        "                    cgmax = (cc + cg) / (cc + cg + ca + ct)\n",
        "                    cgname = dna_string            \n",
        "                print((cc + cg) / (cc + cg + ca + ct))\n",
        "                dna_gene = ''\n",
        "                dna_string = line[1:]\n",
        "                print(dna_string)\n",
        "            else:\n",
        "                dna_gene = dna_gene + line\n",
        "    _, cc = count_alpha('C', dna_gene)\n",
        "    _, cg = count_alpha('G', dna_gene)\n",
        "    _, ca = count_alpha('A', dna_gene)\n",
        "    _, ct = count_alpha('T', dna_gene)\n",
        "    print((cc + cg) / (cc + cg + ca + ct))\n",
        "    if (cc + cg) / (cc + cg + ca + ct) > cgmax:\n",
        "        cgmax = (cc + cg) / (cc + cg + ca + ct) \n",
        "        cgname = dna_string\n",
        "    print ('in ', cgname, ' = ', cgmax)\n",
        "'''\n",
        "from Bio import SeqIO\n",
        "from Bio.SeqUtils import GC\n",
        "GCcont = 0\n",
        "GCname = \"\"\n",
        "file = open(\"rosalind_GC.txt\", \"r\")\n",
        "for record in SeqIO.parse(file, \"fasta\"):\n",
        "    if GCcont < GC(record.seq):\n",
        "        GCcont = GC(record.seq)\n",
        "        GCname = record.id\n",
        "\n",
        "print GCname\n",
        "print round(GCcont,2), \"%\"\n",
        "'''"
      ],
      "execution_count": 0,
      "outputs": []
    },
    {
      "cell_type": "markdown",
      "metadata": {
        "id": "QkVX7sUMrlbC",
        "colab_type": "text"
      },
      "source": [
        "####Task 6"
      ]
    },
    {
      "cell_type": "markdown",
      "metadata": {
        "id": "tQrjR6mlbY8O",
        "colab_type": "text"
      },
      "source": [
        "**Problem**\n",
        "Figure 2. The Hamming distance between these two strings is 7. Mismatched symbols are colored red.\n",
        "Given two strings s and t of equal length, the Hamming distance between s and t, denoted dH(s,t), is the number of corresponding symbols that differ in s and t. See Figure 2.\n",
        "\n",
        "Given: Two DNA strings s and t of equal length (not exceeding 1 kbp).\n",
        "\n",
        "Return: The Hamming distance dH(s,t)."
      ]
    },
    {
      "cell_type": "code",
      "metadata": {
        "id": "7v8I1Wa7rmh8",
        "colab_type": "code",
        "outputId": "a2ca0ded-444b-4868-eb83-f2b2b9f94b11",
        "colab": {
          "base_uri": "https://localhost:8080/",
          "height": 34
        }
      },
      "source": [
        "seq_list = []\n",
        "with open(rosalind_file, 'r') as task:\n",
        "    for line in task:\n",
        "        seq_list.append(line)\n",
        "seq1 = seq_list[0]\n",
        "seq2 = seq_list[1]\n",
        "def hamdist(str1, str2):\n",
        "   #\"\"\"Count the # of differences between equal length strings str1 and str2\"\"\"\n",
        "        \n",
        "    diffs = 0\n",
        "    for ch1, ch2 in zip(str1, str2):\n",
        "            if ch1 != ch2:\n",
        "                    diffs += 1\n",
        "    return diffs\n",
        "print (hamdist(seq1, seq2))"
      ],
      "execution_count": 0,
      "outputs": [
        {
          "output_type": "stream",
          "text": [
            "462\n"
          ],
          "name": "stdout"
        }
      ]
    },
    {
      "cell_type": "markdown",
      "metadata": {
        "id": "zoJ8xwPeuLq5",
        "colab_type": "text"
      },
      "source": [
        "####Task 7"
      ]
    },
    {
      "cell_type": "markdown",
      "metadata": {
        "id": "xr9CwNU-b4aH",
        "colab_type": "text"
      },
      "source": [
        "![Problem](http://rosalind.info/media/problems/iprb/balls_tree.thumb.png)\n",
        "Figure 2. The probability of any outcome (leaf) in a probability tree diagram is given by the product of probabilities from the start of the tree to the outcome. For example, the probability that X is blue and Y is blue is equal to (2/5)(1/4), or 1/10.\n",
        "Probability is the mathematical study of randomly occurring phenomena. We will model such a phenomenon with a random variable, which is simply a variable that can take a number of different distinct outcomes depending on the result of an underlying random process.\n",
        "\n",
        "For example, say that we have a bag containing 3 red balls and 2 blue balls. If we let X represent the random variable corresponding to the color of a drawn ball, then the probability of each of the two outcomes is given by Pr(X=red)=35 and Pr(X=blue)=25.\n",
        "\n",
        "Random variables can be combined to yield new random variables. Returning to the ball example, let Y model the color of a second ball drawn from the bag (without replacing the first ball). The probability of Y being red depends on whether the first ball was red or blue. To represent all outcomes of X and Y, we therefore use a probability tree diagram. This branching diagram represents all possible individual probabilities for X and Y, with outcomes at the endpoints (\"leaves\") of the tree. The probability of any outcome is given by the product of probabilities along the path from the beginning of the tree; see Figure 2 for an illustrative example.\n",
        "\n",
        "An event is simply a collection of outcomes. Because outcomes are distinct, the probability of an event can be written as the sum of the probabilities of its constituent outcomes. For our colored ball example, let A be the event \"Y is blue.\" Pr(A) is equal to the sum of the probabilities of two different outcomes: Pr(X=blue and Y=blue)+Pr(X=red and Y=blue), or 310+110=25 (see Figure 2 above).\n",
        "\n",
        "Given: Three positive integers k, m, and n, representing a population containing k+m+n organisms: k individuals are homozygous dominant for a factor, m are heterozygous, and n are homozygous recessive.\n",
        "\n",
        "Return: The probability that two randomly selected mating organisms will produce an individual possessing a dominant allele (and thus displaying the dominant phenotype). Assume that any two organisms can mate.\n"
      ]
    },
    {
      "cell_type": "code",
      "metadata": {
        "id": "Jqx7WVtTuMyu",
        "colab_type": "code",
        "outputId": "0e79b78a-cc43-4e02-ceb0-c63a041191fe",
        "colab": {
          "base_uri": "https://localhost:8080/",
          "height": 34
        }
      },
      "source": [
        "homo_dom = 16\n",
        "hetero = 21\n",
        "homo_rec = 20\n",
        "\n",
        "allx = (homo_dom + homo_rec + hetero) * (homo_dom + homo_rec + hetero - 1)\n",
        "prob_dom = 1- (0.25 * hetero * (hetero -1) + hetero * homo_rec + homo_rec * (homo_rec- 1)) / allx\n",
        "print ('dominant allele probability = ', prob_dom)"
      ],
      "execution_count": 0,
      "outputs": [
        {
          "output_type": "stream",
          "text": [
            "dominant allele probability =  0.7164786967418546\n"
          ],
          "name": "stdout"
        }
      ]
    }
  ]
}