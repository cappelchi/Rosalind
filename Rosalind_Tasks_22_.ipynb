{
  "nbformat": 4,
  "nbformat_minor": 0,
  "metadata": {
    "colab": {
      "name": "Rosalind Tasks 22_.ipynb",
      "provenance": [],
      "collapsed_sections": [],
      "include_colab_link": true
    },
    "kernelspec": {
      "name": "python3",
      "display_name": "Python 3"
    }
  },
  "cells": [
    {
      "cell_type": "markdown",
      "metadata": {
        "id": "view-in-github",
        "colab_type": "text"
      },
      "source": [
        "<a href=\"https://colab.research.google.com/github/cappelchi/Rosalind/blob/master/Rosalind_Tasks_22_.ipynb\" target=\"_parent\"><img src=\"https://colab.research.google.com/assets/colab-badge.svg\" alt=\"Open In Colab\"/></a>"
      ]
    },
    {
      "cell_type": "markdown",
      "metadata": {
        "id": "twdrONWj0HoM",
        "colab_type": "text"
      },
      "source": [
        "https://www.tutorialspoint.com/biopython/biopython_quick_guide.htm"
      ]
    },
    {
      "cell_type": "code",
      "metadata": {
        "id": "BzkNUShQz-Mj",
        "colab_type": "code",
        "outputId": "1e658b02-816b-43e0-f7ad-11f494d8efa1",
        "colab": {
          "base_uri": "https://localhost:8080/",
          "height": 176
        }
      },
      "source": [
        "!pip install biopython\n",
        "import sys\n",
        "print(sys.version)\n",
        "import numpy as np\n",
        "import pandas as pd\n",
        "\n",
        "from Bio.SeqIO import parse \n",
        "from Bio.SeqRecord import SeqRecord \n",
        "from Bio.Seq import Seq \n",
        "from Bio.Alphabet import single_letter_alphabet \n",
        "from Bio.Alphabet import generic_protein \n",
        "from Bio.Alphabet import generic_nucleotide \n",
        "from Bio.Alphabet import generic_dna \n",
        "from Bio.Alphabet import generic_rna\n",
        "from Bio.Alphabet import IUPAC \n",
        "from Bio.Data import IUPACData \n",
        "from Bio.SeqUtils import GC \n",
        "from Bio.Seq import transcribe\n",
        "from Bio.Seq import translate\n",
        "from Bio import pairwise2\n",
        "from Bio import motifs \n",
        "from Bio import SeqIO\n",
        "from Bio import ExPASy\n",
        "from Bio.Data import CodonTable\n",
        "import operator as op\n",
        "from functools import reduce"
      ],
      "execution_count": 0,
      "outputs": [
        {
          "output_type": "stream",
          "text": [
            "Collecting biopython\n",
            "\u001b[?25l  Downloading https://files.pythonhosted.org/packages/ed/77/de3ba8f3d3015455f5df859c082729198ee6732deaeb4b87b9cfbfbaafe3/biopython-1.74-cp36-cp36m-manylinux1_x86_64.whl (2.2MB)\n",
            "\r\u001b[K     |▏                               | 10kB 14.8MB/s eta 0:00:01\r\u001b[K     |▎                               | 20kB 3.2MB/s eta 0:00:01\r\u001b[K     |▌                               | 30kB 4.6MB/s eta 0:00:01\r\u001b[K     |▋                               | 40kB 3.0MB/s eta 0:00:01\r\u001b[K     |▊                               | 51kB 3.7MB/s eta 0:00:01\r\u001b[K     |█                               | 61kB 4.4MB/s eta 0:00:01\r\u001b[K     |█                               | 71kB 5.1MB/s eta 0:00:01\r\u001b[K     |█▏                              | 81kB 5.7MB/s eta 0:00:01\r\u001b[K     |█▍                              | 92kB 6.4MB/s eta 0:00:01\r\u001b[K     |█▌                              | 102kB 4.9MB/s eta 0:00:01\r\u001b[K     |█▋                              | 112kB 4.9MB/s eta 0:00:01\r\u001b[K     |█▉                              | 122kB 4.9MB/s eta 0:00:01\r\u001b[K     |██                              | 133kB 4.9MB/s eta 0:00:01\r\u001b[K     |██                              | 143kB 4.9MB/s eta 0:00:01\r\u001b[K     |██▎                             | 153kB 4.9MB/s eta 0:00:01\r\u001b[K     |██▍                             | 163kB 4.9MB/s eta 0:00:01\r\u001b[K     |██▌                             | 174kB 4.9MB/s eta 0:00:01\r\u001b[K     |██▊                             | 184kB 4.9MB/s eta 0:00:01\r\u001b[K     |██▉                             | 194kB 4.9MB/s eta 0:00:01\r\u001b[K     |███                             | 204kB 4.9MB/s eta 0:00:01\r\u001b[K     |███▏                            | 215kB 4.9MB/s eta 0:00:01\r\u001b[K     |███▎                            | 225kB 4.9MB/s eta 0:00:01\r\u001b[K     |███▍                            | 235kB 4.9MB/s eta 0:00:01\r\u001b[K     |███▋                            | 245kB 4.9MB/s eta 0:00:01\r\u001b[K     |███▊                            | 256kB 4.9MB/s eta 0:00:01\r\u001b[K     |███▉                            | 266kB 4.9MB/s eta 0:00:01\r\u001b[K     |████                            | 276kB 4.9MB/s eta 0:00:01\r\u001b[K     |████▏                           | 286kB 4.9MB/s eta 0:00:01\r\u001b[K     |████▎                           | 296kB 4.9MB/s eta 0:00:01\r\u001b[K     |████▌                           | 307kB 4.9MB/s eta 0:00:01\r\u001b[K     |████▋                           | 317kB 4.9MB/s eta 0:00:01\r\u001b[K     |████▉                           | 327kB 4.9MB/s eta 0:00:01\r\u001b[K     |█████                           | 337kB 4.9MB/s eta 0:00:01\r\u001b[K     |█████                           | 348kB 4.9MB/s eta 0:00:01\r\u001b[K     |█████▎                          | 358kB 4.9MB/s eta 0:00:01\r\u001b[K     |█████▍                          | 368kB 4.9MB/s eta 0:00:01\r\u001b[K     |█████▌                          | 378kB 4.9MB/s eta 0:00:01\r\u001b[K     |█████▊                          | 389kB 4.9MB/s eta 0:00:01\r\u001b[K     |█████▉                          | 399kB 4.9MB/s eta 0:00:01\r\u001b[K     |██████                          | 409kB 4.9MB/s eta 0:00:01\r\u001b[K     |██████▏                         | 419kB 4.9MB/s eta 0:00:01\r\u001b[K     |██████▎                         | 430kB 4.9MB/s eta 0:00:01\r\u001b[K     |██████▍                         | 440kB 4.9MB/s eta 0:00:01\r\u001b[K     |██████▋                         | 450kB 4.9MB/s eta 0:00:01\r\u001b[K     |██████▊                         | 460kB 4.9MB/s eta 0:00:01\r\u001b[K     |██████▉                         | 471kB 4.9MB/s eta 0:00:01\r\u001b[K     |███████                         | 481kB 4.9MB/s eta 0:00:01\r\u001b[K     |███████▏                        | 491kB 4.9MB/s eta 0:00:01\r\u001b[K     |███████▎                        | 501kB 4.9MB/s eta 0:00:01\r\u001b[K     |███████▌                        | 512kB 4.9MB/s eta 0:00:01\r\u001b[K     |███████▋                        | 522kB 4.9MB/s eta 0:00:01\r\u001b[K     |███████▊                        | 532kB 4.9MB/s eta 0:00:01\r\u001b[K     |████████                        | 542kB 4.9MB/s eta 0:00:01\r\u001b[K     |████████                        | 552kB 4.9MB/s eta 0:00:01\r\u001b[K     |████████▏                       | 563kB 4.9MB/s eta 0:00:01\r\u001b[K     |████████▍                       | 573kB 4.9MB/s eta 0:00:01\r\u001b[K     |████████▌                       | 583kB 4.9MB/s eta 0:00:01\r\u001b[K     |████████▋                       | 593kB 4.9MB/s eta 0:00:01\r\u001b[K     |████████▉                       | 604kB 4.9MB/s eta 0:00:01\r\u001b[K     |█████████                       | 614kB 4.9MB/s eta 0:00:01\r\u001b[K     |█████████                       | 624kB 4.9MB/s eta 0:00:01\r\u001b[K     |█████████▎                      | 634kB 4.9MB/s eta 0:00:01\r\u001b[K     |█████████▍                      | 645kB 4.9MB/s eta 0:00:01\r\u001b[K     |█████████▋                      | 655kB 4.9MB/s eta 0:00:01\r\u001b[K     |█████████▊                      | 665kB 4.9MB/s eta 0:00:01\r\u001b[K     |█████████▉                      | 675kB 4.9MB/s eta 0:00:01\r\u001b[K     |██████████                      | 686kB 4.9MB/s eta 0:00:01\r\u001b[K     |██████████▏                     | 696kB 4.9MB/s eta 0:00:01\r\u001b[K     |██████████▎                     | 706kB 4.9MB/s eta 0:00:01\r\u001b[K     |██████████▌                     | 716kB 4.9MB/s eta 0:00:01\r\u001b[K     |██████████▋                     | 727kB 4.9MB/s eta 0:00:01\r\u001b[K     |██████████▊                     | 737kB 4.9MB/s eta 0:00:01\r\u001b[K     |███████████                     | 747kB 4.9MB/s eta 0:00:01\r\u001b[K     |███████████                     | 757kB 4.9MB/s eta 0:00:01\r\u001b[K     |███████████▏                    | 768kB 4.9MB/s eta 0:00:01\r\u001b[K     |███████████▍                    | 778kB 4.9MB/s eta 0:00:01\r\u001b[K     |███████████▌                    | 788kB 4.9MB/s eta 0:00:01\r\u001b[K     |███████████▋                    | 798kB 4.9MB/s eta 0:00:01\r\u001b[K     |███████████▉                    | 808kB 4.9MB/s eta 0:00:01\r\u001b[K     |████████████                    | 819kB 4.9MB/s eta 0:00:01\r\u001b[K     |████████████                    | 829kB 4.9MB/s eta 0:00:01\r\u001b[K     |████████████▎                   | 839kB 4.9MB/s eta 0:00:01\r\u001b[K     |████████████▍                   | 849kB 4.9MB/s eta 0:00:01\r\u001b[K     |████████████▌                   | 860kB 4.9MB/s eta 0:00:01\r\u001b[K     |████████████▊                   | 870kB 4.9MB/s eta 0:00:01\r\u001b[K     |████████████▉                   | 880kB 4.9MB/s eta 0:00:01\r\u001b[K     |█████████████                   | 890kB 4.9MB/s eta 0:00:01\r\u001b[K     |█████████████▏                  | 901kB 4.9MB/s eta 0:00:01\r\u001b[K     |█████████████▎                  | 911kB 4.9MB/s eta 0:00:01\r\u001b[K     |█████████████▍                  | 921kB 4.9MB/s eta 0:00:01\r\u001b[K     |█████████████▋                  | 931kB 4.9MB/s eta 0:00:01\r\u001b[K     |█████████████▊                  | 942kB 4.9MB/s eta 0:00:01\r\u001b[K     |██████████████                  | 952kB 4.9MB/s eta 0:00:01\r\u001b[K     |██████████████                  | 962kB 4.9MB/s eta 0:00:01\r\u001b[K     |██████████████▏                 | 972kB 4.9MB/s eta 0:00:01\r\u001b[K     |██████████████▍                 | 983kB 4.9MB/s eta 0:00:01\r\u001b[K     |██████████████▌                 | 993kB 4.9MB/s eta 0:00:01\r\u001b[K     |██████████████▋                 | 1.0MB 4.9MB/s eta 0:00:01\r\u001b[K     |██████████████▉                 | 1.0MB 4.9MB/s eta 0:00:01\r\u001b[K     |███████████████                 | 1.0MB 4.9MB/s eta 0:00:01\r\u001b[K     |███████████████                 | 1.0MB 4.9MB/s eta 0:00:01\r\u001b[K     |███████████████▎                | 1.0MB 4.9MB/s eta 0:00:01\r\u001b[K     |███████████████▍                | 1.1MB 4.9MB/s eta 0:00:01\r\u001b[K     |███████████████▌                | 1.1MB 4.9MB/s eta 0:00:01\r\u001b[K     |███████████████▊                | 1.1MB 4.9MB/s eta 0:00:01\r\u001b[K     |███████████████▉                | 1.1MB 4.9MB/s eta 0:00:01\r\u001b[K     |████████████████                | 1.1MB 4.9MB/s eta 0:00:01\r\u001b[K     |████████████████▏               | 1.1MB 4.9MB/s eta 0:00:01\r\u001b[K     |████████████████▎               | 1.1MB 4.9MB/s eta 0:00:01\r\u001b[K     |████████████████▍               | 1.1MB 4.9MB/s eta 0:00:01\r\u001b[K     |████████████████▋               | 1.1MB 4.9MB/s eta 0:00:01\r\u001b[K     |████████████████▊               | 1.1MB 4.9MB/s eta 0:00:01\r\u001b[K     |████████████████▉               | 1.2MB 4.9MB/s eta 0:00:01\r\u001b[K     |█████████████████               | 1.2MB 4.9MB/s eta 0:00:01\r\u001b[K     |█████████████████▏              | 1.2MB 4.9MB/s eta 0:00:01\r\u001b[K     |█████████████████▎              | 1.2MB 4.9MB/s eta 0:00:01\r\u001b[K     |█████████████████▌              | 1.2MB 4.9MB/s eta 0:00:01\r\u001b[K     |█████████████████▋              | 1.2MB 4.9MB/s eta 0:00:01\r\u001b[K     |█████████████████▊              | 1.2MB 4.9MB/s eta 0:00:01\r\u001b[K     |██████████████████              | 1.2MB 4.9MB/s eta 0:00:01\r\u001b[K     |██████████████████              | 1.2MB 4.9MB/s eta 0:00:01\r\u001b[K     |██████████████████▏             | 1.2MB 4.9MB/s eta 0:00:01\r\u001b[K     |██████████████████▍             | 1.3MB 4.9MB/s eta 0:00:01\r\u001b[K     |██████████████████▌             | 1.3MB 4.9MB/s eta 0:00:01\r\u001b[K     |██████████████████▊             | 1.3MB 4.9MB/s eta 0:00:01\r\u001b[K     |██████████████████▉             | 1.3MB 4.9MB/s eta 0:00:01\r\u001b[K     |███████████████████             | 1.3MB 4.9MB/s eta 0:00:01\r\u001b[K     |███████████████████▏            | 1.3MB 4.9MB/s eta 0:00:01\r\u001b[K     |███████████████████▎            | 1.3MB 4.9MB/s eta 0:00:01\r\u001b[K     |███████████████████▍            | 1.3MB 4.9MB/s eta 0:00:01\r\u001b[K     |███████████████████▋            | 1.3MB 4.9MB/s eta 0:00:01\r\u001b[K     |███████████████████▊            | 1.4MB 4.9MB/s eta 0:00:01\r\u001b[K     |███████████████████▉            | 1.4MB 4.9MB/s eta 0:00:01\r\u001b[K     |████████████████████            | 1.4MB 4.9MB/s eta 0:00:01\r\u001b[K     |████████████████████▏           | 1.4MB 4.9MB/s eta 0:00:01\r\u001b[K     |████████████████████▎           | 1.4MB 4.9MB/s eta 0:00:01\r\u001b[K     |████████████████████▌           | 1.4MB 4.9MB/s eta 0:00:01\r\u001b[K     |████████████████████▋           | 1.4MB 4.9MB/s eta 0:00:01\r\u001b[K     |████████████████████▊           | 1.4MB 4.9MB/s eta 0:00:01\r\u001b[K     |█████████████████████           | 1.4MB 4.9MB/s eta 0:00:01\r\u001b[K     |█████████████████████           | 1.4MB 4.9MB/s eta 0:00:01\r\u001b[K     |█████████████████████▏          | 1.5MB 4.9MB/s eta 0:00:01\r\u001b[K     |█████████████████████▍          | 1.5MB 4.9MB/s eta 0:00:01\r\u001b[K     |█████████████████████▌          | 1.5MB 4.9MB/s eta 0:00:01\r\u001b[K     |█████████████████████▋          | 1.5MB 4.9MB/s eta 0:00:01\r\u001b[K     |█████████████████████▉          | 1.5MB 4.9MB/s eta 0:00:01\r\u001b[K     |██████████████████████          | 1.5MB 4.9MB/s eta 0:00:01\r\u001b[K     |██████████████████████          | 1.5MB 4.9MB/s eta 0:00:01\r\u001b[K     |██████████████████████▎         | 1.5MB 4.9MB/s eta 0:00:01\r\u001b[K     |██████████████████████▍         | 1.5MB 4.9MB/s eta 0:00:01\r\u001b[K     |██████████████████████▌         | 1.5MB 4.9MB/s eta 0:00:01\r\u001b[K     |██████████████████████▊         | 1.6MB 4.9MB/s eta 0:00:01\r\u001b[K     |██████████████████████▉         | 1.6MB 4.9MB/s eta 0:00:01\r\u001b[K     |███████████████████████         | 1.6MB 4.9MB/s eta 0:00:01\r\u001b[K     |███████████████████████▏        | 1.6MB 4.9MB/s eta 0:00:01\r\u001b[K     |███████████████████████▎        | 1.6MB 4.9MB/s eta 0:00:01\r\u001b[K     |███████████████████████▌        | 1.6MB 4.9MB/s eta 0:00:01\r\u001b[K     |███████████████████████▋        | 1.6MB 4.9MB/s eta 0:00:01\r\u001b[K     |███████████████████████▊        | 1.6MB 4.9MB/s eta 0:00:01\r\u001b[K     |████████████████████████        | 1.6MB 4.9MB/s eta 0:00:01\r\u001b[K     |████████████████████████        | 1.6MB 4.9MB/s eta 0:00:01\r\u001b[K     |████████████████████████▏       | 1.7MB 4.9MB/s eta 0:00:01\r\u001b[K     |████████████████████████▍       | 1.7MB 4.9MB/s eta 0:00:01\r\u001b[K     |████████████████████████▌       | 1.7MB 4.9MB/s eta 0:00:01\r\u001b[K     |████████████████████████▋       | 1.7MB 4.9MB/s eta 0:00:01\r\u001b[K     |████████████████████████▉       | 1.7MB 4.9MB/s eta 0:00:01\r\u001b[K     |█████████████████████████       | 1.7MB 4.9MB/s eta 0:00:01\r\u001b[K     |█████████████████████████       | 1.7MB 4.9MB/s eta 0:00:01\r\u001b[K     |█████████████████████████▎      | 1.7MB 4.9MB/s eta 0:00:01\r\u001b[K     |█████████████████████████▍      | 1.7MB 4.9MB/s eta 0:00:01\r\u001b[K     |█████████████████████████▌      | 1.8MB 4.9MB/s eta 0:00:01\r\u001b[K     |█████████████████████████▊      | 1.8MB 4.9MB/s eta 0:00:01\r\u001b[K     |█████████████████████████▉      | 1.8MB 4.9MB/s eta 0:00:01\r\u001b[K     |██████████████████████████      | 1.8MB 4.9MB/s eta 0:00:01\r\u001b[K     |██████████████████████████▏     | 1.8MB 4.9MB/s eta 0:00:01\r\u001b[K     |██████████████████████████▎     | 1.8MB 4.9MB/s eta 0:00:01\r\u001b[K     |██████████████████████████▍     | 1.8MB 4.9MB/s eta 0:00:01\r\u001b[K     |██████████████████████████▋     | 1.8MB 4.9MB/s eta 0:00:01\r\u001b[K     |██████████████████████████▊     | 1.8MB 4.9MB/s eta 0:00:01\r\u001b[K     |██████████████████████████▉     | 1.8MB 4.9MB/s eta 0:00:01\r\u001b[K     |███████████████████████████     | 1.9MB 4.9MB/s eta 0:00:01\r\u001b[K     |███████████████████████████▏    | 1.9MB 4.9MB/s eta 0:00:01\r\u001b[K     |███████████████████████████▎    | 1.9MB 4.9MB/s eta 0:00:01\r\u001b[K     |███████████████████████████▌    | 1.9MB 4.9MB/s eta 0:00:01\r\u001b[K     |███████████████████████████▋    | 1.9MB 4.9MB/s eta 0:00:01\r\u001b[K     |███████████████████████████▉    | 1.9MB 4.9MB/s eta 0:00:01\r\u001b[K     |████████████████████████████    | 1.9MB 4.9MB/s eta 0:00:01\r\u001b[K     |████████████████████████████    | 1.9MB 4.9MB/s eta 0:00:01\r\u001b[K     |████████████████████████████▎   | 1.9MB 4.9MB/s eta 0:00:01\r\u001b[K     |████████████████████████████▍   | 1.9MB 4.9MB/s eta 0:00:01\r\u001b[K     |████████████████████████████▌   | 2.0MB 4.9MB/s eta 0:00:01\r\u001b[K     |████████████████████████████▊   | 2.0MB 4.9MB/s eta 0:00:01\r\u001b[K     |████████████████████████████▉   | 2.0MB 4.9MB/s eta 0:00:01\r\u001b[K     |█████████████████████████████   | 2.0MB 4.9MB/s eta 0:00:01\r\u001b[K     |█████████████████████████████▏  | 2.0MB 4.9MB/s eta 0:00:01\r\u001b[K     |█████████████████████████████▎  | 2.0MB 4.9MB/s eta 0:00:01\r\u001b[K     |█████████████████████████████▍  | 2.0MB 4.9MB/s eta 0:00:01\r\u001b[K     |█████████████████████████████▋  | 2.0MB 4.9MB/s eta 0:00:01\r\u001b[K     |█████████████████████████████▊  | 2.0MB 4.9MB/s eta 0:00:01\r\u001b[K     |█████████████████████████████▉  | 2.0MB 4.9MB/s eta 0:00:01\r\u001b[K     |██████████████████████████████  | 2.1MB 4.9MB/s eta 0:00:01\r\u001b[K     |██████████████████████████████▏ | 2.1MB 4.9MB/s eta 0:00:01\r\u001b[K     |██████████████████████████████▎ | 2.1MB 4.9MB/s eta 0:00:01\r\u001b[K     |██████████████████████████████▌ | 2.1MB 4.9MB/s eta 0:00:01\r\u001b[K     |██████████████████████████████▋ | 2.1MB 4.9MB/s eta 0:00:01\r\u001b[K     |██████████████████████████████▊ | 2.1MB 4.9MB/s eta 0:00:01\r\u001b[K     |███████████████████████████████ | 2.1MB 4.9MB/s eta 0:00:01\r\u001b[K     |███████████████████████████████ | 2.1MB 4.9MB/s eta 0:00:01\r\u001b[K     |███████████████████████████████▏| 2.1MB 4.9MB/s eta 0:00:01\r\u001b[K     |███████████████████████████████▍| 2.2MB 4.9MB/s eta 0:00:01\r\u001b[K     |███████████████████████████████▌| 2.2MB 4.9MB/s eta 0:00:01\r\u001b[K     |███████████████████████████████▋| 2.2MB 4.9MB/s eta 0:00:01\r\u001b[K     |███████████████████████████████▉| 2.2MB 4.9MB/s eta 0:00:01\r\u001b[K     |████████████████████████████████| 2.2MB 4.9MB/s eta 0:00:01\r\u001b[K     |████████████████████████████████| 2.2MB 4.9MB/s \n",
            "\u001b[?25hRequirement already satisfied: numpy in /usr/local/lib/python3.6/dist-packages (from biopython) (1.16.5)\n",
            "Installing collected packages: biopython\n",
            "Successfully installed biopython-1.74\n",
            "3.6.8 (default, Jan 14 2019, 11:02:34) \n",
            "[GCC 8.0.1 20180414 (experimental) [trunk revision 259383]]\n"
          ],
          "name": "stdout"
        }
      ]
    },
    {
      "cell_type": "markdown",
      "metadata": {
        "id": "kuLXqQJo0YGs",
        "colab_type": "text"
      },
      "source": [
        "####Task 22 RNA Splicing"
      ]
    },
    {
      "cell_type": "markdown",
      "metadata": {
        "id": "-MzxQbFyn_IK",
        "colab_type": "text"
      },
      "source": [
        "**Problem**\n",
        "After identifying the exons and introns of an RNA string, we only need to delete the introns and concatenate the exons to form a new string ready for translation.\n",
        "\n",
        "Given: A DNA string s (of length at most 1 kbp) and a collection of substrings of s acting as introns. All strings are given in FASTA format.\n",
        "\n",
        "Return: A protein string resulting from transcribing and translating the exons of s. (Note: Only one solution will exist for the dataset provided.)"
      ]
    },
    {
      "cell_type": "code",
      "metadata": {
        "id": "dW-pCMQD0leK",
        "colab_type": "code",
        "colab": {}
      },
      "source": [
        "dna_string = Seq('ATGGTCTACATAGCTGACAAACAGCACGTAGCAATCGGTCGAATCTCGAGAGGCATATGGTCACATGATCGGTCGAGCGTGTTTCAAAGTTTGCGCCTAG')\n",
        "introns = [Seq('ATCGGTCGAA'), Seq('ATCGGTCGAGCGTGT')]"
      ],
      "execution_count": 0,
      "outputs": []
    },
    {
      "cell_type": "code",
      "metadata": {
        "id": "4DDFkW3p4A4E",
        "colab_type": "code",
        "outputId": "91bb61c7-139b-410f-b4b1-452bcfd244d0",
        "colab": {
          "base_uri": "https://localhost:8080/",
          "height": 34
        }
      },
      "source": [
        "dna_string.find(introns[2])"
      ],
      "execution_count": 0,
      "outputs": [
        {
          "output_type": "execute_result",
          "data": {
            "text/plain": [
              "901"
            ]
          },
          "metadata": {
            "tags": []
          },
          "execution_count": 41
        }
      ]
    },
    {
      "cell_type": "code",
      "metadata": {
        "id": "VVbIydET-ZF0",
        "colab_type": "code",
        "outputId": "95a0cda2-87ef-4bc0-d1d2-6113115bc931",
        "colab": {
          "base_uri": "https://localhost:8080/",
          "height": 34
        }
      },
      "source": [
        "!ls"
      ],
      "execution_count": 0,
      "outputs": [
        {
          "output_type": "stream",
          "text": [
            "rosalind_splc.txt  sample_data\n"
          ],
          "name": "stdout"
        }
      ]
    },
    {
      "cell_type": "code",
      "metadata": {
        "id": "SjfYZzP184oi",
        "colab_type": "code",
        "outputId": "8d49a0af-15e5-4fe1-bbb6-13ea368df0fa",
        "colab": {
          "base_uri": "https://localhost:8080/",
          "height": 34
        }
      },
      "source": [
        "records = []\n",
        "rosalind_file = 'rosalind_splc.txt'\n",
        "with open(rosalind_file, 'r') as inf:\n",
        "    for record in SeqIO.parse(inf, \"fasta\"):        \n",
        "        records.append(record.seq)\n",
        "dna_string = records[0]\n",
        "introns = records[1:]\n",
        "print(\"length = \", len(dna_string), 'introns = ', len(introns))"
      ],
      "execution_count": 0,
      "outputs": [
        {
          "output_type": "stream",
          "text": [
            "length =  1000 introns =  15\n"
          ],
          "name": "stdout"
        }
      ]
    },
    {
      "cell_type": "code",
      "metadata": {
        "id": "YHjSoUK44Xj9",
        "colab_type": "code",
        "outputId": "03189281-7dd9-457b-a991-e02dee6714a6",
        "colab": {
          "base_uri": "https://localhost:8080/",
          "height": 54
        }
      },
      "source": [
        "for cnt, intron in enumerate(introns):\n",
        "    #print('intron num =', cnt)\n",
        "    #print('intron pos =', dna_string.find(intron))\n",
        "    while dna_string.find(intron) != -1:\n",
        "        #print('intron pos =', dna_string.find(intron), 'intron length = ', len(intron))\n",
        "        dna_string = dna_string[0:dna_string.find(intron)] + dna_string[dna_string.find(intron) + len(intron):]\n",
        "\n",
        "protein = dna_string.translate(to_stop=True)\n",
        "print(str(protein))"
      ],
      "execution_count": 0,
      "outputs": [
        {
          "output_type": "stream",
          "text": [
            "MGQASNNSLTYDTVISHRRSLASISGLPHAMFKRPIPDSLTANLQRVSSGGTFGNLALREYTLVLQVRLSRGSCCRQTTGFHTIAQGVPCSRIPSKHKYGFYKTQHAKSDLHSCCDSRGGLVVVVRREPNISEGIGVCEALVAISWGNEIPVVQFPRILSRAVFISSQGVSQISTPYMALVLWWS\n"
          ],
          "name": "stdout"
        }
      ]
    },
    {
      "cell_type": "markdown",
      "metadata": {
        "id": "ZKOVHEwh8hP4",
        "colab_type": "text"
      },
      "source": [
        "####Task 23 Enumerating k-mers Lexicographically"
      ]
    },
    {
      "cell_type": "markdown",
      "metadata": {
        "id": "SUnOHGtfoLK4",
        "colab_type": "text"
      },
      "source": [
        "**Problem**\n",
        "Assume that an alphabet A has a predetermined order; that is, we write the alphabet as a permutation A=(a1,a2,…,ak), where a1<a2<⋯<ak. For instance, the English alphabet is organized as (A,B,…,Z).\n",
        "\n",
        "Given two strings s and t having the same length n, we say that s precedes t in the lexicographic order (and write s<Lext) if the first symbol s[j] that doesn't match t[j] satisfies sj<tj in A.\n",
        "\n",
        "Given: A collection of at most 10 symbols defining an ordered alphabet, and a positive integer n (n≤10).\n",
        "\n",
        "Return: All strings of length n that can be formed from the alphabet, ordered lexicographically (use the standard order of symbols in the English alphabet)."
      ]
    },
    {
      "cell_type": "code",
      "metadata": {
        "id": "Q3Nb8zZ8hn53",
        "colab_type": "code",
        "colab": {}
      },
      "source": [
        "alphabet = ['A', 'C', 'G', 'T']\n",
        "N = 2"
      ],
      "execution_count": 0,
      "outputs": []
    },
    {
      "cell_type": "code",
      "metadata": {
        "id": "WrSqlbpLjDDu",
        "colab_type": "code",
        "colab": {}
      },
      "source": [
        "from itertools import combinations_with_replacement, permutations, product"
      ],
      "execution_count": 0,
      "outputs": []
    },
    {
      "cell_type": "code",
      "metadata": {
        "id": "aaBVQu-54mxB",
        "colab_type": "code",
        "colab": {}
      },
      "source": [
        "rosalind = 'ABCDEF'\n",
        "ordered=[]\n",
        "for i in range(len(rosalind)):    \n",
        "    for item in combinations_with_replacement(rosalind, 3):\n",
        "        string = ''.join(item)\n",
        "        if string[0] == rosalind[0]:\n",
        "            ordered.append(''.join(item))\n",
        "    rosalind = rosalind[1:] + rosalind[0]\n",
        "    #print('rosalind =', rosalind)"
      ],
      "execution_count": 0,
      "outputs": []
    },
    {
      "cell_type": "code",
      "metadata": {
        "id": "Hr5hIQMlIb8q",
        "colab_type": "code",
        "colab": {}
      },
      "source": [
        "rosalind = 'ABCD'\n",
        "for perm in product(rosalind, repeat=4):\n",
        "    print(''.join(perm))"
      ],
      "execution_count": 0,
      "outputs": []
    },
    {
      "cell_type": "markdown",
      "metadata": {
        "id": "zlCOECK1O53A",
        "colab_type": "text"
      },
      "source": [
        "####Task 24 Longest Increasing Subsequence"
      ]
    },
    {
      "cell_type": "markdown",
      "metadata": {
        "id": "xtV6Y0cAoh4s",
        "colab_type": "text"
      },
      "source": [
        "**Problem**\n",
        "A subsequence of a permutation is a collection of elements of the permutation in the order that they appear. For example, (5, 3, 4) is a subsequence of (5, 1, 3, 4, 2).\n",
        "\n",
        "A subsequence is increasing if the elements of the subsequence increase, and decreasing if the elements decrease. For example, given the permutation (8, 2, 1, 6, 5, 7, 4, 3, 9), an increasing subsequence is (2, 6, 7, 9), and a decreasing subsequence is (8, 6, 5, 4, 3). You may verify that these two subsequences are as long as possible.\n",
        "\n",
        "Given: A positive integer n≤10000 followed by a permutation π of length n.\n",
        "\n",
        "Return: A longest increasing subsequence of π, followed by a longest decreasing subsequence of π."
      ]
    },
    {
      "cell_type": "code",
      "metadata": {
        "id": "tu-q7jV8P4gt",
        "colab_type": "code",
        "outputId": "ca851e06-682c-427a-ea73-0cf7b01e91be",
        "colab": {
          "base_uri": "https://localhost:8080/",
          "height": 34
        }
      },
      "source": [
        "!ls"
      ],
      "execution_count": 0,
      "outputs": [
        {
          "output_type": "stream",
          "text": [
            "rosalind_lgis.txt  sample_data\n"
          ],
          "name": "stdout"
        }
      ]
    },
    {
      "cell_type": "code",
      "metadata": {
        "id": "L3-q2tH1TOli",
        "colab_type": "code",
        "colab": {}
      },
      "source": [
        "import numpy as np\n",
        "import networkx as nx\n",
        "import matplotlib.pyplot as plt"
      ],
      "execution_count": 0,
      "outputs": []
    },
    {
      "cell_type": "code",
      "metadata": {
        "id": "mQVOVzDTywZR",
        "colab_type": "code",
        "outputId": "031e6ae5-4017-4764-92ee-5239fcd01f73",
        "colab": {
          "base_uri": "https://localhost:8080/",
          "height": 34
        }
      },
      "source": [
        "inc_net = nx.DiGraph()\n",
        "type(inc_net)"
      ],
      "execution_count": 0,
      "outputs": [
        {
          "output_type": "execute_result",
          "data": {
            "text/plain": [
              "networkx.classes.digraph.DiGraph"
            ]
          },
          "metadata": {
            "tags": []
          },
          "execution_count": 12
        }
      ]
    },
    {
      "cell_type": "code",
      "metadata": {
        "id": "fFkpwVhTDHcy",
        "colab_type": "code",
        "colab": {}
      },
      "source": [
        "ros_list = [5, 1, 4, 2, 3]\n",
        "ros_ind = [2, 4, 5, 3, 1]\n",
        "array = np.zeros(len(ros_list) + 1)\n",
        "for num, element in enumerate(ros_list):\n",
        "    if num < 10:\n",
        "        print (element, num)\n",
        "    if element == 0:\n",
        "        print ('0', element, num)\n",
        "    array[element] = int(num)"
      ],
      "execution_count": 0,
      "outputs": []
    },
    {
      "cell_type": "code",
      "metadata": {
        "id": "bGbzm_FzFgFL",
        "colab_type": "code",
        "colab": {}
      },
      "source": [
        "my_edges = [(i + 1, ros_list[int(v)])  for i in range(1, len(ros_list) - 1) for v in array[i + 1:] if v > array[i]] \n",
        "my_edges_dec = [(i, ros_list[int(v)])  for i in range(len(ros_list), 1, -1) for v in array[1:i] if v > array[i]] "
      ],
      "execution_count": 0,
      "outputs": []
    },
    {
      "cell_type": "code",
      "metadata": {
        "id": "jrzYJWgoyK43",
        "colab_type": "code",
        "colab": {}
      },
      "source": [
        "my_edges = []\n",
        "print(array)\n",
        "for i in range(len(ros_list), 1, -1):\n",
        "    print ('i = ', i )\n",
        "    for v in array[1:i]:\n",
        "        print('v = ', array[1:i])\n",
        "        if v > array[i]:\n",
        "            print('int(v) = ', int(v))\n",
        "            my_edges.append((i, ros_list[int(v)]))\n",
        "            print ('add = ', i, ros_list[int(v)])\n",
        "            #print (i + 1, ros_list[v - 1])\n",
        "print(my_edges)"
      ],
      "execution_count": 0,
      "outputs": []
    },
    {
      "cell_type": "code",
      "metadata": {
        "id": "a8PIz_K3DRtZ",
        "colab_type": "code",
        "colab": {}
      },
      "source": [
        "inc_net.add_nodes_from(ros_list)\n",
        "inc_net.add_edges_from(my_edges)"
      ],
      "execution_count": 0,
      "outputs": []
    },
    {
      "cell_type": "code",
      "metadata": {
        "id": "2cdRAVJtDuG3",
        "colab_type": "code",
        "outputId": "50cacdfa-0a1f-4c3f-e487-5ac13378dde4",
        "colab": {
          "base_uri": "https://localhost:8080/",
          "height": 319
        }
      },
      "source": [
        "nx.draw(inc_net, with_labels=True, font_weight='bold')"
      ],
      "execution_count": 0,
      "outputs": [
        {
          "output_type": "display_data",
          "data": {
            "image/png": "[encoded data removed]",
            "text/plain": [
              "<Figure size 432x288 with 1 Axes>"
            ]
          },
          "metadata": {
            "tags": []
          }
        }
      ]
    },
    {
      "cell_type": "code",
      "metadata": {
        "id": "OS_uGuVGIGE-",
        "colab_type": "code",
        "outputId": "008a8739-689f-43a5-e076-21dee4646490",
        "colab": {
          "base_uri": "https://localhost:8080/",
          "height": 34
        }
      },
      "source": [
        "nx.dag_longest_path(inc_net)"
      ],
      "execution_count": 0,
      "outputs": [
        {
          "output_type": "execute_result",
          "data": {
            "text/plain": [
              "[5, 4, 3]"
            ]
          },
          "metadata": {
            "tags": []
          },
          "execution_count": 37
        }
      ]
    },
    {
      "cell_type": "code",
      "metadata": {
        "id": "SLCocC9BPJBB",
        "colab_type": "code",
        "colab": {}
      },
      "source": [
        "records = []\n",
        "rosalind_file = 'rosalind_lgis.txt'\n",
        "with open(rosalind_file, 'r') as inf:\n",
        "    for line in inf:\n",
        "        l = line.strip().split()\n",
        "        records = line.strip().split() \n",
        "        #print(line.strip().split())\n",
        "        \n",
        "    #records = inf.read()\n",
        "    #for record in inf:        \n",
        "    #    records.append(record)\n",
        "    "
      ],
      "execution_count": 0,
      "outputs": []
    },
    {
      "cell_type": "code",
      "metadata": {
        "id": "MG2w90lJQK9N",
        "colab_type": "code",
        "outputId": "028c9863-96ac-494a-e6c4-4fcbfa167440",
        "colab": {
          "base_uri": "https://localhost:8080/",
          "height": 191
        }
      },
      "source": [
        "ros_list = []\n",
        "for element in records:\n",
        "    #print (int(element))\n",
        "    ros_list.append(int(element))\n",
        "    \n",
        "array = np.zeros(len(ros_list) + 1)\n",
        "\n",
        "for num, element in enumerate(ros_list):\n",
        "    if num < 10:\n",
        "        print (element, num)\n",
        "    if element == 0:\n",
        "        print ('0', element, num)\n",
        "    array[element] = int(num)"
      ],
      "execution_count": 0,
      "outputs": [
        {
          "output_type": "stream",
          "text": [
            "3757 0\n",
            "1527 1\n",
            "7884 2\n",
            "5156 3\n",
            "7571 4\n",
            "4354 5\n",
            "8079 6\n",
            "3453 7\n",
            "3903 8\n",
            "7313 9\n"
          ],
          "name": "stdout"
        }
      ]
    },
    {
      "cell_type": "code",
      "metadata": {
        "id": "WVQi88nKAmfp",
        "colab_type": "code",
        "outputId": "1655f792-96b3-468e-8bc6-90f56a4cb95b",
        "colab": {
          "base_uri": "https://localhost:8080/",
          "height": 34
        }
      },
      "source": [
        "array"
      ],
      "execution_count": 0,
      "outputs": [
        {
          "output_type": "execute_result",
          "data": {
            "text/plain": [
              "array([0., 1., 3., 4., 2., 0.])"
            ]
          },
          "metadata": {
            "tags": []
          },
          "execution_count": 63
        }
      ]
    },
    {
      "cell_type": "code",
      "metadata": {
        "id": "GRuRuxzQW5vV",
        "colab_type": "code",
        "colab": {}
      },
      "source": [
        "my_edges = []\n",
        "my_edges = [(i, ros_list[int(v)])  for i in range(1, len(ros_list) - 1) for v in array[i + 1:] if v > array[i]]   "
      ],
      "execution_count": 0,
      "outputs": []
    },
    {
      "cell_type": "code",
      "metadata": {
        "id": "kBrURSODP0eC",
        "colab_type": "code",
        "colab": {}
      },
      "source": [
        "inc_net = nx.DiGraph()\n",
        "type(inc_net)\n",
        "inc_net.add_nodes_from(ros_list)\n",
        "inc_net.add_edges_from(my_edges)"
      ],
      "execution_count": 0,
      "outputs": []
    },
    {
      "cell_type": "code",
      "metadata": {
        "id": "QEqYfpFcQA7i",
        "colab_type": "code",
        "colab": {}
      },
      "source": [
        "#nx.draw(inc_net, with_labels=True, font_weight='bold')"
      ],
      "execution_count": 0,
      "outputs": []
    },
    {
      "cell_type": "code",
      "metadata": {
        "id": "fLhOORv4QDdM",
        "colab_type": "code",
        "colab": {}
      },
      "source": [
        "inc_path = nx.dag_longest_path(inc_net)"
      ],
      "execution_count": 0,
      "outputs": []
    },
    {
      "cell_type": "code",
      "metadata": {
        "id": "x0NzdJDzI7_O",
        "colab_type": "code",
        "colab": {}
      },
      "source": [
        "inc_path"
      ],
      "execution_count": 0,
      "outputs": []
    },
    {
      "cell_type": "code",
      "metadata": {
        "id": "vJJfKSAGI9q6",
        "colab_type": "code",
        "outputId": "b421d027-0221-4b71-9a12-8ac329cf6a4e",
        "colab": {
          "base_uri": "https://localhost:8080/",
          "height": 34
        }
      },
      "source": [
        "len(inc_path)"
      ],
      "execution_count": 0,
      "outputs": [
        {
          "output_type": "execute_result",
          "data": {
            "text/plain": [
              "180"
            ]
          },
          "metadata": {
            "tags": []
          },
          "execution_count": 8
        }
      ]
    },
    {
      "cell_type": "code",
      "metadata": {
        "id": "v1dTdeKhIHO1",
        "colab_type": "code",
        "outputId": "3386d64d-347a-410b-ba24-96d147584944",
        "colab": {
          "base_uri": "https://localhost:8080/",
          "height": 54
        }
      },
      "source": [
        "path_i = ''\n",
        "for part in inc_path:\n",
        "    print (part, end = ' ')"
      ],
      "execution_count": 0,
      "outputs": [
        {
          "output_type": "stream",
          "text": [
            "16 64 329 388 406 407 473 479 534 635 649 704 725 805 860 885 904 911 975 1149 1188 1194 1407 1428 1539 1669 1696 1778 1802 1806 1854 1898 1983 2019 2032 2050 2118 2322 2348 2360 2401 2412 2541 2718 2726 2808 2862 2898 3000 3110 3162 3182 3258 3310 3343 3398 3408 3409 3488 3616 3645 3664 3668 3680 3681 3682 3729 3749 3846 3974 4022 4087 4112 4146 4167 4251 4316 4331 4340 4490 4568 4625 4734 4800 4801 4821 4853 4870 4997 5045 5059 5063 5107 5185 5396 5417 5435 5437 5482 5566 5657 5669 5684 5691 5745 5765 5796 5883 5889 5900 5912 5960 5978 6010 6159 6174 6209 6211 6289 6337 6364 6378 6386 6447 6452 6563 6570 6571 6597 6612 6689 6700 6742 6790 6896 6926 6971 7011 7027 7033 7041 7049 7071 7136 7159 7166 7225 7252 7295 7356 7381 7430 7432 7489 7515 7521 7542 7648 7662 7725 7745 7765 7777 7800 7804 7867 7908 7961 7976 7992 8047 8147 8164 8197 8321 8462 8546 8634 8694 8809 "
          ],
          "name": "stdout"
        }
      ]
    },
    {
      "cell_type": "code",
      "metadata": {
        "id": "9hoGCJ99Q1Q7",
        "colab_type": "code",
        "colab": {}
      },
      "source": [
        "my_edges_dec = []\n",
        "my_edges_dec = [(i, ros_list[int(v)])  for i in range(len(ros_list), 1, -1) for v in array[1:i] if v > array[i]] "
      ],
      "execution_count": 0,
      "outputs": []
    },
    {
      "cell_type": "code",
      "metadata": {
        "id": "fRFwkChMQ8aK",
        "colab_type": "code",
        "colab": {}
      },
      "source": [
        "dec_net = nx.DiGraph()\n",
        "type(dec_net)\n",
        "dec_net.add_nodes_from(ros_list)\n",
        "dec_net.add_edges_from(my_edges_dec)"
      ],
      "execution_count": 0,
      "outputs": []
    },
    {
      "cell_type": "code",
      "metadata": {
        "id": "ESU9mVs2RSFd",
        "colab_type": "code",
        "colab": {}
      },
      "source": [
        "dec_path = nx.dag_longest_path(dec_net)"
      ],
      "execution_count": 0,
      "outputs": []
    },
    {
      "cell_type": "code",
      "metadata": {
        "id": "3vuhQqI2RW_2",
        "colab_type": "code",
        "outputId": "052dba7c-9940-4fd6-e36b-70bd45dc892c",
        "colab": {
          "base_uri": "https://localhost:8080/",
          "height": 34
        }
      },
      "source": [
        "len(dec_path)"
      ],
      "execution_count": 0,
      "outputs": [
        {
          "output_type": "execute_result",
          "data": {
            "text/plain": [
              "181"
            ]
          },
          "metadata": {
            "tags": []
          },
          "execution_count": 7
        }
      ]
    },
    {
      "cell_type": "code",
      "metadata": {
        "id": "zQtqQ_WMRcXQ",
        "colab_type": "code",
        "outputId": "08da65a2-4dcf-488e-f6a7-22def4e08a03",
        "colab": {
          "base_uri": "https://localhost:8080/",
          "height": 54
        }
      },
      "source": [
        "path_d = ''\n",
        "for part in dec_path:\n",
        "    print (part, end = ' ')"
      ],
      "execution_count": 0,
      "outputs": [
        {
          "output_type": "stream",
          "text": [
            "8763 8753 8723 8719 8614 8593 8587 8476 8466 8448 8403 8400 8387 8356 8353 8308 8252 8187 8171 8140 8093 8005 7968 7960 7955 7953 7934 7861 7825 7781 7764 7750 7732 7731 7685 7684 7614 7477 7459 7454 7440 7406 7387 7379 7334 7315 7291 7186 7171 7127 7114 7081 7013 6985 6861 6741 6736 6617 6587 6584 6454 6404 6336 6323 6103 6071 6034 5990 5877 5815 5761 5758 5595 5487 5462 5380 5268 5240 4875 4853 4819 4559 4501 4469 4467 4311 4121 4120 4062 3995 3990 3955 3946 3897 3802 3687 3669 3655 3646 3618 3600 3511 3510 3463 3368 3361 3326 3281 3226 3128 2942 2919 2886 2875 2865 2863 2857 2805 2800 2795 2782 2667 2654 2640 2498 2417 2408 2379 2351 2334 2314 2308 2134 2096 2015 1818 1681 1678 1645 1640 1599 1585 1563 1540 1518 1430 1352 1338 1291 1288 1266 1261 1256 1251 1245 1209 1093 1072 1026 982 943 934 856 850 791 785 783 729 671 617 614 613 587 578 465 432 351 297 283 242 157 "
          ],
          "name": "stdout"
        }
      ]
    }
  ]
}